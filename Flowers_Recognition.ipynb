{
  "nbformat": 4,
  "nbformat_minor": 0,
  "metadata": {
    "colab": {
      "name": "Flowers_Recognition.ipynb",
      "provenance": []
    },
    "kernelspec": {
      "name": "python3",
      "display_name": "Python 3"
    }
  },
  "cells": [
    {
      "cell_type": "markdown",
      "metadata": {
        "id": "BXgJ6uT1NydQ"
      },
      "source": [
        "Assignment: Flowers Recognition <br>\n",
        "Dataset Description:<br>\n",
        "\n",
        "This dataset contains 4242 images of flowers.<br>\n",
        "The data collection is based on the data flicr, google images, yandex images.<br>\n",
        "You can use this datastet to recognize plants from the photo.<br>\n",
        "\n",
        "Attribute Information:<br>\n",
        "The pictures are divided into five classes: chamomile, tulip, rose, sunflower, dandelion.<br>\n",
        "For each class there are about 800 photos. Photos are not high resolution, about 320x240 pixels. <br>\n",
        "<b>Also explore how to resize images in tensorflow and then resize all the images to a same size. </b> <br>\n",
        "This is a Multiclass Classification Problem.<br>\n",
        "\n",
        "\n"
      ]
    },
    {
      "cell_type": "markdown",
      "metadata": {
        "id": "T7vy-ktuOKJH"
      },
      "source": [
        "WORKFLOW : <br>\n",
        "Load Data <br>\n",
        "Split into 60 and 40 ratio.<br>\n",
        "Encode labels.<br>\n",
        "Create Model<br>\n",
        "Compilation Step (Note : Its a Multiclass Classification problem , select loss , metrics according to it)<br>\n",
        "Train the Model.<br>\n",
        "If the model gets overfit tune your model by changing the units , No. of layers , epochs , add dropout layer or add Regularizer according to the need .<br>\n",
        "Prediction should be > 85%<br>\n",
        "Evaluation Step<br>\n",
        "Prediction<br>\n",
        "\n",
        "\n"
      ]
    },
    {
      "cell_type": "markdown",
      "metadata": {
        "id": "ri3Bg5qfPRic"
      },
      "source": [
        "Data : <br>\n",
        "https://drive.google.com/file/d/1-OX6wn5gA-bJpjPNfSyaYQLz-A-AB_uj/view?usp=sharing"
      ]
    },
    {
      "cell_type": "markdown",
      "metadata": {
        "id": "gz80G4laWuQi"
      },
      "source": [
        "***Import Libraries***"
      ]
    },
    {
      "cell_type": "code",
      "metadata": {
        "id": "hTtg3WuGTA1o"
      },
      "source": [
        "import numpy as np\n",
        "import pandas as pd\n",
        "import matplotlib.pyplot as plt\n",
        "import seaborn as sns\n",
        "import tensorflow as tf\n",
        "import cv2\n",
        "import pathlib\n",
        "from pathlib import Path"
      ],
      "execution_count": 1,
      "outputs": []
    },
    {
      "cell_type": "markdown",
      "metadata": {
        "id": "6yKBrcdqXcnA"
      },
      "source": [
        "***Drive Mount***"
      ]
    },
    {
      "cell_type": "code",
      "metadata": {
        "colab": {
          "base_uri": "https://localhost:8080/"
        },
        "id": "z4fQAXYKWrhi",
        "outputId": "1d0121e4-ff2b-4c4e-e8c1-42d65999f97f"
      },
      "source": [
        "from google.colab import drive\n",
        "drive.mount('/content/drive')"
      ],
      "execution_count": 2,
      "outputs": [
        {
          "output_type": "stream",
          "text": [
            "Drive already mounted at /content/drive; to attempt to forcibly remount, call drive.mount(\"/content/drive\", force_remount=True).\n"
          ],
          "name": "stdout"
        }
      ]
    },
    {
      "cell_type": "markdown",
      "metadata": {
        "id": "9McwTBsGX0i-"
      },
      "source": [
        "# Load Data"
      ]
    },
    {
      "cell_type": "code",
      "metadata": {
        "id": "-_ZBfORCWrkc"
      },
      "source": [
        "directory = Path(\"/content/drive/MyDrive/deep learning assignment/flowers\")\n",
        "image_names = []\n",
        "data_images = []\n",
        "labels = []"
      ],
      "execution_count": 3,
      "outputs": []
    },
    {
      "cell_type": "markdown",
      "metadata": {
        "id": "VIhUiTIi9sGW"
      },
      "source": [
        "***iterating over directory to extract sub directories to extract lables***\n"
      ]
    },
    {
      "cell_type": "code",
      "metadata": {
        "colab": {
          "base_uri": "https://localhost:8080/"
        },
        "id": "NyMTcTF-9swF",
        "outputId": "80ca2a71-2df0-49ed-d6db-fb99d4a7e36c"
      },
      "source": [
        "for dir in directory.iterdir():\n",
        "  image_names.append(dir.name)\n",
        "  print(dir.name)\n",
        "  for imgpath in dir.iterdir():\n",
        "    if imgpath.name.endswith(\"jpg\"):\n",
        "      labels.append(dir.name)\n",
        "      imgarr = cv2.imread(str(imgpath), cv2.IMREAD_GRAYSCALE)\n",
        "      imgarr = cv2.resize(imgarr, (320,240))\n",
        "      data_images.append(imgarr)"
      ],
      "execution_count": 4,
      "outputs": [
        {
          "output_type": "stream",
          "text": [
            "flowers\n",
            "dandelion\n",
            "sunflower\n",
            "rose\n",
            "tulip\n",
            "daisy\n"
          ],
          "name": "stdout"
        }
      ]
    },
    {
      "cell_type": "markdown",
      "metadata": {
        "id": "UVoZqJ3---0_"
      },
      "source": [
        "***maping the string label into numeric***\n"
      ]
    },
    {
      "cell_type": "code",
      "metadata": {
        "id": "euUNmR1ovXCW"
      },
      "source": [
        "df=pd.DataFrame(labels)\n",
        "labels=df[0].map({\"rose\":0,\"sunflower\":1,\"tulip\":2,\"daisy\":3,\"dandelion\":4})"
      ],
      "execution_count": 5,
      "outputs": []
    },
    {
      "cell_type": "markdown",
      "metadata": {
        "id": "UKnLDcwH2FYD"
      },
      "source": [
        "# Split"
      ]
    },
    {
      "cell_type": "code",
      "metadata": {
        "id": "L6QiKE7NybPH"
      },
      "source": [
        "import sklearn\n",
        "from sklearn.model_selection import train_test_split\n",
        "x_train,x_test,y_train,y_test=train_test_split(data_images,labels,test_size=.40,random_state=0)"
      ],
      "execution_count": 6,
      "outputs": []
    },
    {
      "cell_type": "markdown",
      "metadata": {
        "id": "O0kKSmJzAILE"
      },
      "source": [
        "***reshape***"
      ]
    },
    {
      "cell_type": "code",
      "metadata": {
        "id": "0LrhXCgW4q_-"
      },
      "source": [
        "x_train=np.asarray(x_train).astype(\"float32\")\n",
        "x_test=np.asarray(x_test).astype(\"float32\")"
      ],
      "execution_count": 7,
      "outputs": []
    },
    {
      "cell_type": "code",
      "metadata": {
        "id": "K7MWPSa8ylek"
      },
      "source": [
        "x_train=x_train.reshape(2593,320*240)\n",
        "x_test=x_test.reshape(1730,320*240)"
      ],
      "execution_count": 8,
      "outputs": []
    },
    {
      "cell_type": "markdown",
      "metadata": {
        "id": "F6TvuMKW_gac"
      },
      "source": [
        "**Preparing labels** || ***one hot encode***\n"
      ]
    },
    {
      "cell_type": "code",
      "metadata": {
        "id": "Pk5H8u63yx2c"
      },
      "source": [
        "from keras.utils import to_categorical\n",
        "y_train=to_categorical(y_train)\n",
        "y_test=to_categorical(y_test)"
      ],
      "execution_count": 9,
      "outputs": []
    },
    {
      "cell_type": "markdown",
      "metadata": {
        "id": "pKzMEvjU3H4o"
      },
      "source": [
        "***normalize the data***\n"
      ]
    },
    {
      "cell_type": "code",
      "metadata": {
        "id": "Z8Pv3rpTyu3U"
      },
      "source": [
        "x_train=x_train/255.0\n",
        "x_test=x_test/255.0"
      ],
      "execution_count": 10,
      "outputs": []
    },
    {
      "cell_type": "markdown",
      "metadata": {
        "id": "IPUyhYkf3Y4K"
      },
      "source": [
        "# Create Model"
      ]
    },
    {
      "cell_type": "code",
      "metadata": {
        "id": "otm3Z2nry0Tk"
      },
      "source": [
        "from tensorflow.keras.models import Sequential\n",
        "from tensorflow.keras.layers import Dense, Dropout,Flatten\n",
        "from tensorflow.keras import models\n",
        "from tensorflow.keras import layers"
      ],
      "execution_count": 11,
      "outputs": []
    },
    {
      "cell_type": "code",
      "metadata": {
        "id": "67dCUSN2y3i0"
      },
      "source": [
        "network=Sequential()\n",
        "network.add(Dense(256,activation=\"relu\",input_shape=(x_train.shape[1],)))\n",
        "network.add(Dropout(0.2))\n",
        "network.add(Dense(128,activation=\"relu\"))\n",
        "network.add(Dense(64,activation=\"relu\"))\n",
        "network.add(Dropout(0.2))\n",
        "network.add(Dense(5,activation=\"softmax\"))"
      ],
      "execution_count": 12,
      "outputs": []
    },
    {
      "cell_type": "code",
      "metadata": {
        "colab": {
          "base_uri": "https://localhost:8080/"
        },
        "id": "-zvou17Qy6OG",
        "outputId": "b54efe22-1bc9-4f9f-90ae-a37b837c0004"
      },
      "source": [
        "network.summary()"
      ],
      "execution_count": 13,
      "outputs": [
        {
          "output_type": "stream",
          "text": [
            "Model: \"sequential\"\n",
            "_________________________________________________________________\n",
            "Layer (type)                 Output Shape              Param #   \n",
            "=================================================================\n",
            "dense (Dense)                (None, 256)               19661056  \n",
            "_________________________________________________________________\n",
            "dropout (Dropout)            (None, 256)               0         \n",
            "_________________________________________________________________\n",
            "dense_1 (Dense)              (None, 128)               32896     \n",
            "_________________________________________________________________\n",
            "dense_2 (Dense)              (None, 64)                8256      \n",
            "_________________________________________________________________\n",
            "dropout_1 (Dropout)          (None, 64)                0         \n",
            "_________________________________________________________________\n",
            "dense_3 (Dense)              (None, 5)                 325       \n",
            "=================================================================\n",
            "Total params: 19,702,533\n",
            "Trainable params: 19,702,533\n",
            "Non-trainable params: 0\n",
            "_________________________________________________________________\n"
          ],
          "name": "stdout"
        }
      ]
    },
    {
      "cell_type": "markdown",
      "metadata": {
        "id": "_L3vJTZf3jWq"
      },
      "source": [
        "# Compile\n"
      ]
    },
    {
      "cell_type": "code",
      "metadata": {
        "id": "UtE4N_jiy8xk"
      },
      "source": [
        "network.compile(optimizer='rmsprop',\n",
        "loss='categorical_crossentropy',\n",
        "metrics=['accuracy'])"
      ],
      "execution_count": 14,
      "outputs": []
    },
    {
      "cell_type": "markdown",
      "metadata": {
        "id": "kvvFfvQt353X"
      },
      "source": [
        "# Train Model"
      ]
    },
    {
      "cell_type": "code",
      "metadata": {
        "colab": {
          "base_uri": "https://localhost:8080/"
        },
        "id": "3xsGrmZpzAal",
        "outputId": "5d37790d-060d-4fa1-dc9a-5a2a8591b21d"
      },
      "source": [
        "network.fit(x_train, y_train,epochs=20,batch_size=120)"
      ],
      "execution_count": 15,
      "outputs": [
        {
          "output_type": "stream",
          "text": [
            "Epoch 1/20\n",
            "22/22 [==============================] - 7s 290ms/step - loss: 31.2079 - accuracy: 0.2018\n",
            "Epoch 2/20\n",
            "22/22 [==============================] - 6s 288ms/step - loss: 2.2628 - accuracy: 0.2325\n",
            "Epoch 3/20\n",
            "22/22 [==============================] - 6s 286ms/step - loss: 1.7281 - accuracy: 0.1989\n",
            "Epoch 4/20\n",
            "22/22 [==============================] - 6s 285ms/step - loss: 1.6413 - accuracy: 0.2421\n",
            "Epoch 5/20\n",
            "22/22 [==============================] - 6s 285ms/step - loss: 1.6299 - accuracy: 0.2120\n",
            "Epoch 6/20\n",
            "22/22 [==============================] - 6s 286ms/step - loss: 1.6361 - accuracy: 0.2286\n",
            "Epoch 7/20\n",
            "22/22 [==============================] - 6s 283ms/step - loss: 1.6122 - accuracy: 0.2362\n",
            "Epoch 8/20\n",
            "22/22 [==============================] - 6s 284ms/step - loss: 1.6188 - accuracy: 0.2283\n",
            "Epoch 9/20\n",
            "22/22 [==============================] - 6s 285ms/step - loss: 1.6017 - accuracy: 0.2256\n",
            "Epoch 10/20\n",
            "22/22 [==============================] - 6s 285ms/step - loss: 1.6054 - accuracy: 0.2325\n",
            "Epoch 11/20\n",
            "22/22 [==============================] - 6s 283ms/step - loss: 1.6055 - accuracy: 0.2307\n",
            "Epoch 12/20\n",
            "22/22 [==============================] - 6s 284ms/step - loss: 1.6123 - accuracy: 0.2408\n",
            "Epoch 13/20\n",
            "22/22 [==============================] - 6s 286ms/step - loss: 1.6021 - accuracy: 0.2302\n",
            "Epoch 14/20\n",
            "22/22 [==============================] - 6s 287ms/step - loss: 1.6011 - accuracy: 0.2356\n",
            "Epoch 15/20\n",
            "22/22 [==============================] - 6s 288ms/step - loss: 1.6025 - accuracy: 0.2443\n",
            "Epoch 16/20\n",
            "22/22 [==============================] - 6s 285ms/step - loss: 1.5990 - accuracy: 0.2426\n",
            "Epoch 17/20\n",
            "22/22 [==============================] - 6s 286ms/step - loss: 1.6021 - accuracy: 0.2418\n",
            "Epoch 18/20\n",
            "22/22 [==============================] - 6s 286ms/step - loss: 1.6020 - accuracy: 0.2344\n",
            "Epoch 19/20\n",
            "22/22 [==============================] - 6s 285ms/step - loss: 1.8202 - accuracy: 0.2182\n",
            "Epoch 20/20\n",
            "22/22 [==============================] - 6s 284ms/step - loss: 1.6011 - accuracy: 0.2282\n"
          ],
          "name": "stdout"
        },
        {
          "output_type": "execute_result",
          "data": {
            "text/plain": [
              "<tensorflow.python.keras.callbacks.History at 0x7f66b3c14350>"
            ]
          },
          "metadata": {
            "tags": []
          },
          "execution_count": 15
        }
      ]
    },
    {
      "cell_type": "markdown",
      "metadata": {
        "id": "Nzyn90jH3-6H"
      },
      "source": [
        "# Evaluation Step"
      ]
    },
    {
      "cell_type": "code",
      "metadata": {
        "colab": {
          "base_uri": "https://localhost:8080/"
        },
        "id": "hpZAupo20B_S",
        "outputId": "6e1db18f-d8a8-460d-cba2-b4e583fa9f6d"
      },
      "source": [
        "network.evaluate(x_test,y_test)"
      ],
      "execution_count": 16,
      "outputs": [
        {
          "output_type": "stream",
          "text": [
            "55/55 [==============================] - 2s 34ms/step - loss: 1.5978 - accuracy: 0.2549\n"
          ],
          "name": "stdout"
        },
        {
          "output_type": "execute_result",
          "data": {
            "text/plain": [
              "[1.5978487730026245, 0.2549133002758026]"
            ]
          },
          "metadata": {
            "tags": []
          },
          "execution_count": 16
        }
      ]
    },
    {
      "cell_type": "markdown",
      "metadata": {
        "id": "ASNBMGf64RJ_"
      },
      "source": [
        "# Prediction"
      ]
    },
    {
      "cell_type": "code",
      "metadata": {
        "id": "YjTdFV4J0HmZ"
      },
      "source": [
        "prediction= network.predict(x_test)"
      ],
      "execution_count": 17,
      "outputs": []
    },
    {
      "cell_type": "code",
      "metadata": {
        "id": "oIN0oT0X66Jt"
      },
      "source": [
        ""
      ],
      "execution_count": 17,
      "outputs": []
    }
  ]
}