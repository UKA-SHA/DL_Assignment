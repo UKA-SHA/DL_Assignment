{
 "cells": [
  {
   "cell_type": "markdown",
   "metadata": {
    "id": "R5M1GT73t_WV"
   },
   "source": [
    "# Credit Card Fraud Detection::"
   ]
  },
  {
   "cell_type": "markdown",
   "metadata": {
    "id": "bFihq_p8t_Wd"
   },
   "source": [
    "Download dataset from this link:\n",
    "\n",
    "https://www.kaggle.com/mlg-ulb/creditcardfraud"
   ]
  },
  {
   "cell_type": "markdown",
   "metadata": {
    "id": "m2G9U8Kmt_We"
   },
   "source": [
    "# Description about dataset::"
   ]
  },
  {
   "cell_type": "markdown",
   "metadata": {
    "id": "wyMQLMpnt_Wf"
   },
   "source": [
    "The datasets contains transactions made by credit cards in September 2013 by european cardholders.\n",
    "This dataset presents transactions that occurred in two days, where we have 492 frauds out of 284,807 transactions. The dataset is highly unbalanced, the positive class (frauds) account for 0.172% of all transactions.\n",
    "\n",
    "It contains only numerical input variables which are the result of a PCA transformation. Unfortunately, due to confidentiality issues, we cannot provide the original features and more background information about the data. Features V1, V2, … V28 are the principal components obtained with PCA, the only features which have not been transformed with PCA are 'Time' and 'Amount'. Feature 'Time' contains the seconds elapsed between each transaction and the first transaction in the dataset. The feature 'Amount' is the transaction Amount, this feature can be used for example-dependant cost-senstive learning. \n",
    "\n",
    "\n",
    "### Feature 'Class' is the response variable and it takes value 1 in case of fraud and 0 otherwise."
   ]
  },
  {
   "cell_type": "markdown",
   "metadata": {
    "id": "8235LdA-t_Wg"
   },
   "source": [
    "# WORKFLOW :"
   ]
  },
  {
   "cell_type": "markdown",
   "metadata": {
    "id": "gdAFUfYat_Wg"
   },
   "source": [
    "1.Load Data\n",
    "\n",
    "2.Check Missing Values ( If Exist ; Fill each record with mean of its feature )\n",
    "\n",
    "3.Standardized the Input Variables. \n",
    "\n",
    "4.Split into 50% Training(Samples,Labels) , 30% Test(Samples,Labels) and 20% Validation Data(Samples,Labels).\n",
    "\n",
    "5.Model : input Layer (No. of features ), 3 hidden layers including 10,8,6 unit & Output Layer with activation function relu/tanh (check by experiment).\n",
    "\n",
    "6.Compilation Step (Note : Its a Binary problem , select loss , metrics according to it)\n",
    "\n",
    "7.Train the Model with Epochs (100).\n",
    "\n",
    "8.If the model gets overfit tune your model by changing the units , No. of layers , epochs , add dropout layer or add Regularizer according to the need .\n",
    "\n",
    "9.Prediction should be > 92%\n",
    "10.Evaluation Step\n",
    "11Prediction\n"
   ]
  },
  {
   "cell_type": "markdown",
   "metadata": {
    "id": "fjgS71D1t_Wh"
   },
   "source": [
    "# Task::"
   ]
  },
  {
   "cell_type": "markdown",
   "metadata": {
    "id": "KqjRjesMt_Wh"
   },
   "source": [
    "## Identify fraudulent credit card transactions."
   ]
  },
  {
   "cell_type": "code",
   "execution_count": 1,
   "metadata": {
    "colab": {
     "base_uri": "https://localhost:8080/"
    },
    "id": "5YRMsXhWt_Wh",
    "outputId": "4034894d-d68c-4ed7-f452-c2e95bf080c6"
   },
   "outputs": [
    {
     "name": "stdout",
     "output_type": "stream",
     "text": [
      "Drive already mounted at /content/drive; to attempt to forcibly remount, call drive.mount(\"/content/drive\", force_remount=True).\n"
     ]
    }
   ],
   "source": [
    "from google.colab import drive\n",
    "drive.mount('/content/drive')"
   ]
  },
  {
   "cell_type": "markdown",
   "metadata": {
    "id": "LAcaZrEhD_F8"
   },
   "source": [
    "# Import libraries"
   ]
  },
  {
   "cell_type": "code",
   "execution_count": 2,
   "metadata": {
    "id": "skjh8Zj9t_Wi"
   },
   "outputs": [],
   "source": [
    "import numpy as np\n",
    "import pandas as pd\n",
    "import matplotlib.pyplot as plt\n",
    "import seaborn as sns\n",
    "import tensorflow as tf"
   ]
  },
  {
   "cell_type": "markdown",
   "metadata": {
    "id": "dEuuQIh6Eepr"
   },
   "source": [
    "# Load Data"
   ]
  },
  {
   "cell_type": "code",
   "execution_count": 3,
   "metadata": {
    "colab": {
     "base_uri": "https://localhost:8080/",
     "height": 247
    },
    "id": "88xcvxIet_Wi",
    "outputId": "14a5670f-39b3-4afd-9a6b-553e77c79461"
   },
   "outputs": [
    {
     "data": {
      "text/html": [
       "<div>\n",
       "<style scoped>\n",
       "    .dataframe tbody tr th:only-of-type {\n",
       "        vertical-align: middle;\n",
       "    }\n",
       "\n",
       "    .dataframe tbody tr th {\n",
       "        vertical-align: top;\n",
       "    }\n",
       "\n",
       "    .dataframe thead th {\n",
       "        text-align: right;\n",
       "    }\n",
       "</style>\n",
       "<table border=\"1\" class=\"dataframe\">\n",
       "  <thead>\n",
       "    <tr style=\"text-align: right;\">\n",
       "      <th></th>\n",
       "      <th>Time</th>\n",
       "      <th>V1</th>\n",
       "      <th>V2</th>\n",
       "      <th>V3</th>\n",
       "      <th>V4</th>\n",
       "      <th>V5</th>\n",
       "      <th>V6</th>\n",
       "      <th>V7</th>\n",
       "      <th>V8</th>\n",
       "      <th>V9</th>\n",
       "      <th>V10</th>\n",
       "      <th>V11</th>\n",
       "      <th>V12</th>\n",
       "      <th>V13</th>\n",
       "      <th>V14</th>\n",
       "      <th>V15</th>\n",
       "      <th>V16</th>\n",
       "      <th>V17</th>\n",
       "      <th>V18</th>\n",
       "      <th>V19</th>\n",
       "      <th>V20</th>\n",
       "      <th>V21</th>\n",
       "      <th>V22</th>\n",
       "      <th>V23</th>\n",
       "      <th>V24</th>\n",
       "      <th>V25</th>\n",
       "      <th>V26</th>\n",
       "      <th>V27</th>\n",
       "      <th>V28</th>\n",
       "      <th>Amount</th>\n",
       "      <th>Class</th>\n",
       "    </tr>\n",
       "  </thead>\n",
       "  <tbody>\n",
       "    <tr>\n",
       "      <th>0</th>\n",
       "      <td>0.0</td>\n",
       "      <td>-1.359807</td>\n",
       "      <td>-0.072781</td>\n",
       "      <td>2.536347</td>\n",
       "      <td>1.378155</td>\n",
       "      <td>-0.338321</td>\n",
       "      <td>0.462388</td>\n",
       "      <td>0.239599</td>\n",
       "      <td>0.098698</td>\n",
       "      <td>0.363787</td>\n",
       "      <td>0.090794</td>\n",
       "      <td>-0.551600</td>\n",
       "      <td>-0.617801</td>\n",
       "      <td>-0.991390</td>\n",
       "      <td>-0.311169</td>\n",
       "      <td>1.468177</td>\n",
       "      <td>-0.470401</td>\n",
       "      <td>0.207971</td>\n",
       "      <td>0.025791</td>\n",
       "      <td>0.403993</td>\n",
       "      <td>0.251412</td>\n",
       "      <td>-0.018307</td>\n",
       "      <td>0.277838</td>\n",
       "      <td>-0.110474</td>\n",
       "      <td>0.066928</td>\n",
       "      <td>0.128539</td>\n",
       "      <td>-0.189115</td>\n",
       "      <td>0.133558</td>\n",
       "      <td>-0.021053</td>\n",
       "      <td>149.62</td>\n",
       "      <td>0</td>\n",
       "    </tr>\n",
       "    <tr>\n",
       "      <th>1</th>\n",
       "      <td>0.0</td>\n",
       "      <td>1.191857</td>\n",
       "      <td>0.266151</td>\n",
       "      <td>0.166480</td>\n",
       "      <td>0.448154</td>\n",
       "      <td>0.060018</td>\n",
       "      <td>-0.082361</td>\n",
       "      <td>-0.078803</td>\n",
       "      <td>0.085102</td>\n",
       "      <td>-0.255425</td>\n",
       "      <td>-0.166974</td>\n",
       "      <td>1.612727</td>\n",
       "      <td>1.065235</td>\n",
       "      <td>0.489095</td>\n",
       "      <td>-0.143772</td>\n",
       "      <td>0.635558</td>\n",
       "      <td>0.463917</td>\n",
       "      <td>-0.114805</td>\n",
       "      <td>-0.183361</td>\n",
       "      <td>-0.145783</td>\n",
       "      <td>-0.069083</td>\n",
       "      <td>-0.225775</td>\n",
       "      <td>-0.638672</td>\n",
       "      <td>0.101288</td>\n",
       "      <td>-0.339846</td>\n",
       "      <td>0.167170</td>\n",
       "      <td>0.125895</td>\n",
       "      <td>-0.008983</td>\n",
       "      <td>0.014724</td>\n",
       "      <td>2.69</td>\n",
       "      <td>0</td>\n",
       "    </tr>\n",
       "    <tr>\n",
       "      <th>2</th>\n",
       "      <td>1.0</td>\n",
       "      <td>-1.358354</td>\n",
       "      <td>-1.340163</td>\n",
       "      <td>1.773209</td>\n",
       "      <td>0.379780</td>\n",
       "      <td>-0.503198</td>\n",
       "      <td>1.800499</td>\n",
       "      <td>0.791461</td>\n",
       "      <td>0.247676</td>\n",
       "      <td>-1.514654</td>\n",
       "      <td>0.207643</td>\n",
       "      <td>0.624501</td>\n",
       "      <td>0.066084</td>\n",
       "      <td>0.717293</td>\n",
       "      <td>-0.165946</td>\n",
       "      <td>2.345865</td>\n",
       "      <td>-2.890083</td>\n",
       "      <td>1.109969</td>\n",
       "      <td>-0.121359</td>\n",
       "      <td>-2.261857</td>\n",
       "      <td>0.524980</td>\n",
       "      <td>0.247998</td>\n",
       "      <td>0.771679</td>\n",
       "      <td>0.909412</td>\n",
       "      <td>-0.689281</td>\n",
       "      <td>-0.327642</td>\n",
       "      <td>-0.139097</td>\n",
       "      <td>-0.055353</td>\n",
       "      <td>-0.059752</td>\n",
       "      <td>378.66</td>\n",
       "      <td>0</td>\n",
       "    </tr>\n",
       "    <tr>\n",
       "      <th>3</th>\n",
       "      <td>1.0</td>\n",
       "      <td>-0.966272</td>\n",
       "      <td>-0.185226</td>\n",
       "      <td>1.792993</td>\n",
       "      <td>-0.863291</td>\n",
       "      <td>-0.010309</td>\n",
       "      <td>1.247203</td>\n",
       "      <td>0.237609</td>\n",
       "      <td>0.377436</td>\n",
       "      <td>-1.387024</td>\n",
       "      <td>-0.054952</td>\n",
       "      <td>-0.226487</td>\n",
       "      <td>0.178228</td>\n",
       "      <td>0.507757</td>\n",
       "      <td>-0.287924</td>\n",
       "      <td>-0.631418</td>\n",
       "      <td>-1.059647</td>\n",
       "      <td>-0.684093</td>\n",
       "      <td>1.965775</td>\n",
       "      <td>-1.232622</td>\n",
       "      <td>-0.208038</td>\n",
       "      <td>-0.108300</td>\n",
       "      <td>0.005274</td>\n",
       "      <td>-0.190321</td>\n",
       "      <td>-1.175575</td>\n",
       "      <td>0.647376</td>\n",
       "      <td>-0.221929</td>\n",
       "      <td>0.062723</td>\n",
       "      <td>0.061458</td>\n",
       "      <td>123.50</td>\n",
       "      <td>0</td>\n",
       "    </tr>\n",
       "    <tr>\n",
       "      <th>4</th>\n",
       "      <td>2.0</td>\n",
       "      <td>-1.158233</td>\n",
       "      <td>0.877737</td>\n",
       "      <td>1.548718</td>\n",
       "      <td>0.403034</td>\n",
       "      <td>-0.407193</td>\n",
       "      <td>0.095921</td>\n",
       "      <td>0.592941</td>\n",
       "      <td>-0.270533</td>\n",
       "      <td>0.817739</td>\n",
       "      <td>0.753074</td>\n",
       "      <td>-0.822843</td>\n",
       "      <td>0.538196</td>\n",
       "      <td>1.345852</td>\n",
       "      <td>-1.119670</td>\n",
       "      <td>0.175121</td>\n",
       "      <td>-0.451449</td>\n",
       "      <td>-0.237033</td>\n",
       "      <td>-0.038195</td>\n",
       "      <td>0.803487</td>\n",
       "      <td>0.408542</td>\n",
       "      <td>-0.009431</td>\n",
       "      <td>0.798278</td>\n",
       "      <td>-0.137458</td>\n",
       "      <td>0.141267</td>\n",
       "      <td>-0.206010</td>\n",
       "      <td>0.502292</td>\n",
       "      <td>0.219422</td>\n",
       "      <td>0.215153</td>\n",
       "      <td>69.99</td>\n",
       "      <td>0</td>\n",
       "    </tr>\n",
       "    <tr>\n",
       "      <th>5</th>\n",
       "      <td>2.0</td>\n",
       "      <td>-0.425966</td>\n",
       "      <td>0.960523</td>\n",
       "      <td>1.141109</td>\n",
       "      <td>-0.168252</td>\n",
       "      <td>0.420987</td>\n",
       "      <td>-0.029728</td>\n",
       "      <td>0.476201</td>\n",
       "      <td>0.260314</td>\n",
       "      <td>-0.568671</td>\n",
       "      <td>-0.371407</td>\n",
       "      <td>1.341262</td>\n",
       "      <td>0.359894</td>\n",
       "      <td>-0.358091</td>\n",
       "      <td>-0.137134</td>\n",
       "      <td>0.517617</td>\n",
       "      <td>0.401726</td>\n",
       "      <td>-0.058133</td>\n",
       "      <td>0.068653</td>\n",
       "      <td>-0.033194</td>\n",
       "      <td>0.084968</td>\n",
       "      <td>-0.208254</td>\n",
       "      <td>-0.559825</td>\n",
       "      <td>-0.026398</td>\n",
       "      <td>-0.371427</td>\n",
       "      <td>-0.232794</td>\n",
       "      <td>0.105915</td>\n",
       "      <td>0.253844</td>\n",
       "      <td>0.081080</td>\n",
       "      <td>3.67</td>\n",
       "      <td>0</td>\n",
       "    </tr>\n",
       "  </tbody>\n",
       "</table>\n",
       "</div>"
      ],
      "text/plain": [
       "   Time        V1        V2        V3  ...       V27       V28  Amount  Class\n",
       "0   0.0 -1.359807 -0.072781  2.536347  ...  0.133558 -0.021053  149.62      0\n",
       "1   0.0  1.191857  0.266151  0.166480  ... -0.008983  0.014724    2.69      0\n",
       "2   1.0 -1.358354 -1.340163  1.773209  ... -0.055353 -0.059752  378.66      0\n",
       "3   1.0 -0.966272 -0.185226  1.792993  ...  0.062723  0.061458  123.50      0\n",
       "4   2.0 -1.158233  0.877737  1.548718  ...  0.219422  0.215153   69.99      0\n",
       "5   2.0 -0.425966  0.960523  1.141109  ...  0.253844  0.081080    3.67      0\n",
       "\n",
       "[6 rows x 31 columns]"
      ]
     },
     "execution_count": 3,
     "metadata": {
      "tags": []
     },
     "output_type": "execute_result"
    }
   ],
   "source": [
    "card_detect=pd.read_csv(\"/content/creditcard.csv\")\n",
    "card_detect.head(6)"
   ]
  },
  {
   "cell_type": "code",
   "execution_count": 4,
   "metadata": {
    "colab": {
     "base_uri": "https://localhost:8080/"
    },
    "id": "MbUeH8Fxt_Wi",
    "outputId": "09f63445-3770-4c28-aa2e-f92851e51dab"
   },
   "outputs": [
    {
     "data": {
      "text/plain": [
       "(284807, 31)"
      ]
     },
     "execution_count": 4,
     "metadata": {
      "tags": []
     },
     "output_type": "execute_result"
    }
   ],
   "source": [
    "card_detect.shape"
   ]
  },
  {
   "cell_type": "code",
   "execution_count": 5,
   "metadata": {
    "colab": {
     "base_uri": "https://localhost:8080/",
     "height": 307
    },
    "id": "X-oeHElzt_Wj",
    "outputId": "b2465ca6-d25b-4084-9745-76914f5a3aae"
   },
   "outputs": [
    {
     "data": {
      "text/html": [
       "<div>\n",
       "<style scoped>\n",
       "    .dataframe tbody tr th:only-of-type {\n",
       "        vertical-align: middle;\n",
       "    }\n",
       "\n",
       "    .dataframe tbody tr th {\n",
       "        vertical-align: top;\n",
       "    }\n",
       "\n",
       "    .dataframe thead th {\n",
       "        text-align: right;\n",
       "    }\n",
       "</style>\n",
       "<table border=\"1\" class=\"dataframe\">\n",
       "  <thead>\n",
       "    <tr style=\"text-align: right;\">\n",
       "      <th></th>\n",
       "      <th>Time</th>\n",
       "      <th>V1</th>\n",
       "      <th>V2</th>\n",
       "      <th>V3</th>\n",
       "      <th>V4</th>\n",
       "      <th>V5</th>\n",
       "      <th>V6</th>\n",
       "      <th>V7</th>\n",
       "      <th>V8</th>\n",
       "      <th>V9</th>\n",
       "      <th>V10</th>\n",
       "      <th>V11</th>\n",
       "      <th>V12</th>\n",
       "      <th>V13</th>\n",
       "      <th>V14</th>\n",
       "      <th>V15</th>\n",
       "      <th>V16</th>\n",
       "      <th>V17</th>\n",
       "      <th>V18</th>\n",
       "      <th>V19</th>\n",
       "      <th>V20</th>\n",
       "      <th>V21</th>\n",
       "      <th>V22</th>\n",
       "      <th>V23</th>\n",
       "      <th>V24</th>\n",
       "      <th>V25</th>\n",
       "      <th>V26</th>\n",
       "      <th>V27</th>\n",
       "      <th>V28</th>\n",
       "      <th>Amount</th>\n",
       "      <th>Class</th>\n",
       "    </tr>\n",
       "  </thead>\n",
       "  <tbody>\n",
       "    <tr>\n",
       "      <th>count</th>\n",
       "      <td>284807.000000</td>\n",
       "      <td>2.848070e+05</td>\n",
       "      <td>2.848070e+05</td>\n",
       "      <td>2.848070e+05</td>\n",
       "      <td>2.848070e+05</td>\n",
       "      <td>2.848070e+05</td>\n",
       "      <td>2.848070e+05</td>\n",
       "      <td>2.848070e+05</td>\n",
       "      <td>2.848070e+05</td>\n",
       "      <td>2.848070e+05</td>\n",
       "      <td>2.848070e+05</td>\n",
       "      <td>2.848070e+05</td>\n",
       "      <td>2.848070e+05</td>\n",
       "      <td>2.848070e+05</td>\n",
       "      <td>2.848070e+05</td>\n",
       "      <td>2.848070e+05</td>\n",
       "      <td>2.848070e+05</td>\n",
       "      <td>2.848070e+05</td>\n",
       "      <td>2.848070e+05</td>\n",
       "      <td>2.848070e+05</td>\n",
       "      <td>2.848070e+05</td>\n",
       "      <td>2.848070e+05</td>\n",
       "      <td>2.848070e+05</td>\n",
       "      <td>2.848070e+05</td>\n",
       "      <td>2.848070e+05</td>\n",
       "      <td>2.848070e+05</td>\n",
       "      <td>2.848070e+05</td>\n",
       "      <td>2.848070e+05</td>\n",
       "      <td>2.848070e+05</td>\n",
       "      <td>284807.000000</td>\n",
       "      <td>284807.000000</td>\n",
       "    </tr>\n",
       "    <tr>\n",
       "      <th>mean</th>\n",
       "      <td>94813.859575</td>\n",
       "      <td>3.919560e-15</td>\n",
       "      <td>5.688174e-16</td>\n",
       "      <td>-8.769071e-15</td>\n",
       "      <td>2.782312e-15</td>\n",
       "      <td>-1.552563e-15</td>\n",
       "      <td>2.010663e-15</td>\n",
       "      <td>-1.694249e-15</td>\n",
       "      <td>-1.927028e-16</td>\n",
       "      <td>-3.137024e-15</td>\n",
       "      <td>1.768627e-15</td>\n",
       "      <td>9.170318e-16</td>\n",
       "      <td>-1.810658e-15</td>\n",
       "      <td>1.693438e-15</td>\n",
       "      <td>1.479045e-15</td>\n",
       "      <td>3.482336e-15</td>\n",
       "      <td>1.392007e-15</td>\n",
       "      <td>-7.528491e-16</td>\n",
       "      <td>4.328772e-16</td>\n",
       "      <td>9.049732e-16</td>\n",
       "      <td>5.085503e-16</td>\n",
       "      <td>1.537294e-16</td>\n",
       "      <td>7.959909e-16</td>\n",
       "      <td>5.367590e-16</td>\n",
       "      <td>4.458112e-15</td>\n",
       "      <td>1.453003e-15</td>\n",
       "      <td>1.699104e-15</td>\n",
       "      <td>-3.660161e-16</td>\n",
       "      <td>-1.206049e-16</td>\n",
       "      <td>88.349619</td>\n",
       "      <td>0.001727</td>\n",
       "    </tr>\n",
       "    <tr>\n",
       "      <th>std</th>\n",
       "      <td>47488.145955</td>\n",
       "      <td>1.958696e+00</td>\n",
       "      <td>1.651309e+00</td>\n",
       "      <td>1.516255e+00</td>\n",
       "      <td>1.415869e+00</td>\n",
       "      <td>1.380247e+00</td>\n",
       "      <td>1.332271e+00</td>\n",
       "      <td>1.237094e+00</td>\n",
       "      <td>1.194353e+00</td>\n",
       "      <td>1.098632e+00</td>\n",
       "      <td>1.088850e+00</td>\n",
       "      <td>1.020713e+00</td>\n",
       "      <td>9.992014e-01</td>\n",
       "      <td>9.952742e-01</td>\n",
       "      <td>9.585956e-01</td>\n",
       "      <td>9.153160e-01</td>\n",
       "      <td>8.762529e-01</td>\n",
       "      <td>8.493371e-01</td>\n",
       "      <td>8.381762e-01</td>\n",
       "      <td>8.140405e-01</td>\n",
       "      <td>7.709250e-01</td>\n",
       "      <td>7.345240e-01</td>\n",
       "      <td>7.257016e-01</td>\n",
       "      <td>6.244603e-01</td>\n",
       "      <td>6.056471e-01</td>\n",
       "      <td>5.212781e-01</td>\n",
       "      <td>4.822270e-01</td>\n",
       "      <td>4.036325e-01</td>\n",
       "      <td>3.300833e-01</td>\n",
       "      <td>250.120109</td>\n",
       "      <td>0.041527</td>\n",
       "    </tr>\n",
       "    <tr>\n",
       "      <th>min</th>\n",
       "      <td>0.000000</td>\n",
       "      <td>-5.640751e+01</td>\n",
       "      <td>-7.271573e+01</td>\n",
       "      <td>-4.832559e+01</td>\n",
       "      <td>-5.683171e+00</td>\n",
       "      <td>-1.137433e+02</td>\n",
       "      <td>-2.616051e+01</td>\n",
       "      <td>-4.355724e+01</td>\n",
       "      <td>-7.321672e+01</td>\n",
       "      <td>-1.343407e+01</td>\n",
       "      <td>-2.458826e+01</td>\n",
       "      <td>-4.797473e+00</td>\n",
       "      <td>-1.868371e+01</td>\n",
       "      <td>-5.791881e+00</td>\n",
       "      <td>-1.921433e+01</td>\n",
       "      <td>-4.498945e+00</td>\n",
       "      <td>-1.412985e+01</td>\n",
       "      <td>-2.516280e+01</td>\n",
       "      <td>-9.498746e+00</td>\n",
       "      <td>-7.213527e+00</td>\n",
       "      <td>-5.449772e+01</td>\n",
       "      <td>-3.483038e+01</td>\n",
       "      <td>-1.093314e+01</td>\n",
       "      <td>-4.480774e+01</td>\n",
       "      <td>-2.836627e+00</td>\n",
       "      <td>-1.029540e+01</td>\n",
       "      <td>-2.604551e+00</td>\n",
       "      <td>-2.256568e+01</td>\n",
       "      <td>-1.543008e+01</td>\n",
       "      <td>0.000000</td>\n",
       "      <td>0.000000</td>\n",
       "    </tr>\n",
       "    <tr>\n",
       "      <th>25%</th>\n",
       "      <td>54201.500000</td>\n",
       "      <td>-9.203734e-01</td>\n",
       "      <td>-5.985499e-01</td>\n",
       "      <td>-8.903648e-01</td>\n",
       "      <td>-8.486401e-01</td>\n",
       "      <td>-6.915971e-01</td>\n",
       "      <td>-7.682956e-01</td>\n",
       "      <td>-5.540759e-01</td>\n",
       "      <td>-2.086297e-01</td>\n",
       "      <td>-6.430976e-01</td>\n",
       "      <td>-5.354257e-01</td>\n",
       "      <td>-7.624942e-01</td>\n",
       "      <td>-4.055715e-01</td>\n",
       "      <td>-6.485393e-01</td>\n",
       "      <td>-4.255740e-01</td>\n",
       "      <td>-5.828843e-01</td>\n",
       "      <td>-4.680368e-01</td>\n",
       "      <td>-4.837483e-01</td>\n",
       "      <td>-4.988498e-01</td>\n",
       "      <td>-4.562989e-01</td>\n",
       "      <td>-2.117214e-01</td>\n",
       "      <td>-2.283949e-01</td>\n",
       "      <td>-5.423504e-01</td>\n",
       "      <td>-1.618463e-01</td>\n",
       "      <td>-3.545861e-01</td>\n",
       "      <td>-3.171451e-01</td>\n",
       "      <td>-3.269839e-01</td>\n",
       "      <td>-7.083953e-02</td>\n",
       "      <td>-5.295979e-02</td>\n",
       "      <td>5.600000</td>\n",
       "      <td>0.000000</td>\n",
       "    </tr>\n",
       "    <tr>\n",
       "      <th>50%</th>\n",
       "      <td>84692.000000</td>\n",
       "      <td>1.810880e-02</td>\n",
       "      <td>6.548556e-02</td>\n",
       "      <td>1.798463e-01</td>\n",
       "      <td>-1.984653e-02</td>\n",
       "      <td>-5.433583e-02</td>\n",
       "      <td>-2.741871e-01</td>\n",
       "      <td>4.010308e-02</td>\n",
       "      <td>2.235804e-02</td>\n",
       "      <td>-5.142873e-02</td>\n",
       "      <td>-9.291738e-02</td>\n",
       "      <td>-3.275735e-02</td>\n",
       "      <td>1.400326e-01</td>\n",
       "      <td>-1.356806e-02</td>\n",
       "      <td>5.060132e-02</td>\n",
       "      <td>4.807155e-02</td>\n",
       "      <td>6.641332e-02</td>\n",
       "      <td>-6.567575e-02</td>\n",
       "      <td>-3.636312e-03</td>\n",
       "      <td>3.734823e-03</td>\n",
       "      <td>-6.248109e-02</td>\n",
       "      <td>-2.945017e-02</td>\n",
       "      <td>6.781943e-03</td>\n",
       "      <td>-1.119293e-02</td>\n",
       "      <td>4.097606e-02</td>\n",
       "      <td>1.659350e-02</td>\n",
       "      <td>-5.213911e-02</td>\n",
       "      <td>1.342146e-03</td>\n",
       "      <td>1.124383e-02</td>\n",
       "      <td>22.000000</td>\n",
       "      <td>0.000000</td>\n",
       "    </tr>\n",
       "    <tr>\n",
       "      <th>75%</th>\n",
       "      <td>139320.500000</td>\n",
       "      <td>1.315642e+00</td>\n",
       "      <td>8.037239e-01</td>\n",
       "      <td>1.027196e+00</td>\n",
       "      <td>7.433413e-01</td>\n",
       "      <td>6.119264e-01</td>\n",
       "      <td>3.985649e-01</td>\n",
       "      <td>5.704361e-01</td>\n",
       "      <td>3.273459e-01</td>\n",
       "      <td>5.971390e-01</td>\n",
       "      <td>4.539234e-01</td>\n",
       "      <td>7.395934e-01</td>\n",
       "      <td>6.182380e-01</td>\n",
       "      <td>6.625050e-01</td>\n",
       "      <td>4.931498e-01</td>\n",
       "      <td>6.488208e-01</td>\n",
       "      <td>5.232963e-01</td>\n",
       "      <td>3.996750e-01</td>\n",
       "      <td>5.008067e-01</td>\n",
       "      <td>4.589494e-01</td>\n",
       "      <td>1.330408e-01</td>\n",
       "      <td>1.863772e-01</td>\n",
       "      <td>5.285536e-01</td>\n",
       "      <td>1.476421e-01</td>\n",
       "      <td>4.395266e-01</td>\n",
       "      <td>3.507156e-01</td>\n",
       "      <td>2.409522e-01</td>\n",
       "      <td>9.104512e-02</td>\n",
       "      <td>7.827995e-02</td>\n",
       "      <td>77.165000</td>\n",
       "      <td>0.000000</td>\n",
       "    </tr>\n",
       "    <tr>\n",
       "      <th>max</th>\n",
       "      <td>172792.000000</td>\n",
       "      <td>2.454930e+00</td>\n",
       "      <td>2.205773e+01</td>\n",
       "      <td>9.382558e+00</td>\n",
       "      <td>1.687534e+01</td>\n",
       "      <td>3.480167e+01</td>\n",
       "      <td>7.330163e+01</td>\n",
       "      <td>1.205895e+02</td>\n",
       "      <td>2.000721e+01</td>\n",
       "      <td>1.559499e+01</td>\n",
       "      <td>2.374514e+01</td>\n",
       "      <td>1.201891e+01</td>\n",
       "      <td>7.848392e+00</td>\n",
       "      <td>7.126883e+00</td>\n",
       "      <td>1.052677e+01</td>\n",
       "      <td>8.877742e+00</td>\n",
       "      <td>1.731511e+01</td>\n",
       "      <td>9.253526e+00</td>\n",
       "      <td>5.041069e+00</td>\n",
       "      <td>5.591971e+00</td>\n",
       "      <td>3.942090e+01</td>\n",
       "      <td>2.720284e+01</td>\n",
       "      <td>1.050309e+01</td>\n",
       "      <td>2.252841e+01</td>\n",
       "      <td>4.584549e+00</td>\n",
       "      <td>7.519589e+00</td>\n",
       "      <td>3.517346e+00</td>\n",
       "      <td>3.161220e+01</td>\n",
       "      <td>3.384781e+01</td>\n",
       "      <td>25691.160000</td>\n",
       "      <td>1.000000</td>\n",
       "    </tr>\n",
       "  </tbody>\n",
       "</table>\n",
       "</div>"
      ],
      "text/plain": [
       "                Time            V1  ...         Amount          Class\n",
       "count  284807.000000  2.848070e+05  ...  284807.000000  284807.000000\n",
       "mean    94813.859575  3.919560e-15  ...      88.349619       0.001727\n",
       "std     47488.145955  1.958696e+00  ...     250.120109       0.041527\n",
       "min         0.000000 -5.640751e+01  ...       0.000000       0.000000\n",
       "25%     54201.500000 -9.203734e-01  ...       5.600000       0.000000\n",
       "50%     84692.000000  1.810880e-02  ...      22.000000       0.000000\n",
       "75%    139320.500000  1.315642e+00  ...      77.165000       0.000000\n",
       "max    172792.000000  2.454930e+00  ...   25691.160000       1.000000\n",
       "\n",
       "[8 rows x 31 columns]"
      ]
     },
     "execution_count": 5,
     "metadata": {
      "tags": []
     },
     "output_type": "execute_result"
    }
   ],
   "source": [
    "card_detect.describe()"
   ]
  },
  {
   "cell_type": "code",
   "execution_count": 6,
   "metadata": {
    "colab": {
     "base_uri": "https://localhost:8080/"
    },
    "id": "RKyQzr1kt_Wj",
    "outputId": "237aca77-4017-4b1e-e67f-bee5a6b2dd8f"
   },
   "outputs": [
    {
     "name": "stdout",
     "output_type": "stream",
     "text": [
      "<class 'pandas.core.frame.DataFrame'>\n",
      "RangeIndex: 284807 entries, 0 to 284806\n",
      "Data columns (total 31 columns):\n",
      " #   Column  Non-Null Count   Dtype  \n",
      "---  ------  --------------   -----  \n",
      " 0   Time    284807 non-null  float64\n",
      " 1   V1      284807 non-null  float64\n",
      " 2   V2      284807 non-null  float64\n",
      " 3   V3      284807 non-null  float64\n",
      " 4   V4      284807 non-null  float64\n",
      " 5   V5      284807 non-null  float64\n",
      " 6   V6      284807 non-null  float64\n",
      " 7   V7      284807 non-null  float64\n",
      " 8   V8      284807 non-null  float64\n",
      " 9   V9      284807 non-null  float64\n",
      " 10  V10     284807 non-null  float64\n",
      " 11  V11     284807 non-null  float64\n",
      " 12  V12     284807 non-null  float64\n",
      " 13  V13     284807 non-null  float64\n",
      " 14  V14     284807 non-null  float64\n",
      " 15  V15     284807 non-null  float64\n",
      " 16  V16     284807 non-null  float64\n",
      " 17  V17     284807 non-null  float64\n",
      " 18  V18     284807 non-null  float64\n",
      " 19  V19     284807 non-null  float64\n",
      " 20  V20     284807 non-null  float64\n",
      " 21  V21     284807 non-null  float64\n",
      " 22  V22     284807 non-null  float64\n",
      " 23  V23     284807 non-null  float64\n",
      " 24  V24     284807 non-null  float64\n",
      " 25  V25     284807 non-null  float64\n",
      " 26  V26     284807 non-null  float64\n",
      " 27  V27     284807 non-null  float64\n",
      " 28  V28     284807 non-null  float64\n",
      " 29  Amount  284807 non-null  float64\n",
      " 30  Class   284807 non-null  int64  \n",
      "dtypes: float64(30), int64(1)\n",
      "memory usage: 67.4 MB\n"
     ]
    }
   ],
   "source": [
    "card_detect.info()"
   ]
  },
  {
   "cell_type": "markdown",
   "metadata": {
    "id": "MUKU5xEfFzza"
   },
   "source": [
    "# Checking Missing Values"
   ]
  },
  {
   "cell_type": "code",
   "execution_count": 7,
   "metadata": {
    "colab": {
     "base_uri": "https://localhost:8080/"
    },
    "id": "tiv4JYT3t_Wj",
    "outputId": "1ae8ad3e-fdb6-467a-a26f-061a2b2f06da"
   },
   "outputs": [
    {
     "data": {
      "text/plain": [
       "Time      0\n",
       "V1        0\n",
       "V2        0\n",
       "V3        0\n",
       "V4        0\n",
       "V5        0\n",
       "V6        0\n",
       "V7        0\n",
       "V8        0\n",
       "V9        0\n",
       "V10       0\n",
       "V11       0\n",
       "V12       0\n",
       "V13       0\n",
       "V14       0\n",
       "V15       0\n",
       "V16       0\n",
       "V17       0\n",
       "V18       0\n",
       "V19       0\n",
       "V20       0\n",
       "V21       0\n",
       "V22       0\n",
       "V23       0\n",
       "V24       0\n",
       "V25       0\n",
       "V26       0\n",
       "V27       0\n",
       "V28       0\n",
       "Amount    0\n",
       "Class     0\n",
       "dtype: int64"
      ]
     },
     "execution_count": 7,
     "metadata": {
      "tags": []
     },
     "output_type": "execute_result"
    }
   ],
   "source": [
    "card_detect.isnull().sum()"
   ]
  },
  {
   "cell_type": "markdown",
   "metadata": {
    "id": "EvnG7W7aIQxo"
   },
   "source": [
    "# Split"
   ]
  },
  {
   "cell_type": "code",
   "execution_count": 8,
   "metadata": {
    "id": "4LKw0tcot_Wj"
   },
   "outputs": [],
   "source": [
    "data=card_detect.iloc[:,:30]\n",
    "label=card_detect.iloc[:,-1]"
   ]
  },
  {
   "cell_type": "code",
   "execution_count": 9,
   "metadata": {
    "id": "JivoCU49t_Wj"
   },
   "outputs": [],
   "source": [
    "from sklearn.model_selection import train_test_split\n",
    "X_train,X_test,y_train,y_test=train_test_split(data,label,test_size=.30,random_state=1)"
   ]
  },
  {
   "cell_type": "markdown",
   "metadata": {
    "id": "cGj12Q5zJG0l"
   },
   "source": [
    "# Standardized "
   ]
  },
  {
   "cell_type": "code",
   "execution_count": 10,
   "metadata": {
    "id": "quAqvCGYt_Wk"
   },
   "outputs": [],
   "source": [
    "mean = X_train.mean(axis=0)\n",
    "X_train -= mean\n",
    "std = X_train.std(axis=0)\n",
    "X_train /= std\n",
    "X_test -= mean\n",
    "X_test /= std"
   ]
  },
  {
   "cell_type": "markdown",
   "metadata": {
    "id": "zi24hqHdJa0b"
   },
   "source": [
    "# Model build"
   ]
  },
  {
   "cell_type": "code",
   "execution_count": 11,
   "metadata": {
    "id": "9fQs951zt_Wk"
   },
   "outputs": [],
   "source": [
    "from tensorflow.keras.models import Sequential\n",
    "from tensorflow.keras import models\n",
    "from tensorflow.keras import layers\n",
    "network = models.Sequential()\n",
    "network.add(layers.Dense(10, input_shape=(X_train.shape[1],), activation='relu'))\n",
    "network.add(layers.Dense(8, activation='relu'))\n",
    "network.add(layers.Dense(6, activation='relu'))\n",
    "network.add(layers.Dense(1, activation='sigmoid'))"
   ]
  },
  {
   "cell_type": "markdown",
   "metadata": {
    "id": "rEXFz2DqK636"
   },
   "source": [
    "# Compile"
   ]
  },
  {
   "cell_type": "code",
   "execution_count": 12,
   "metadata": {
    "id": "DW7scDO_t_Wk"
   },
   "outputs": [],
   "source": [
    "network.compile(optimizer='rmsprop', loss='binary_crossentropy', metrics=['accuracy'])"
   ]
  },
  {
   "cell_type": "markdown",
   "metadata": {
    "id": "8C0PJ21wLBvZ"
   },
   "source": [
    "# Train\n",
    "epoches"
   ]
  },
  {
   "cell_type": "code",
   "execution_count": 13,
   "metadata": {
    "colab": {
     "base_uri": "https://localhost:8080/"
    },
    "id": "vR7qV8cjt_Wk",
    "outputId": "1d645312-8590-4f32-ced5-6d1b26491975"
   },
   "outputs": [
    {
     "name": "stdout",
     "output_type": "stream",
     "text": [
      "Epoch 1/100\n",
      "6380/6380 [==============================] - 10s 1ms/step - loss: 0.0653 - accuracy: 0.9878 - val_loss: 0.0094 - val_accuracy: 0.9989\n",
      "Epoch 2/100\n",
      "6380/6380 [==============================] - 9s 1ms/step - loss: 0.0070 - accuracy: 0.9993 - val_loss: 0.0086 - val_accuracy: 0.9991\n",
      "Epoch 3/100\n",
      "6380/6380 [==============================] - 9s 1ms/step - loss: 0.0074 - accuracy: 0.9994 - val_loss: 0.0076 - val_accuracy: 0.9992\n",
      "Epoch 4/100\n",
      "6380/6380 [==============================] - 9s 1ms/step - loss: 0.0057 - accuracy: 0.9994 - val_loss: 0.0065 - val_accuracy: 0.9992\n",
      "Epoch 5/100\n",
      "6380/6380 [==============================] - 9s 1ms/step - loss: 0.0068 - accuracy: 0.9993 - val_loss: 0.0073 - val_accuracy: 0.9992\n",
      "Epoch 6/100\n",
      "6380/6380 [==============================] - 9s 1ms/step - loss: 0.0055 - accuracy: 0.9995 - val_loss: 0.0070 - val_accuracy: 0.9992\n",
      "Epoch 7/100\n",
      "6380/6380 [==============================] - 9s 1ms/step - loss: 0.0071 - accuracy: 0.9993 - val_loss: 0.0097 - val_accuracy: 0.9992\n",
      "Epoch 8/100\n",
      "6380/6380 [==============================] - 9s 1ms/step - loss: 0.0068 - accuracy: 0.9993 - val_loss: 0.0071 - val_accuracy: 0.9993\n",
      "Epoch 9/100\n",
      "6380/6380 [==============================] - 9s 1ms/step - loss: 0.0062 - accuracy: 0.9994 - val_loss: 0.0080 - val_accuracy: 0.9993\n",
      "Epoch 10/100\n",
      "6380/6380 [==============================] - 9s 1ms/step - loss: 0.0064 - accuracy: 0.9993 - val_loss: 0.0076 - val_accuracy: 0.9993\n",
      "Epoch 11/100\n",
      "6380/6380 [==============================] - 9s 1ms/step - loss: 0.0067 - accuracy: 0.9993 - val_loss: 0.0081 - val_accuracy: 0.9992\n",
      "Epoch 12/100\n",
      "6380/6380 [==============================] - 9s 1ms/step - loss: 0.0064 - accuracy: 0.9994 - val_loss: 0.0078 - val_accuracy: 0.9993\n",
      "Epoch 13/100\n",
      "6380/6380 [==============================] - 9s 1ms/step - loss: 0.0062 - accuracy: 0.9993 - val_loss: 0.0089 - val_accuracy: 0.9992\n",
      "Epoch 14/100\n",
      "6380/6380 [==============================] - 9s 1ms/step - loss: 0.0063 - accuracy: 0.9994 - val_loss: 0.0067 - val_accuracy: 0.9992\n",
      "Epoch 15/100\n",
      "6380/6380 [==============================] - 9s 1ms/step - loss: 0.0055 - accuracy: 0.9995 - val_loss: 0.0093 - val_accuracy: 0.9992\n",
      "Epoch 16/100\n",
      "6380/6380 [==============================] - 9s 1ms/step - loss: 0.0062 - accuracy: 0.9994 - val_loss: 0.0098 - val_accuracy: 0.9992\n",
      "Epoch 17/100\n",
      "6380/6380 [==============================] - 9s 1ms/step - loss: 0.0059 - accuracy: 0.9995 - val_loss: 0.0076 - val_accuracy: 0.9992\n",
      "Epoch 18/100\n",
      "6380/6380 [==============================] - 9s 1ms/step - loss: 0.0059 - accuracy: 0.9995 - val_loss: 0.0076 - val_accuracy: 0.9992\n",
      "Epoch 19/100\n",
      "6380/6380 [==============================] - 9s 1ms/step - loss: 0.0059 - accuracy: 0.9994 - val_loss: 0.0074 - val_accuracy: 0.9992\n",
      "Epoch 20/100\n",
      "6380/6380 [==============================] - 9s 1ms/step - loss: 0.0068 - accuracy: 0.9994 - val_loss: 0.0093 - val_accuracy: 0.9992\n",
      "Epoch 21/100\n",
      "6380/6380 [==============================] - 9s 1ms/step - loss: 0.0064 - accuracy: 0.9995 - val_loss: 0.0092 - val_accuracy: 0.9992\n",
      "Epoch 22/100\n",
      "6380/6380 [==============================] - 9s 1ms/step - loss: 0.0060 - accuracy: 0.9995 - val_loss: 0.0117 - val_accuracy: 0.9992\n",
      "Epoch 23/100\n",
      "6380/6380 [==============================] - 9s 1ms/step - loss: 0.0080 - accuracy: 0.9994 - val_loss: 0.0108 - val_accuracy: 0.9992\n",
      "Epoch 24/100\n",
      "6380/6380 [==============================] - 9s 1ms/step - loss: 0.0076 - accuracy: 0.9994 - val_loss: 0.0101 - val_accuracy: 0.9992\n",
      "Epoch 25/100\n",
      "6380/6380 [==============================] - 9s 1ms/step - loss: 0.0071 - accuracy: 0.9994 - val_loss: 0.0087 - val_accuracy: 0.9992\n",
      "Epoch 26/100\n",
      "6380/6380 [==============================] - 9s 1ms/step - loss: 0.0071 - accuracy: 0.9994 - val_loss: 0.0104 - val_accuracy: 0.9992\n",
      "Epoch 27/100\n",
      "6380/6380 [==============================] - 9s 1ms/step - loss: 0.0080 - accuracy: 0.9994 - val_loss: 0.0108 - val_accuracy: 0.9992\n",
      "Epoch 28/100\n",
      "6380/6380 [==============================] - 9s 1ms/step - loss: 0.0074 - accuracy: 0.9994 - val_loss: 0.0091 - val_accuracy: 0.9992\n",
      "Epoch 29/100\n",
      "6380/6380 [==============================] - 9s 1ms/step - loss: 0.0076 - accuracy: 0.9994 - val_loss: 0.0085 - val_accuracy: 0.9992\n",
      "Epoch 30/100\n",
      "6380/6380 [==============================] - 9s 1ms/step - loss: 0.0060 - accuracy: 0.9995 - val_loss: 0.0093 - val_accuracy: 0.9992\n",
      "Epoch 31/100\n",
      "6380/6380 [==============================] - 9s 1ms/step - loss: 0.0075 - accuracy: 0.9994 - val_loss: 0.0097 - val_accuracy: 0.9992\n",
      "Epoch 32/100\n",
      "6380/6380 [==============================] - 9s 1ms/step - loss: 0.0072 - accuracy: 0.9994 - val_loss: 0.0107 - val_accuracy: 0.9992\n",
      "Epoch 33/100\n",
      "6380/6380 [==============================] - 9s 1ms/step - loss: 0.0083 - accuracy: 0.9994 - val_loss: 0.0116 - val_accuracy: 0.9992\n",
      "Epoch 34/100\n",
      "6380/6380 [==============================] - 9s 1ms/step - loss: 0.0076 - accuracy: 0.9994 - val_loss: 0.0104 - val_accuracy: 0.9992\n",
      "Epoch 35/100\n",
      "6380/6380 [==============================] - 9s 1ms/step - loss: 0.0083 - accuracy: 0.9994 - val_loss: 0.0105 - val_accuracy: 0.9992\n",
      "Epoch 36/100\n",
      "6380/6380 [==============================] - 9s 1ms/step - loss: 0.0075 - accuracy: 0.9994 - val_loss: 0.0136 - val_accuracy: 0.9992\n",
      "Epoch 37/100\n",
      "6380/6380 [==============================] - 9s 1ms/step - loss: 0.0073 - accuracy: 0.9995 - val_loss: 0.0090 - val_accuracy: 0.9992\n",
      "Epoch 38/100\n",
      "6380/6380 [==============================] - 9s 1ms/step - loss: 0.0074 - accuracy: 0.9995 - val_loss: 0.0098 - val_accuracy: 0.9992\n",
      "Epoch 39/100\n",
      "6380/6380 [==============================] - 9s 1ms/step - loss: 0.0083 - accuracy: 0.9993 - val_loss: 0.0098 - val_accuracy: 0.9992\n",
      "Epoch 40/100\n",
      "6380/6380 [==============================] - 9s 1ms/step - loss: 0.0082 - accuracy: 0.9994 - val_loss: 0.0115 - val_accuracy: 0.9992\n",
      "Epoch 41/100\n",
      "6380/6380 [==============================] - 9s 1ms/step - loss: 0.0065 - accuracy: 0.9995 - val_loss: 0.0108 - val_accuracy: 0.9992\n",
      "Epoch 42/100\n",
      "6380/6380 [==============================] - 9s 1ms/step - loss: 0.0076 - accuracy: 0.9994 - val_loss: 0.0120 - val_accuracy: 0.9992\n",
      "Epoch 43/100\n",
      "6380/6380 [==============================] - 9s 1ms/step - loss: 0.0086 - accuracy: 0.9994 - val_loss: 0.0118 - val_accuracy: 0.9992\n",
      "Epoch 44/100\n",
      "6380/6380 [==============================] - 9s 1ms/step - loss: 0.0070 - accuracy: 0.9995 - val_loss: 0.0112 - val_accuracy: 0.9992\n",
      "Epoch 45/100\n",
      "6380/6380 [==============================] - 9s 1ms/step - loss: 0.0074 - accuracy: 0.9995 - val_loss: 0.0106 - val_accuracy: 0.9992\n",
      "Epoch 46/100\n",
      "6380/6380 [==============================] - 9s 1ms/step - loss: 0.0072 - accuracy: 0.9994 - val_loss: 0.0104 - val_accuracy: 0.9992\n",
      "Epoch 47/100\n",
      "6380/6380 [==============================] - 9s 1ms/step - loss: 0.0070 - accuracy: 0.9995 - val_loss: 0.0104 - val_accuracy: 0.9992\n",
      "Epoch 48/100\n",
      "6380/6380 [==============================] - 9s 1ms/step - loss: 0.0078 - accuracy: 0.9994 - val_loss: 0.0090 - val_accuracy: 0.9992\n",
      "Epoch 49/100\n",
      "6380/6380 [==============================] - 9s 1ms/step - loss: 0.0081 - accuracy: 0.9993 - val_loss: 0.0112 - val_accuracy: 0.9992\n",
      "Epoch 50/100\n",
      "6380/6380 [==============================] - 9s 1ms/step - loss: 0.0069 - accuracy: 0.9995 - val_loss: 0.0102 - val_accuracy: 0.9992\n",
      "Epoch 51/100\n",
      "6380/6380 [==============================] - 9s 1ms/step - loss: 0.0074 - accuracy: 0.9994 - val_loss: 0.0108 - val_accuracy: 0.9992\n",
      "Epoch 52/100\n",
      "6380/6380 [==============================] - 9s 1ms/step - loss: 0.0077 - accuracy: 0.9994 - val_loss: 0.0100 - val_accuracy: 0.9992\n",
      "Epoch 53/100\n",
      "6380/6380 [==============================] - 9s 1ms/step - loss: 0.0066 - accuracy: 0.9995 - val_loss: 0.0084 - val_accuracy: 0.9992\n",
      "Epoch 54/100\n",
      "6380/6380 [==============================] - 9s 1ms/step - loss: 0.0067 - accuracy: 0.9995 - val_loss: 0.0104 - val_accuracy: 0.9992\n",
      "Epoch 55/100\n",
      "6380/6380 [==============================] - 9s 1ms/step - loss: 0.0065 - accuracy: 0.9995 - val_loss: 0.0077 - val_accuracy: 0.9992\n",
      "Epoch 56/100\n",
      "6380/6380 [==============================] - 9s 1ms/step - loss: 0.0067 - accuracy: 0.9994 - val_loss: 0.0098 - val_accuracy: 0.9992\n",
      "Epoch 57/100\n",
      "6380/6380 [==============================] - 9s 1ms/step - loss: 0.0075 - accuracy: 0.9994 - val_loss: 0.0111 - val_accuracy: 0.9992\n",
      "Epoch 58/100\n",
      "6380/6380 [==============================] - 9s 1ms/step - loss: 0.0077 - accuracy: 0.9994 - val_loss: 0.0094 - val_accuracy: 0.9992\n",
      "Epoch 59/100\n",
      "6380/6380 [==============================] - 9s 1ms/step - loss: 0.0071 - accuracy: 0.9995 - val_loss: 0.0106 - val_accuracy: 0.9992\n",
      "Epoch 60/100\n",
      "6380/6380 [==============================] - 9s 1ms/step - loss: 0.0069 - accuracy: 0.9995 - val_loss: 0.0082 - val_accuracy: 0.9992\n",
      "Epoch 61/100\n",
      "6380/6380 [==============================] - 9s 1ms/step - loss: 0.0067 - accuracy: 0.9995 - val_loss: 0.0086 - val_accuracy: 0.9992\n",
      "Epoch 62/100\n",
      "6380/6380 [==============================] - 9s 1ms/step - loss: 0.0074 - accuracy: 0.9994 - val_loss: 0.0099 - val_accuracy: 0.9992\n",
      "Epoch 63/100\n",
      "6380/6380 [==============================] - 9s 1ms/step - loss: 0.0070 - accuracy: 0.9995 - val_loss: 0.0099 - val_accuracy: 0.9992\n",
      "Epoch 64/100\n",
      "6380/6380 [==============================] - 9s 1ms/step - loss: 0.0070 - accuracy: 0.9995 - val_loss: 0.0082 - val_accuracy: 0.9993\n",
      "Epoch 65/100\n",
      "6380/6380 [==============================] - 9s 1ms/step - loss: 0.0067 - accuracy: 0.9995 - val_loss: 0.0113 - val_accuracy: 0.9992\n",
      "Epoch 66/100\n",
      "6380/6380 [==============================] - 9s 1ms/step - loss: 0.0073 - accuracy: 0.9995 - val_loss: 0.0120 - val_accuracy: 0.9992\n",
      "Epoch 67/100\n",
      "6380/6380 [==============================] - 9s 1ms/step - loss: 0.0069 - accuracy: 0.9996 - val_loss: 0.0104 - val_accuracy: 0.9992\n",
      "Epoch 68/100\n",
      "6380/6380 [==============================] - 9s 1ms/step - loss: 0.0070 - accuracy: 0.9995 - val_loss: 0.0089 - val_accuracy: 0.9992\n",
      "Epoch 69/100\n",
      "6380/6380 [==============================] - 9s 1ms/step - loss: 0.0065 - accuracy: 0.9995 - val_loss: 0.0111 - val_accuracy: 0.9992\n",
      "Epoch 70/100\n",
      "6380/6380 [==============================] - 9s 1ms/step - loss: 0.0074 - accuracy: 0.9995 - val_loss: 0.0102 - val_accuracy: 0.9992\n",
      "Epoch 71/100\n",
      "6380/6380 [==============================] - 9s 1ms/step - loss: 0.0074 - accuracy: 0.9994 - val_loss: 0.0095 - val_accuracy: 0.9992\n",
      "Epoch 72/100\n",
      "6380/6380 [==============================] - 9s 1ms/step - loss: 0.0070 - accuracy: 0.9995 - val_loss: 0.0114 - val_accuracy: 0.9992\n",
      "Epoch 73/100\n",
      "6380/6380 [==============================] - 9s 1ms/step - loss: 0.0077 - accuracy: 0.9993 - val_loss: 0.0118 - val_accuracy: 0.9992\n",
      "Epoch 74/100\n",
      "6380/6380 [==============================] - 9s 1ms/step - loss: 0.0073 - accuracy: 0.9995 - val_loss: 0.0095 - val_accuracy: 0.9992\n",
      "Epoch 75/100\n",
      "6380/6380 [==============================] - 9s 1ms/step - loss: 0.0066 - accuracy: 0.9995 - val_loss: 0.0136 - val_accuracy: 0.9992\n",
      "Epoch 76/100\n",
      "6380/6380 [==============================] - 9s 1ms/step - loss: 0.0073 - accuracy: 0.9995 - val_loss: 0.0117 - val_accuracy: 0.9992\n",
      "Epoch 77/100\n",
      "6380/6380 [==============================] - 9s 1ms/step - loss: 0.0058 - accuracy: 0.9996 - val_loss: 0.0118 - val_accuracy: 0.9992\n",
      "Epoch 78/100\n",
      "6380/6380 [==============================] - 9s 1ms/step - loss: 0.0081 - accuracy: 0.9994 - val_loss: 0.0108 - val_accuracy: 0.9992\n",
      "Epoch 79/100\n",
      "6380/6380 [==============================] - 9s 1ms/step - loss: 0.0080 - accuracy: 0.9993 - val_loss: 0.0100 - val_accuracy: 0.9992\n",
      "Epoch 80/100\n",
      "6380/6380 [==============================] - 9s 1ms/step - loss: 0.0062 - accuracy: 0.9996 - val_loss: 0.0100 - val_accuracy: 0.9992\n",
      "Epoch 81/100\n",
      "6380/6380 [==============================] - 9s 1ms/step - loss: 0.0076 - accuracy: 0.9994 - val_loss: 0.0110 - val_accuracy: 0.9992\n",
      "Epoch 82/100\n",
      "6380/6380 [==============================] - 9s 1ms/step - loss: 0.0074 - accuracy: 0.9994 - val_loss: 0.0114 - val_accuracy: 0.9992\n",
      "Epoch 83/100\n",
      "6380/6380 [==============================] - 9s 1ms/step - loss: 0.0083 - accuracy: 0.9993 - val_loss: 0.0097 - val_accuracy: 0.9992\n",
      "Epoch 84/100\n",
      "6380/6380 [==============================] - 9s 1ms/step - loss: 0.0081 - accuracy: 0.9994 - val_loss: 0.0115 - val_accuracy: 0.9992\n",
      "Epoch 85/100\n",
      "6380/6380 [==============================] - 9s 1ms/step - loss: 0.0075 - accuracy: 0.9994 - val_loss: 0.0109 - val_accuracy: 0.9992\n",
      "Epoch 86/100\n",
      "6380/6380 [==============================] - 9s 1ms/step - loss: 0.0065 - accuracy: 0.9995 - val_loss: 0.0084 - val_accuracy: 0.9992\n",
      "Epoch 87/100\n",
      "6380/6380 [==============================] - 9s 1ms/step - loss: 0.0068 - accuracy: 0.9994 - val_loss: 0.0117 - val_accuracy: 0.9992\n",
      "Epoch 88/100\n",
      "6380/6380 [==============================] - 9s 1ms/step - loss: 0.0065 - accuracy: 0.9995 - val_loss: 0.0127 - val_accuracy: 0.9992\n",
      "Epoch 89/100\n",
      "6380/6380 [==============================] - 9s 1ms/step - loss: 0.0076 - accuracy: 0.9995 - val_loss: 0.0125 - val_accuracy: 0.9992\n",
      "Epoch 90/100\n",
      "6380/6380 [==============================] - 9s 1ms/step - loss: 0.0082 - accuracy: 0.9994 - val_loss: 0.0109 - val_accuracy: 0.9992\n",
      "Epoch 91/100\n",
      "6380/6380 [==============================] - 9s 1ms/step - loss: 0.0067 - accuracy: 0.9995 - val_loss: 0.0093 - val_accuracy: 0.9992\n",
      "Epoch 92/100\n",
      "6380/6380 [==============================] - 9s 1ms/step - loss: 0.0065 - accuracy: 0.9994 - val_loss: 0.0117 - val_accuracy: 0.9993\n",
      "Epoch 93/100\n",
      "6380/6380 [==============================] - 9s 1ms/step - loss: 0.0064 - accuracy: 0.9995 - val_loss: 0.0113 - val_accuracy: 0.9992\n",
      "Epoch 94/100\n",
      "6380/6380 [==============================] - 9s 1ms/step - loss: 0.0067 - accuracy: 0.9995 - val_loss: 0.0072 - val_accuracy: 0.9992\n",
      "Epoch 95/100\n",
      "6380/6380 [==============================] - 9s 1ms/step - loss: 0.0067 - accuracy: 0.9994 - val_loss: 0.0119 - val_accuracy: 0.9993\n",
      "Epoch 96/100\n",
      "6380/6380 [==============================] - 9s 1ms/step - loss: 0.0067 - accuracy: 0.9994 - val_loss: 0.0087 - val_accuracy: 0.9992\n",
      "Epoch 97/100\n",
      "6380/6380 [==============================] - 9s 1ms/step - loss: 0.0073 - accuracy: 0.9994 - val_loss: 0.0125 - val_accuracy: 0.9992\n",
      "Epoch 98/100\n",
      "6380/6380 [==============================] - 9s 1ms/step - loss: 0.0064 - accuracy: 0.9996 - val_loss: 0.0109 - val_accuracy: 0.9992\n",
      "Epoch 99/100\n",
      "6380/6380 [==============================] - 9s 1ms/step - loss: 0.0069 - accuracy: 0.9994 - val_loss: 0.0112 - val_accuracy: 0.9992\n",
      "Epoch 100/100\n",
      "6380/6380 [==============================] - 9s 1ms/step - loss: 0.0076 - accuracy: 0.9994 - val_loss: 0.0108 - val_accuracy: 0.9992\n"
     ]
    },
    {
     "data": {
      "text/plain": [
       "<tensorflow.python.keras.callbacks.History at 0x7f6922189710>"
      ]
     },
     "execution_count": 13,
     "metadata": {
      "tags": []
     },
     "output_type": "execute_result"
    }
   ],
   "source": [
    "network.fit(X_train, y_train, epochs=100, batch_size=25,verbose = 1, validation_split=0.2)"
   ]
  },
  {
   "cell_type": "markdown",
   "metadata": {
    "id": "CKVTySNGQI5T"
   },
   "source": [
    "# Evaluation"
   ]
  },
  {
   "cell_type": "code",
   "execution_count": 14,
   "metadata": {
    "colab": {
     "base_uri": "https://localhost:8080/"
    },
    "id": "rgaEEi5ut_Wk",
    "outputId": "8a38edd4-0567-472e-c918-d0840ae485bb"
   },
   "outputs": [
    {
     "name": "stdout",
     "output_type": "stream",
     "text": [
      "2671/2671 [==============================] - 3s 990us/step - loss: 0.0098 - accuracy: 0.9994\n"
     ]
    }
   ],
   "source": [
    "loss , accuracy = network.evaluate(X_test,y_test)"
   ]
  },
  {
   "cell_type": "markdown",
   "metadata": {
    "id": "GgMbxY7HQhna"
   },
   "source": [
    "# Predict"
   ]
  },
  {
   "cell_type": "code",
   "execution_count": 15,
   "metadata": {
    "id": "O2yHMTmMt_Wl"
   },
   "outputs": [],
   "source": [
    "Prediction= network.predict(X_test)"
   ]
  },
  {
   "cell_type": "code",
   "execution_count": 16,
   "metadata": {
    "colab": {
     "base_uri": "https://localhost:8080/"
    },
    "id": "h6UdAOQjRNxw",
    "outputId": "f0cbc1e6-d562-47c9-df22-f20eed0496bc"
   },
   "outputs": [
    {
     "name": "stdout",
     "output_type": "stream",
     "text": [
      "Accuracy is 0.9993796944618225\n",
      "Loss is 0.009830818511545658\n"
     ]
    }
   ],
   "source": [
    "print(\"Accuracy is\",accuracy)\n",
    "print(\"Loss is\",loss)"
   ]
  }
 ],
 "metadata": {
  "colab": {
   "collapsed_sections": [],
   "name": "PIAIC64041_Credit Card Fraud Detection assignment.ipynb",
   "provenance": []
  },
  "kernelspec": {
   "display_name": "Python 3",
   "language": "python",
   "name": "python3"
  },
  "language_info": {
   "codemirror_mode": {
    "name": "ipython",
    "version": 3
   },
   "file_extension": ".py",
   "mimetype": "text/x-python",
   "name": "python",
   "nbconvert_exporter": "python",
   "pygments_lexer": "ipython3",
   "version": "3.8.5"
  }
 },
 "nbformat": 4,
 "nbformat_minor": 1
}
