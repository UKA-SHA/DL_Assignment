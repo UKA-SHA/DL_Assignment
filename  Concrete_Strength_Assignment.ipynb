{
 "cells": [
  {
   "cell_type": "markdown",
   "metadata": {
    "id": "p6uSSttiNxXp"
   },
   "source": [
    "# Assignment: Compresive Strength Concrete Problem\n",
    "\n",
    "\n",
    "### Abstract: \n",
    "\n",
    "Concrete is the most important material in civil engineering. The concrete compressive strength (concrete strength to bear the load) is a highly nonlinear function of age and ingredients.  <br><br>\n",
    "\n",
    "<table border=\"1\"  cellpadding=\"6\" bordercolor=\"red\">\n",
    "\t<tbody>\n",
    "        <tr>\n",
    "\t\t<td bgcolor=\"#DDEEFF\"><p class=\"normal\"><b>Data Set Characteristics:&nbsp;&nbsp;</b></p></td>\n",
    "\t\t<td><p class=\"normal\">Multivariate</p></td>\n",
    "\t\t<td bgcolor=\"#DDEEFF\"><p class=\"normal\"><b>Number of Instances:</b></p></td>\n",
    "\t\t<td><p class=\"normal\">1030</p></td>\n",
    "\t\t<td bgcolor=\"#DDEEFF\"><p class=\"normal\"><b>Area:</b></p></td>\n",
    "\t\t<td><p class=\"normal\">Physical</p></td>\n",
    "        </tr>\n",
    "     </tbody>\n",
    "    </table>\n",
    "<table border=\"1\" cellpadding=\"6\">\n",
    "    <tbody>\n",
    "        <tr>\n",
    "            <td bgcolor=\"#DDEEFF\"><p class=\"normal\"><b>Attribute Characteristics:</b></p></td>\n",
    "            <td><p class=\"normal\">Real</p></td>\n",
    "            <td bgcolor=\"#DDEEFF\"><p class=\"normal\"><b>Number of Attributes:</b></p></td>\n",
    "            <td><p class=\"normal\">9</p></td>\n",
    "            <td bgcolor=\"#DDEEFF\"><p class=\"normal\"><b>Date Donated</b></p></td>\n",
    "            <td><p class=\"normal\">2007-08-03</p></td>\n",
    "        </tr>\n",
    "     </tbody>\n",
    "    </table>\n",
    "<table border=\"1\" cellpadding=\"6\">\t\n",
    "    <tbody>\n",
    "    <tr>\n",
    "\t\t<td bgcolor=\"#DDEEFF\"><p class=\"normal\"><b>Associated Tasks:</b></p></td>\n",
    "\t\t<td><p class=\"normal\">Regression</p></td>\n",
    "\t\t<td bgcolor=\"#DDEEFF\"><p class=\"normal\"><b>Missing Values?</b></p></td>\n",
    "\t\t<td><p class=\"normal\">N/A</p></td>\n",
    "\t\t<td bgcolor=\"#DDEEFF\"><p class=\"normal\"><b>Number of Web Hits:</b></p></td>\n",
    "\t\t<td><p class=\"normal\">231464</p></td>\n",
    "\t</tr>\n",
    "    </tbody>\n",
    "    </table>"
   ]
  },
  {
   "cell_type": "markdown",
   "metadata": {
    "id": "x_5kqfHDNxX2"
   },
   "source": [
    "###  Description:\n",
    "| Features Name | Data Type | Measurement | Description |\n",
    "| -- | -- | -- | -- |\n",
    "Cement (component 1) | quantitative | kg in a m3 mixture | Input Variable\n",
    "Blast Furnace Slag (component 2) | quantitative | kg in a m3 mixture | Input Variable\n",
    "Fly Ash (component 3) | quantitative | kg in a m3 mixture | Input Variable\n",
    "Water (component 4) | quantitative | kg in a m3 mixture | Input Variable\n",
    "Superplasticizer (component 5) | quantitative | kg in a m3 mixture | Input Variable\n",
    "Coarse Aggregate (component 6) | quantitative | kg in a m3 mixture | Input Variable\n",
    "Fine Aggregate (component 7) | quantitative | kg in a m3 mixture | Input Variable\n",
    "Age | quantitative | Day (1~365) | Input Variable\n",
    "Concrete compressive strength | quantitative | MPa | Output Variable\n",
    "\n",
    "### WORKFLOW :\n",
    "- Load Data\n",
    "- Check Missing Values ( If Exist ; Fill each record with mean of its feature )\n",
    "- Standardized the Input Variables. **Hint**: Centeralized the data\n",
    "- Split into 50% Training(Samples,Labels) , 30% Test(Samples,Labels) and 20% Validation Data(Samples,Labels).\n",
    "- Model : input Layer (No. of features ), 3 hidden layers including 10,8,6 unit & Output Layer with activation function relu/tanh (check by experiment).\n",
    "- Compilation Step (Note : Its a Regression problem , select loss , metrics according to it)\n",
    "- Train the Model with Epochs (100) and validate it\n",
    "- If the model gets overfit tune your model by changing the units , No. of layers , activation function , epochs , add dropout layer or add Regularizer according to the need .\n",
    "- Evaluation Step\n",
    "- Prediction\n"
   ]
  },
  {
   "cell_type": "markdown",
   "metadata": {
    "id": "tNS5qoY2OjJE"
   },
   "source": [
    "***Drive Mount***"
   ]
  },
  {
   "cell_type": "code",
   "execution_count": 1,
   "metadata": {
    "colab": {
     "base_uri": "https://localhost:8080/"
    },
    "id": "3lJxW5dYNxX4",
    "outputId": "758df187-b9c7-4a52-ac0d-5f5232c2d76e"
   },
   "outputs": [
    {
     "name": "stdout",
     "output_type": "stream",
     "text": [
      "Drive already mounted at /content/drive; to attempt to forcibly remount, call drive.mount(\"/content/drive\", force_remount=True).\n"
     ]
    }
   ],
   "source": [
    "from google.colab import drive\n",
    "drive.mount('/content/drive')"
   ]
  },
  {
   "cell_type": "markdown",
   "metadata": {
    "id": "u554JCY4O96s"
   },
   "source": [
    "***imort libraries***"
   ]
  },
  {
   "cell_type": "code",
   "execution_count": 2,
   "metadata": {
    "id": "yYEpfbQMPDl4"
   },
   "outputs": [],
   "source": [
    "import numpy as np \n",
    "import pandas as pd\n",
    "import matplotlib.pyplot as plt\n",
    "import tensorflow as tf\n",
    "import seaborn as sns"
   ]
  },
  {
   "cell_type": "markdown",
   "metadata": {
    "id": "SsF1HHUTNxX4"
   },
   "source": [
    "# Load Data:\n",
    "[Click Here to Download DataSet](https://github.com/ramsha275/ML_Datasets/blob/main/compresive_strength_concrete.csv)"
   ]
  },
  {
   "cell_type": "code",
   "execution_count": 3,
   "metadata": {
    "id": "bTNb4P0IPOgR"
   },
   "outputs": [],
   "source": [
    "con_data = pd.read_csv(\"/content/drive/MyDrive/deep learning assignment/compresive_strength_concrete.csv\")"
   ]
  },
  {
   "cell_type": "code",
   "execution_count": 4,
   "metadata": {
    "colab": {
     "base_uri": "https://localhost:8080/",
     "height": 294
    },
    "id": "s9nFZkjSPu5w",
    "outputId": "83a26a81-770c-47b0-bd46-a8be9b7e411c"
   },
   "outputs": [
    {
     "data": {
      "text/html": [
       "<div>\n",
       "<style scoped>\n",
       "    .dataframe tbody tr th:only-of-type {\n",
       "        vertical-align: middle;\n",
       "    }\n",
       "\n",
       "    .dataframe tbody tr th {\n",
       "        vertical-align: top;\n",
       "    }\n",
       "\n",
       "    .dataframe thead th {\n",
       "        text-align: right;\n",
       "    }\n",
       "</style>\n",
       "<table border=\"1\" class=\"dataframe\">\n",
       "  <thead>\n",
       "    <tr style=\"text-align: right;\">\n",
       "      <th></th>\n",
       "      <th>Cement (component 1)(kg in a m^3 mixture)</th>\n",
       "      <th>Blast Furnace Slag (component 2)(kg in a m^3 mixture)</th>\n",
       "      <th>Fly Ash (component 3)(kg in a m^3 mixture)</th>\n",
       "      <th>Water  (component 4)(kg in a m^3 mixture)</th>\n",
       "      <th>Superplasticizer (component 5)(kg in a m^3 mixture)</th>\n",
       "      <th>Coarse Aggregate  (component 6)(kg in a m^3 mixture)</th>\n",
       "      <th>Fine Aggregate (component 7)(kg in a m^3 mixture)</th>\n",
       "      <th>Age (day)</th>\n",
       "      <th>Concrete compressive strength(MPa, megapascals)</th>\n",
       "    </tr>\n",
       "  </thead>\n",
       "  <tbody>\n",
       "    <tr>\n",
       "      <th>0</th>\n",
       "      <td>540.0</td>\n",
       "      <td>0.0</td>\n",
       "      <td>0.0</td>\n",
       "      <td>162.0</td>\n",
       "      <td>2.5</td>\n",
       "      <td>1040.0</td>\n",
       "      <td>676.0</td>\n",
       "      <td>28</td>\n",
       "      <td>79.99</td>\n",
       "    </tr>\n",
       "    <tr>\n",
       "      <th>1</th>\n",
       "      <td>540.0</td>\n",
       "      <td>0.0</td>\n",
       "      <td>0.0</td>\n",
       "      <td>162.0</td>\n",
       "      <td>2.5</td>\n",
       "      <td>1055.0</td>\n",
       "      <td>676.0</td>\n",
       "      <td>28</td>\n",
       "      <td>61.89</td>\n",
       "    </tr>\n",
       "    <tr>\n",
       "      <th>2</th>\n",
       "      <td>332.5</td>\n",
       "      <td>142.5</td>\n",
       "      <td>0.0</td>\n",
       "      <td>228.0</td>\n",
       "      <td>0.0</td>\n",
       "      <td>932.0</td>\n",
       "      <td>594.0</td>\n",
       "      <td>270</td>\n",
       "      <td>40.27</td>\n",
       "    </tr>\n",
       "    <tr>\n",
       "      <th>3</th>\n",
       "      <td>332.5</td>\n",
       "      <td>142.5</td>\n",
       "      <td>0.0</td>\n",
       "      <td>228.0</td>\n",
       "      <td>0.0</td>\n",
       "      <td>932.0</td>\n",
       "      <td>594.0</td>\n",
       "      <td>365</td>\n",
       "      <td>41.05</td>\n",
       "    </tr>\n",
       "    <tr>\n",
       "      <th>4</th>\n",
       "      <td>198.6</td>\n",
       "      <td>132.4</td>\n",
       "      <td>0.0</td>\n",
       "      <td>192.0</td>\n",
       "      <td>0.0</td>\n",
       "      <td>978.4</td>\n",
       "      <td>825.5</td>\n",
       "      <td>360</td>\n",
       "      <td>44.30</td>\n",
       "    </tr>\n",
       "    <tr>\n",
       "      <th>5</th>\n",
       "      <td>266.0</td>\n",
       "      <td>114.0</td>\n",
       "      <td>0.0</td>\n",
       "      <td>228.0</td>\n",
       "      <td>0.0</td>\n",
       "      <td>932.0</td>\n",
       "      <td>670.0</td>\n",
       "      <td>90</td>\n",
       "      <td>47.03</td>\n",
       "    </tr>\n",
       "  </tbody>\n",
       "</table>\n",
       "</div>"
      ],
      "text/plain": [
       "   Cement (component 1)(kg in a m^3 mixture)  ...  Concrete compressive strength(MPa, megapascals) \n",
       "0                                      540.0  ...                                             79.99\n",
       "1                                      540.0  ...                                             61.89\n",
       "2                                      332.5  ...                                             40.27\n",
       "3                                      332.5  ...                                             41.05\n",
       "4                                      198.6  ...                                             44.30\n",
       "5                                      266.0  ...                                             47.03\n",
       "\n",
       "[6 rows x 9 columns]"
      ]
     },
     "execution_count": 4,
     "metadata": {
      "tags": []
     },
     "output_type": "execute_result"
    }
   ],
   "source": [
    "con_data.head(6)"
   ]
  },
  {
   "cell_type": "code",
   "execution_count": 5,
   "metadata": {
    "colab": {
     "base_uri": "https://localhost:8080/",
     "height": 371
    },
    "id": "uqXPYo_7PxDF",
    "outputId": "d14e4a3e-1ab4-4974-be1a-17b279bbc80c"
   },
   "outputs": [
    {
     "data": {
      "text/html": [
       "<div>\n",
       "<style scoped>\n",
       "    .dataframe tbody tr th:only-of-type {\n",
       "        vertical-align: middle;\n",
       "    }\n",
       "\n",
       "    .dataframe tbody tr th {\n",
       "        vertical-align: top;\n",
       "    }\n",
       "\n",
       "    .dataframe thead th {\n",
       "        text-align: right;\n",
       "    }\n",
       "</style>\n",
       "<table border=\"1\" class=\"dataframe\">\n",
       "  <thead>\n",
       "    <tr style=\"text-align: right;\">\n",
       "      <th></th>\n",
       "      <th>Cement (component 1)(kg in a m^3 mixture)</th>\n",
       "      <th>Blast Furnace Slag (component 2)(kg in a m^3 mixture)</th>\n",
       "      <th>Fly Ash (component 3)(kg in a m^3 mixture)</th>\n",
       "      <th>Water  (component 4)(kg in a m^3 mixture)</th>\n",
       "      <th>Superplasticizer (component 5)(kg in a m^3 mixture)</th>\n",
       "      <th>Coarse Aggregate  (component 6)(kg in a m^3 mixture)</th>\n",
       "      <th>Fine Aggregate (component 7)(kg in a m^3 mixture)</th>\n",
       "      <th>Age (day)</th>\n",
       "      <th>Concrete compressive strength(MPa, megapascals)</th>\n",
       "    </tr>\n",
       "  </thead>\n",
       "  <tbody>\n",
       "    <tr>\n",
       "      <th>count</th>\n",
       "      <td>1030.000000</td>\n",
       "      <td>1030.000000</td>\n",
       "      <td>1030.000000</td>\n",
       "      <td>1030.000000</td>\n",
       "      <td>1030.000000</td>\n",
       "      <td>1030.000000</td>\n",
       "      <td>1030.000000</td>\n",
       "      <td>1030.000000</td>\n",
       "      <td>1030.000000</td>\n",
       "    </tr>\n",
       "    <tr>\n",
       "      <th>mean</th>\n",
       "      <td>281.167864</td>\n",
       "      <td>73.895825</td>\n",
       "      <td>54.188350</td>\n",
       "      <td>181.567282</td>\n",
       "      <td>6.204660</td>\n",
       "      <td>972.918932</td>\n",
       "      <td>773.580485</td>\n",
       "      <td>45.662136</td>\n",
       "      <td>35.817961</td>\n",
       "    </tr>\n",
       "    <tr>\n",
       "      <th>std</th>\n",
       "      <td>104.506364</td>\n",
       "      <td>86.279342</td>\n",
       "      <td>63.997004</td>\n",
       "      <td>21.354219</td>\n",
       "      <td>5.973841</td>\n",
       "      <td>77.753954</td>\n",
       "      <td>80.175980</td>\n",
       "      <td>63.169912</td>\n",
       "      <td>16.705742</td>\n",
       "    </tr>\n",
       "    <tr>\n",
       "      <th>min</th>\n",
       "      <td>102.000000</td>\n",
       "      <td>0.000000</td>\n",
       "      <td>0.000000</td>\n",
       "      <td>121.800000</td>\n",
       "      <td>0.000000</td>\n",
       "      <td>801.000000</td>\n",
       "      <td>594.000000</td>\n",
       "      <td>1.000000</td>\n",
       "      <td>2.330000</td>\n",
       "    </tr>\n",
       "    <tr>\n",
       "      <th>25%</th>\n",
       "      <td>192.375000</td>\n",
       "      <td>0.000000</td>\n",
       "      <td>0.000000</td>\n",
       "      <td>164.900000</td>\n",
       "      <td>0.000000</td>\n",
       "      <td>932.000000</td>\n",
       "      <td>730.950000</td>\n",
       "      <td>7.000000</td>\n",
       "      <td>23.710000</td>\n",
       "    </tr>\n",
       "    <tr>\n",
       "      <th>50%</th>\n",
       "      <td>272.900000</td>\n",
       "      <td>22.000000</td>\n",
       "      <td>0.000000</td>\n",
       "      <td>185.000000</td>\n",
       "      <td>6.400000</td>\n",
       "      <td>968.000000</td>\n",
       "      <td>779.500000</td>\n",
       "      <td>28.000000</td>\n",
       "      <td>34.445000</td>\n",
       "    </tr>\n",
       "    <tr>\n",
       "      <th>75%</th>\n",
       "      <td>350.000000</td>\n",
       "      <td>142.950000</td>\n",
       "      <td>118.300000</td>\n",
       "      <td>192.000000</td>\n",
       "      <td>10.200000</td>\n",
       "      <td>1029.400000</td>\n",
       "      <td>824.000000</td>\n",
       "      <td>56.000000</td>\n",
       "      <td>46.135000</td>\n",
       "    </tr>\n",
       "    <tr>\n",
       "      <th>max</th>\n",
       "      <td>540.000000</td>\n",
       "      <td>359.400000</td>\n",
       "      <td>200.100000</td>\n",
       "      <td>247.000000</td>\n",
       "      <td>32.200000</td>\n",
       "      <td>1145.000000</td>\n",
       "      <td>992.600000</td>\n",
       "      <td>365.000000</td>\n",
       "      <td>82.600000</td>\n",
       "    </tr>\n",
       "  </tbody>\n",
       "</table>\n",
       "</div>"
      ],
      "text/plain": [
       "       Cement (component 1)(kg in a m^3 mixture)  ...  Concrete compressive strength(MPa, megapascals) \n",
       "count                                1030.000000  ...                                       1030.000000\n",
       "mean                                  281.167864  ...                                         35.817961\n",
       "std                                   104.506364  ...                                         16.705742\n",
       "min                                   102.000000  ...                                          2.330000\n",
       "25%                                   192.375000  ...                                         23.710000\n",
       "50%                                   272.900000  ...                                         34.445000\n",
       "75%                                   350.000000  ...                                         46.135000\n",
       "max                                   540.000000  ...                                         82.600000\n",
       "\n",
       "[8 rows x 9 columns]"
      ]
     },
     "execution_count": 5,
     "metadata": {
      "tags": []
     },
     "output_type": "execute_result"
    }
   ],
   "source": [
    "con_data.describe()"
   ]
  },
  {
   "cell_type": "code",
   "execution_count": 6,
   "metadata": {
    "colab": {
     "base_uri": "https://localhost:8080/"
    },
    "id": "4IpBxii0QKnU",
    "outputId": "5aba1bc5-f0bc-4428-f2b0-72e45993d51e"
   },
   "outputs": [
    {
     "data": {
      "text/plain": [
       "Cement (component 1)(kg in a m^3 mixture)                float64\n",
       "Blast Furnace Slag (component 2)(kg in a m^3 mixture)    float64\n",
       "Fly Ash (component 3)(kg in a m^3 mixture)               float64\n",
       "Water  (component 4)(kg in a m^3 mixture)                float64\n",
       "Superplasticizer (component 5)(kg in a m^3 mixture)      float64\n",
       "Coarse Aggregate  (component 6)(kg in a m^3 mixture)     float64\n",
       "Fine Aggregate (component 7)(kg in a m^3 mixture)        float64\n",
       "Age (day)                                                  int64\n",
       "Concrete compressive strength(MPa, megapascals)          float64\n",
       "dtype: object"
      ]
     },
     "execution_count": 6,
     "metadata": {
      "tags": []
     },
     "output_type": "execute_result"
    }
   ],
   "source": [
    "con_data.dtypes"
   ]
  },
  {
   "cell_type": "markdown",
   "metadata": {
    "id": "_ZFU6kzx9lkW"
   },
   "source": [
    "***rename colums***"
   ]
  },
  {
   "cell_type": "code",
   "execution_count": 7,
   "metadata": {
    "id": "MHueUcsyV0lf"
   },
   "outputs": [],
   "source": [
    "columns = {\n",
    "    'Cement (component 1)(kg in a m^3 mixture)':'Cement',\n",
    "    'Blast Furnace Slag (component 2)(kg in a m^3 mixture)':'Blast_Furnance_Slag',\n",
    "    'Fly Ash (component 3)(kg in a m^3 mixture)':'Fly_Ash',\n",
    "    'Water  (component 4)(kg in a m^3 mixture)':'Water',\n",
    "    'Superplasticizer (component 5)(kg in a m^3 mixture)':'Super_Plasticizer',\n",
    "    'Coarse Aggregate  (component 6)(kg in a m^3 mixture)':'Coarse_Aggregate',\n",
    "    'Fine Aggregate (component 7)(kg in a m^3 mixture)':'Fine_Aggregate',\n",
    "    'Age (day)':'Age',\n",
    "    'Concrete compressive strength(MPa, megapascals) ':'Concrete_Strength'\n",
    "    }\n",
    "  \n",
    "con_data.rename(columns = columns, inplace=True)"
   ]
  },
  {
   "cell_type": "code",
   "execution_count": 8,
   "metadata": {
    "colab": {
     "base_uri": "https://localhost:8080/"
    },
    "id": "JbjHwDX9UbBf",
    "outputId": "12268d7b-4641-488e-afff-ef402b326b32"
   },
   "outputs": [
    {
     "data": {
      "text/plain": [
       "Index(['Cement', 'Blast_Furnance_Slag', 'Fly_Ash', 'Water',\n",
       "       'Super_Plasticizer', 'Coarse_Aggregate', 'Fine_Aggregate', 'Age',\n",
       "       'Concrete_Strength'],\n",
       "      dtype='object')"
      ]
     },
     "execution_count": 8,
     "metadata": {
      "tags": []
     },
     "output_type": "execute_result"
    }
   ],
   "source": [
    "con_data.columns"
   ]
  },
  {
   "cell_type": "markdown",
   "metadata": {
    "id": "duORZPwaQmBA"
   },
   "source": [
    "# Check Missing Values"
   ]
  },
  {
   "cell_type": "code",
   "execution_count": 9,
   "metadata": {
    "colab": {
     "base_uri": "https://localhost:8080/"
    },
    "id": "vtIGWO2LQofo",
    "outputId": "7b233276-a5c8-450a-d764-04dae5d56680"
   },
   "outputs": [
    {
     "data": {
      "text/plain": [
       "Cement                 0\n",
       "Blast_Furnance_Slag    0\n",
       "Fly_Ash                0\n",
       "Water                  0\n",
       "Super_Plasticizer      0\n",
       "Coarse_Aggregate       0\n",
       "Fine_Aggregate         0\n",
       "Age                    0\n",
       "Concrete_Strength      0\n",
       "dtype: int64"
      ]
     },
     "execution_count": 9,
     "metadata": {
      "tags": []
     },
     "output_type": "execute_result"
    }
   ],
   "source": [
    "con_data.isnull().sum()"
   ]
  },
  {
   "cell_type": "markdown",
   "metadata": {
    "id": "LGOY2LVW8zWh"
   },
   "source": [
    "***Correlation***"
   ]
  },
  {
   "cell_type": "code",
   "execution_count": 10,
   "metadata": {
    "colab": {
     "base_uri": "https://localhost:8080/",
     "height": 645
    },
    "id": "tgoDUFIC8Ngg",
    "outputId": "e3465438-bc93-4ffd-b4f7-9a42131ed476"
   },
   "outputs": [
    {
     "data": {
      "image/png": "[encoded data removed]",
      "text/plain": [
       "<Figure size 720x648 with 2 Axes>"
      ]
     },
     "metadata": {
      "needs_background": "light",
      "tags": []
     },
     "output_type": "display_data"
    }
   ],
   "source": [
    "corr = con_data.corr()\n",
    "plt.figure(figsize= (10,9))\n",
    "sns.heatmap(corr, annot = True, cmap = 'Blues')\n",
    "b, t = plt.ylim()\n",
    "plt.ylim(b+0.5, t-0.5)\n",
    "plt.title(\"Feature Correlation Heatmap\")\n",
    "plt.show()"
   ]
  },
  {
   "cell_type": "markdown",
   "metadata": {
    "id": "9qFCgAVyZqav"
   },
   "source": [
    "# Split Data"
   ]
  },
  {
   "cell_type": "code",
   "execution_count": 11,
   "metadata": {
    "id": "JOPVUmBCVQXj"
   },
   "outputs": [],
   "source": [
    "from sklearn.model_selection import train_test_split\n",
    "x=con_data.iloc[:,:8]\n",
    "y=con_data.iloc[:,-1]"
   ]
  },
  {
   "cell_type": "code",
   "execution_count": 12,
   "metadata": {
    "colab": {
     "base_uri": "https://localhost:8080/",
     "height": 406
    },
    "id": "Z6yx05BHX3On",
    "outputId": "7c62f779-1fc3-40e0-8ce7-e33c2888370f"
   },
   "outputs": [
    {
     "data": {
      "text/html": [
       "<div>\n",
       "<style scoped>\n",
       "    .dataframe tbody tr th:only-of-type {\n",
       "        vertical-align: middle;\n",
       "    }\n",
       "\n",
       "    .dataframe tbody tr th {\n",
       "        vertical-align: top;\n",
       "    }\n",
       "\n",
       "    .dataframe thead th {\n",
       "        text-align: right;\n",
       "    }\n",
       "</style>\n",
       "<table border=\"1\" class=\"dataframe\">\n",
       "  <thead>\n",
       "    <tr style=\"text-align: right;\">\n",
       "      <th></th>\n",
       "      <th>Cement</th>\n",
       "      <th>Blast_Furnance_Slag</th>\n",
       "      <th>Fly_Ash</th>\n",
       "      <th>Water</th>\n",
       "      <th>Super_Plasticizer</th>\n",
       "      <th>Coarse_Aggregate</th>\n",
       "      <th>Fine_Aggregate</th>\n",
       "      <th>Age</th>\n",
       "    </tr>\n",
       "  </thead>\n",
       "  <tbody>\n",
       "    <tr>\n",
       "      <th>132</th>\n",
       "      <td>362.6</td>\n",
       "      <td>189.0</td>\n",
       "      <td>0.0</td>\n",
       "      <td>164.9</td>\n",
       "      <td>11.6</td>\n",
       "      <td>944.7</td>\n",
       "      <td>755.8</td>\n",
       "      <td>28</td>\n",
       "    </tr>\n",
       "    <tr>\n",
       "      <th>13</th>\n",
       "      <td>190.0</td>\n",
       "      <td>190.0</td>\n",
       "      <td>0.0</td>\n",
       "      <td>228.0</td>\n",
       "      <td>0.0</td>\n",
       "      <td>932.0</td>\n",
       "      <td>670.0</td>\n",
       "      <td>90</td>\n",
       "    </tr>\n",
       "    <tr>\n",
       "      <th>579</th>\n",
       "      <td>203.5</td>\n",
       "      <td>135.7</td>\n",
       "      <td>0.0</td>\n",
       "      <td>185.7</td>\n",
       "      <td>0.0</td>\n",
       "      <td>1076.2</td>\n",
       "      <td>759.3</td>\n",
       "      <td>28</td>\n",
       "    </tr>\n",
       "    <tr>\n",
       "      <th>15</th>\n",
       "      <td>380.0</td>\n",
       "      <td>0.0</td>\n",
       "      <td>0.0</td>\n",
       "      <td>228.0</td>\n",
       "      <td>0.0</td>\n",
       "      <td>932.0</td>\n",
       "      <td>670.0</td>\n",
       "      <td>90</td>\n",
       "    </tr>\n",
       "    <tr>\n",
       "      <th>255</th>\n",
       "      <td>212.5</td>\n",
       "      <td>0.0</td>\n",
       "      <td>100.4</td>\n",
       "      <td>159.3</td>\n",
       "      <td>8.7</td>\n",
       "      <td>1007.8</td>\n",
       "      <td>903.6</td>\n",
       "      <td>14</td>\n",
       "    </tr>\n",
       "    <tr>\n",
       "      <th>...</th>\n",
       "      <td>...</td>\n",
       "      <td>...</td>\n",
       "      <td>...</td>\n",
       "      <td>...</td>\n",
       "      <td>...</td>\n",
       "      <td>...</td>\n",
       "      <td>...</td>\n",
       "      <td>...</td>\n",
       "    </tr>\n",
       "    <tr>\n",
       "      <th>601</th>\n",
       "      <td>339.0</td>\n",
       "      <td>0.0</td>\n",
       "      <td>0.0</td>\n",
       "      <td>197.0</td>\n",
       "      <td>0.0</td>\n",
       "      <td>968.0</td>\n",
       "      <td>781.0</td>\n",
       "      <td>28</td>\n",
       "    </tr>\n",
       "    <tr>\n",
       "      <th>669</th>\n",
       "      <td>288.0</td>\n",
       "      <td>192.0</td>\n",
       "      <td>0.0</td>\n",
       "      <td>192.0</td>\n",
       "      <td>0.0</td>\n",
       "      <td>932.0</td>\n",
       "      <td>717.8</td>\n",
       "      <td>3</td>\n",
       "    </tr>\n",
       "    <tr>\n",
       "      <th>453</th>\n",
       "      <td>190.3</td>\n",
       "      <td>0.0</td>\n",
       "      <td>125.2</td>\n",
       "      <td>166.6</td>\n",
       "      <td>9.9</td>\n",
       "      <td>1079.0</td>\n",
       "      <td>798.9</td>\n",
       "      <td>56</td>\n",
       "    </tr>\n",
       "    <tr>\n",
       "      <th>324</th>\n",
       "      <td>252.3</td>\n",
       "      <td>0.0</td>\n",
       "      <td>98.8</td>\n",
       "      <td>146.3</td>\n",
       "      <td>14.2</td>\n",
       "      <td>987.8</td>\n",
       "      <td>889.0</td>\n",
       "      <td>3</td>\n",
       "    </tr>\n",
       "    <tr>\n",
       "      <th>490</th>\n",
       "      <td>387.0</td>\n",
       "      <td>20.0</td>\n",
       "      <td>94.0</td>\n",
       "      <td>157.0</td>\n",
       "      <td>11.6</td>\n",
       "      <td>938.0</td>\n",
       "      <td>845.0</td>\n",
       "      <td>3</td>\n",
       "    </tr>\n",
       "  </tbody>\n",
       "</table>\n",
       "<p>721 rows × 8 columns</p>\n",
       "</div>"
      ],
      "text/plain": [
       "     Cement  Blast_Furnance_Slag  ...  Fine_Aggregate  Age\n",
       "132   362.6                189.0  ...           755.8   28\n",
       "13    190.0                190.0  ...           670.0   90\n",
       "579   203.5                135.7  ...           759.3   28\n",
       "15    380.0                  0.0  ...           670.0   90\n",
       "255   212.5                  0.0  ...           903.6   14\n",
       "..      ...                  ...  ...             ...  ...\n",
       "601   339.0                  0.0  ...           781.0   28\n",
       "669   288.0                192.0  ...           717.8    3\n",
       "453   190.3                  0.0  ...           798.9   56\n",
       "324   252.3                  0.0  ...           889.0    3\n",
       "490   387.0                 20.0  ...           845.0    3\n",
       "\n",
       "[721 rows x 8 columns]"
      ]
     },
     "execution_count": 12,
     "metadata": {
      "tags": []
     },
     "output_type": "execute_result"
    }
   ],
   "source": [
    "x_train, x_test, y_train, y_test = train_test_split(x, y, train_size=0.7, random_state=34)\n",
    "x_train"
   ]
  },
  {
   "cell_type": "code",
   "execution_count": 13,
   "metadata": {
    "id": "6OVupYCKcm7o"
   },
   "outputs": [],
   "source": [
    "# Centeralized\n",
    "mean = con_data.mean(axis=0)\n",
    "con_data-= mean\n",
    "std = con_data.std(axis=0)\n",
    "con_data/= std "
   ]
  },
  {
   "cell_type": "markdown",
   "metadata": {
    "id": "chcKybhR9IWu"
   },
   "source": [
    "# Model \n",
    "**relu & tanh**"
   ]
  },
  {
   "cell_type": "code",
   "execution_count": 14,
   "metadata": {
    "id": "On80YtdoaYzS"
   },
   "outputs": [],
   "source": [
    "from tensorflow.keras.models import Sequential\n",
    "from tensorflow.keras import models\n",
    "from tensorflow.keras import layers"
   ]
  },
  {
   "cell_type": "code",
   "execution_count": 15,
   "metadata": {
    "id": "y2z1GpUXeuRi"
   },
   "outputs": [],
   "source": [
    "network = models.Sequential()\n",
    "network.add(layers.Dense (10, activation='relu',input_shape =(x_train.shape[1],)))\n",
    "network.add(layers.Dense(8,activation='relu'))\n",
    "network.add(layers.Dense(6,activation='tanh'))"
   ]
  },
  {
   "cell_type": "code",
   "execution_count": 16,
   "metadata": {
    "colab": {
     "base_uri": "https://localhost:8080/"
    },
    "id": "9beojuEKfTUi",
    "outputId": "9559f783-150f-459d-b04d-034dd3d67cbc"
   },
   "outputs": [
    {
     "name": "stdout",
     "output_type": "stream",
     "text": [
      "Model: \"sequential\"\n",
      "_________________________________________________________________\n",
      "Layer (type)                 Output Shape              Param #   \n",
      "=================================================================\n",
      "dense (Dense)                (None, 10)                90        \n",
      "_________________________________________________________________\n",
      "dense_1 (Dense)              (None, 8)                 88        \n",
      "_________________________________________________________________\n",
      "dense_2 (Dense)              (None, 6)                 54        \n",
      "=================================================================\n",
      "Total params: 232\n",
      "Trainable params: 232\n",
      "Non-trainable params: 0\n",
      "_________________________________________________________________\n"
     ]
    }
   ],
   "source": [
    "network.summary()"
   ]
  },
  {
   "cell_type": "markdown",
   "metadata": {
    "id": "_6IuL0QCfpE2"
   },
   "source": [
    "# Compile"
   ]
  },
  {
   "cell_type": "code",
   "execution_count": 17,
   "metadata": {
    "id": "vgkx_Tj1fXYA"
   },
   "outputs": [],
   "source": [
    "network.compile(optimizer='rmsprop',\n",
    "                loss='mse',\n",
    "                metrics= 'mae')"
   ]
  },
  {
   "cell_type": "markdown",
   "metadata": {
    "id": "ZE4PbMssglQ0"
   },
   "source": [
    "**Train**"
   ]
  },
  {
   "cell_type": "code",
   "execution_count": 18,
   "metadata": {
    "colab": {
     "base_uri": "https://localhost:8080/"
    },
    "id": "A3t35mLQfqkI",
    "outputId": "b4b91b91-f0fc-46e6-e397-b8ecac595d5d"
   },
   "outputs": [
    {
     "name": "stdout",
     "output_type": "stream",
     "text": [
      "Epoch 1/100\n",
      "51/51 [==============================] - 1s 12ms/step - loss: 1634.5304 - mae: 36.7676 - val_loss: 1537.2657 - val_mae: 35.5857\n",
      "Epoch 2/100\n",
      "51/51 [==============================] - 0s 3ms/step - loss: 1686.9401 - mae: 37.2312 - val_loss: 1537.2657 - val_mae: 35.5857\n",
      "Epoch 3/100\n",
      "51/51 [==============================] - 0s 3ms/step - loss: 1676.8468 - mae: 36.9967 - val_loss: 1537.2657 - val_mae: 35.5857\n",
      "Epoch 4/100\n",
      "51/51 [==============================] - 0s 3ms/step - loss: 1632.2452 - mae: 36.5921 - val_loss: 1537.2657 - val_mae: 35.5857\n",
      "Epoch 5/100\n",
      "51/51 [==============================] - 0s 3ms/step - loss: 1534.1019 - mae: 35.3693 - val_loss: 1537.2657 - val_mae: 35.5857\n",
      "Epoch 6/100\n",
      "51/51 [==============================] - 0s 2ms/step - loss: 1569.2306 - mae: 35.9501 - val_loss: 1537.2657 - val_mae: 35.5857\n",
      "Epoch 7/100\n",
      "51/51 [==============================] - 0s 2ms/step - loss: 1605.4764 - mae: 36.6473 - val_loss: 1537.2657 - val_mae: 35.5857\n",
      "Epoch 8/100\n",
      "51/51 [==============================] - 0s 2ms/step - loss: 1632.8846 - mae: 36.6589 - val_loss: 1537.2657 - val_mae: 35.5857\n",
      "Epoch 9/100\n",
      "51/51 [==============================] - 0s 2ms/step - loss: 1632.8015 - mae: 36.8434 - val_loss: 1537.2657 - val_mae: 35.5857\n",
      "Epoch 10/100\n",
      "51/51 [==============================] - 0s 3ms/step - loss: 1591.4475 - mae: 36.5245 - val_loss: 1537.2657 - val_mae: 35.5857\n",
      "Epoch 11/100\n",
      "51/51 [==============================] - 0s 3ms/step - loss: 1626.1595 - mae: 36.7658 - val_loss: 1537.2657 - val_mae: 35.5857\n",
      "Epoch 12/100\n",
      "51/51 [==============================] - 0s 2ms/step - loss: 1639.1232 - mae: 37.0010 - val_loss: 1537.2657 - val_mae: 35.5857\n",
      "Epoch 13/100\n",
      "51/51 [==============================] - 0s 3ms/step - loss: 1643.8704 - mae: 36.7113 - val_loss: 1537.2657 - val_mae: 35.5857\n",
      "Epoch 14/100\n",
      "51/51 [==============================] - 0s 3ms/step - loss: 1607.6158 - mae: 36.7151 - val_loss: 1537.2657 - val_mae: 35.5857\n",
      "Epoch 15/100\n",
      "51/51 [==============================] - 0s 3ms/step - loss: 1702.1378 - mae: 37.4262 - val_loss: 1537.2657 - val_mae: 35.5857\n",
      "Epoch 16/100\n",
      "51/51 [==============================] - 0s 2ms/step - loss: 1677.6894 - mae: 37.3154 - val_loss: 1537.2657 - val_mae: 35.5857\n",
      "Epoch 17/100\n",
      "51/51 [==============================] - 0s 2ms/step - loss: 1562.7047 - mae: 36.0179 - val_loss: 1537.2657 - val_mae: 35.5857\n",
      "Epoch 18/100\n",
      "51/51 [==============================] - 0s 3ms/step - loss: 1585.5711 - mae: 36.0244 - val_loss: 1537.2657 - val_mae: 35.5857\n",
      "Epoch 19/100\n",
      "51/51 [==============================] - 0s 3ms/step - loss: 1676.6832 - mae: 37.6682 - val_loss: 1537.2657 - val_mae: 35.5857\n",
      "Epoch 20/100\n",
      "51/51 [==============================] - 0s 3ms/step - loss: 1569.5323 - mae: 35.7998 - val_loss: 1537.2657 - val_mae: 35.5857\n",
      "Epoch 21/100\n",
      "51/51 [==============================] - 0s 2ms/step - loss: 1699.4709 - mae: 37.4990 - val_loss: 1537.2657 - val_mae: 35.5857\n",
      "Epoch 22/100\n",
      "51/51 [==============================] - 0s 2ms/step - loss: 1631.0824 - mae: 36.9449 - val_loss: 1537.2657 - val_mae: 35.5857\n",
      "Epoch 23/100\n",
      "51/51 [==============================] - 0s 3ms/step - loss: 1604.5395 - mae: 36.5990 - val_loss: 1537.2657 - val_mae: 35.5857\n",
      "Epoch 24/100\n",
      "51/51 [==============================] - 0s 3ms/step - loss: 1675.4040 - mae: 37.0799 - val_loss: 1537.2657 - val_mae: 35.5857\n",
      "Epoch 25/100\n",
      "51/51 [==============================] - 0s 3ms/step - loss: 1594.4704 - mae: 36.0706 - val_loss: 1537.2657 - val_mae: 35.5857\n",
      "Epoch 26/100\n",
      "51/51 [==============================] - 0s 3ms/step - loss: 1745.1230 - mae: 38.2613 - val_loss: 1537.2657 - val_mae: 35.5857\n",
      "Epoch 27/100\n",
      "51/51 [==============================] - 0s 3ms/step - loss: 1553.2809 - mae: 35.9490 - val_loss: 1537.2657 - val_mae: 35.5857\n",
      "Epoch 28/100\n",
      "51/51 [==============================] - 0s 3ms/step - loss: 1620.0797 - mae: 36.8698 - val_loss: 1537.2657 - val_mae: 35.5857\n",
      "Epoch 29/100\n",
      "51/51 [==============================] - 0s 3ms/step - loss: 1517.2000 - mae: 35.6804 - val_loss: 1537.2657 - val_mae: 35.5857\n",
      "Epoch 30/100\n",
      "51/51 [==============================] - 0s 3ms/step - loss: 1641.3426 - mae: 36.7820 - val_loss: 1537.2657 - val_mae: 35.5857\n",
      "Epoch 31/100\n",
      "51/51 [==============================] - 0s 3ms/step - loss: 1526.9541 - mae: 35.2738 - val_loss: 1537.2657 - val_mae: 35.5857\n",
      "Epoch 32/100\n",
      "51/51 [==============================] - 0s 3ms/step - loss: 1674.5659 - mae: 37.1209 - val_loss: 1537.2657 - val_mae: 35.5857\n",
      "Epoch 33/100\n",
      "51/51 [==============================] - 0s 3ms/step - loss: 1733.7404 - mae: 37.6649 - val_loss: 1537.2657 - val_mae: 35.5857\n",
      "Epoch 34/100\n",
      "51/51 [==============================] - 0s 3ms/step - loss: 1671.2139 - mae: 37.3902 - val_loss: 1537.2657 - val_mae: 35.5857\n",
      "Epoch 35/100\n",
      "51/51 [==============================] - 0s 2ms/step - loss: 1531.5628 - mae: 35.6001 - val_loss: 1537.2657 - val_mae: 35.5857\n",
      "Epoch 36/100\n",
      "51/51 [==============================] - 0s 3ms/step - loss: 1559.5262 - mae: 36.0056 - val_loss: 1537.2657 - val_mae: 35.5857\n",
      "Epoch 37/100\n",
      "51/51 [==============================] - 0s 3ms/step - loss: 1544.4589 - mae: 35.4435 - val_loss: 1537.2657 - val_mae: 35.5857\n",
      "Epoch 38/100\n",
      "51/51 [==============================] - 0s 3ms/step - loss: 1595.5150 - mae: 36.3399 - val_loss: 1537.2657 - val_mae: 35.5857\n",
      "Epoch 39/100\n",
      "51/51 [==============================] - 0s 3ms/step - loss: 1623.7769 - mae: 36.6038 - val_loss: 1537.2657 - val_mae: 35.5857\n",
      "Epoch 40/100\n",
      "51/51 [==============================] - 0s 3ms/step - loss: 1528.3333 - mae: 35.5204 - val_loss: 1537.2657 - val_mae: 35.5857\n",
      "Epoch 41/100\n",
      "51/51 [==============================] - 0s 2ms/step - loss: 1623.6142 - mae: 36.5802 - val_loss: 1537.2657 - val_mae: 35.5857\n",
      "Epoch 42/100\n",
      "51/51 [==============================] - 0s 2ms/step - loss: 1660.8618 - mae: 37.0504 - val_loss: 1537.2657 - val_mae: 35.5857\n",
      "Epoch 43/100\n",
      "51/51 [==============================] - 0s 2ms/step - loss: 1592.8273 - mae: 36.0978 - val_loss: 1537.2657 - val_mae: 35.5857\n",
      "Epoch 44/100\n",
      "51/51 [==============================] - 0s 2ms/step - loss: 1652.9670 - mae: 36.7147 - val_loss: 1537.2657 - val_mae: 35.5857\n",
      "Epoch 45/100\n",
      "51/51 [==============================] - 0s 3ms/step - loss: 1720.5578 - mae: 37.9337 - val_loss: 1537.2657 - val_mae: 35.5857\n",
      "Epoch 46/100\n",
      "51/51 [==============================] - 0s 2ms/step - loss: 1630.4999 - mae: 36.6140 - val_loss: 1537.2657 - val_mae: 35.5857\n",
      "Epoch 47/100\n",
      "51/51 [==============================] - 0s 3ms/step - loss: 1601.1481 - mae: 36.7248 - val_loss: 1537.2657 - val_mae: 35.5857\n",
      "Epoch 48/100\n",
      "51/51 [==============================] - 0s 2ms/step - loss: 1568.2186 - mae: 36.2443 - val_loss: 1537.2657 - val_mae: 35.5857\n",
      "Epoch 49/100\n",
      "51/51 [==============================] - 0s 3ms/step - loss: 1621.1547 - mae: 36.6858 - val_loss: 1537.2657 - val_mae: 35.5857\n",
      "Epoch 50/100\n",
      "51/51 [==============================] - 0s 3ms/step - loss: 1660.9431 - mae: 36.9125 - val_loss: 1537.2657 - val_mae: 35.5857\n",
      "Epoch 51/100\n",
      "51/51 [==============================] - 0s 3ms/step - loss: 1567.8988 - mae: 35.8993 - val_loss: 1537.2657 - val_mae: 35.5857\n",
      "Epoch 52/100\n",
      "51/51 [==============================] - 0s 3ms/step - loss: 1623.2988 - mae: 36.6409 - val_loss: 1537.2657 - val_mae: 35.5857\n",
      "Epoch 53/100\n",
      "51/51 [==============================] - 0s 3ms/step - loss: 1593.0634 - mae: 36.2843 - val_loss: 1537.2657 - val_mae: 35.5857\n",
      "Epoch 54/100\n",
      "51/51 [==============================] - 0s 3ms/step - loss: 1633.5735 - mae: 36.7730 - val_loss: 1537.2657 - val_mae: 35.5857\n",
      "Epoch 55/100\n",
      "51/51 [==============================] - 0s 3ms/step - loss: 1607.4845 - mae: 36.4393 - val_loss: 1537.2657 - val_mae: 35.5857\n",
      "Epoch 56/100\n",
      "51/51 [==============================] - 0s 2ms/step - loss: 1589.9033 - mae: 36.2475 - val_loss: 1537.2657 - val_mae: 35.5857\n",
      "Epoch 57/100\n",
      "51/51 [==============================] - 0s 2ms/step - loss: 1564.8475 - mae: 36.0062 - val_loss: 1537.2657 - val_mae: 35.5857\n",
      "Epoch 58/100\n",
      "51/51 [==============================] - 0s 3ms/step - loss: 1613.3054 - mae: 36.4833 - val_loss: 1537.2657 - val_mae: 35.5857\n",
      "Epoch 59/100\n",
      "51/51 [==============================] - 0s 3ms/step - loss: 1598.7441 - mae: 36.6117 - val_loss: 1537.2657 - val_mae: 35.5857\n",
      "Epoch 60/100\n",
      "51/51 [==============================] - 0s 3ms/step - loss: 1656.5685 - mae: 37.1161 - val_loss: 1537.2657 - val_mae: 35.5857\n",
      "Epoch 61/100\n",
      "51/51 [==============================] - 0s 3ms/step - loss: 1609.8256 - mae: 36.8000 - val_loss: 1537.2657 - val_mae: 35.5857\n",
      "Epoch 62/100\n",
      "51/51 [==============================] - 0s 3ms/step - loss: 1592.3255 - mae: 36.4083 - val_loss: 1537.2657 - val_mae: 35.5857\n",
      "Epoch 63/100\n",
      "51/51 [==============================] - 0s 3ms/step - loss: 1608.0847 - mae: 36.4882 - val_loss: 1537.2657 - val_mae: 35.5857\n",
      "Epoch 64/100\n",
      "51/51 [==============================] - 0s 3ms/step - loss: 1562.5876 - mae: 36.0150 - val_loss: 1537.2657 - val_mae: 35.5857\n",
      "Epoch 65/100\n",
      "51/51 [==============================] - 0s 2ms/step - loss: 1728.7809 - mae: 37.8890 - val_loss: 1537.2657 - val_mae: 35.5857\n",
      "Epoch 66/100\n",
      "51/51 [==============================] - 0s 3ms/step - loss: 1539.5461 - mae: 35.7606 - val_loss: 1537.2657 - val_mae: 35.5857\n",
      "Epoch 67/100\n",
      "51/51 [==============================] - 0s 3ms/step - loss: 1708.3087 - mae: 37.4036 - val_loss: 1537.2657 - val_mae: 35.5857\n",
      "Epoch 68/100\n",
      "51/51 [==============================] - 0s 3ms/step - loss: 1689.2570 - mae: 37.4185 - val_loss: 1537.2657 - val_mae: 35.5857\n",
      "Epoch 69/100\n",
      "51/51 [==============================] - 0s 3ms/step - loss: 1632.5896 - mae: 36.4958 - val_loss: 1537.2657 - val_mae: 35.5857\n",
      "Epoch 70/100\n",
      "51/51 [==============================] - 0s 3ms/step - loss: 1647.1900 - mae: 37.1606 - val_loss: 1537.2657 - val_mae: 35.5857\n",
      "Epoch 71/100\n",
      "51/51 [==============================] - 0s 2ms/step - loss: 1578.5375 - mae: 36.1433 - val_loss: 1537.2657 - val_mae: 35.5857\n",
      "Epoch 72/100\n",
      "51/51 [==============================] - 0s 3ms/step - loss: 1594.5651 - mae: 36.4745 - val_loss: 1537.2657 - val_mae: 35.5857\n",
      "Epoch 73/100\n",
      "51/51 [==============================] - 0s 3ms/step - loss: 1646.4959 - mae: 36.8365 - val_loss: 1537.2657 - val_mae: 35.5857\n",
      "Epoch 74/100\n",
      "51/51 [==============================] - 0s 3ms/step - loss: 1561.5520 - mae: 36.0530 - val_loss: 1537.2657 - val_mae: 35.5857\n",
      "Epoch 75/100\n",
      "51/51 [==============================] - 0s 3ms/step - loss: 1629.6555 - mae: 36.4215 - val_loss: 1537.2657 - val_mae: 35.5857\n",
      "Epoch 76/100\n",
      "51/51 [==============================] - 0s 3ms/step - loss: 1578.5982 - mae: 35.9562 - val_loss: 1537.2657 - val_mae: 35.5857\n",
      "Epoch 77/100\n",
      "51/51 [==============================] - 0s 3ms/step - loss: 1672.4026 - mae: 37.3294 - val_loss: 1537.2657 - val_mae: 35.5857\n",
      "Epoch 78/100\n",
      "51/51 [==============================] - 0s 3ms/step - loss: 1653.7694 - mae: 37.0401 - val_loss: 1537.2657 - val_mae: 35.5857\n",
      "Epoch 79/100\n",
      "51/51 [==============================] - 0s 2ms/step - loss: 1626.1038 - mae: 36.6484 - val_loss: 1537.2657 - val_mae: 35.5857\n",
      "Epoch 80/100\n",
      "51/51 [==============================] - 0s 3ms/step - loss: 1646.1941 - mae: 36.6720 - val_loss: 1537.2657 - val_mae: 35.5857\n",
      "Epoch 81/100\n",
      "51/51 [==============================] - 0s 3ms/step - loss: 1602.1785 - mae: 36.5635 - val_loss: 1537.2657 - val_mae: 35.5857\n",
      "Epoch 82/100\n",
      "51/51 [==============================] - 0s 3ms/step - loss: 1593.8086 - mae: 36.4620 - val_loss: 1537.2657 - val_mae: 35.5857\n",
      "Epoch 83/100\n",
      "51/51 [==============================] - 0s 3ms/step - loss: 1613.0395 - mae: 36.4089 - val_loss: 1537.2657 - val_mae: 35.5857\n",
      "Epoch 84/100\n",
      "51/51 [==============================] - 0s 3ms/step - loss: 1580.6387 - mae: 36.3454 - val_loss: 1537.2657 - val_mae: 35.5857\n",
      "Epoch 85/100\n",
      "51/51 [==============================] - 0s 3ms/step - loss: 1731.5274 - mae: 37.8687 - val_loss: 1537.2657 - val_mae: 35.5857\n",
      "Epoch 86/100\n",
      "51/51 [==============================] - 0s 3ms/step - loss: 1686.1184 - mae: 37.4235 - val_loss: 1537.2657 - val_mae: 35.5857\n",
      "Epoch 87/100\n",
      "51/51 [==============================] - 0s 2ms/step - loss: 1564.3931 - mae: 36.0341 - val_loss: 1537.2657 - val_mae: 35.5857\n",
      "Epoch 88/100\n",
      "51/51 [==============================] - 0s 2ms/step - loss: 1659.9374 - mae: 36.9030 - val_loss: 1537.2657 - val_mae: 35.5857\n",
      "Epoch 89/100\n",
      "51/51 [==============================] - 0s 3ms/step - loss: 1631.1543 - mae: 36.7812 - val_loss: 1537.2657 - val_mae: 35.5857\n",
      "Epoch 90/100\n",
      "51/51 [==============================] - 0s 3ms/step - loss: 1700.2365 - mae: 37.3901 - val_loss: 1537.2657 - val_mae: 35.5857\n",
      "Epoch 91/100\n",
      "51/51 [==============================] - 0s 3ms/step - loss: 1571.8004 - mae: 35.9411 - val_loss: 1537.2657 - val_mae: 35.5857\n",
      "Epoch 92/100\n",
      "51/51 [==============================] - 0s 2ms/step - loss: 1692.4186 - mae: 37.1877 - val_loss: 1537.2657 - val_mae: 35.5857\n",
      "Epoch 93/100\n",
      "51/51 [==============================] - 0s 3ms/step - loss: 1659.5495 - mae: 36.8974 - val_loss: 1537.2657 - val_mae: 35.5857\n",
      "Epoch 94/100\n",
      "51/51 [==============================] - 0s 3ms/step - loss: 1581.6790 - mae: 36.0618 - val_loss: 1537.2657 - val_mae: 35.5857\n",
      "Epoch 95/100\n",
      "51/51 [==============================] - 0s 3ms/step - loss: 1683.4307 - mae: 37.4638 - val_loss: 1537.2657 - val_mae: 35.5857\n",
      "Epoch 96/100\n",
      "51/51 [==============================] - 0s 3ms/step - loss: 1652.6637 - mae: 36.9761 - val_loss: 1537.2657 - val_mae: 35.5857\n",
      "Epoch 97/100\n",
      "51/51 [==============================] - 0s 3ms/step - loss: 1640.2829 - mae: 36.6471 - val_loss: 1537.2657 - val_mae: 35.5857\n",
      "Epoch 98/100\n",
      "51/51 [==============================] - 0s 2ms/step - loss: 1622.6661 - mae: 36.6979 - val_loss: 1537.2657 - val_mae: 35.5857\n",
      "Epoch 99/100\n",
      "51/51 [==============================] - 0s 3ms/step - loss: 1687.6152 - mae: 37.2048 - val_loss: 1537.2657 - val_mae: 35.5857\n",
      "Epoch 100/100\n",
      "51/51 [==============================] - 0s 3ms/step - loss: 1649.1785 - mae: 36.5683 - val_loss: 1537.2657 - val_mae: 35.5857\n"
     ]
    }
   ],
   "source": [
    "network1= network.fit(x_train,y_train,epochs=100,validation_split=0.3, batch_size = 10)"
   ]
  },
  {
   "cell_type": "markdown",
   "metadata": {
    "id": "3lOXK-Jzm4BS"
   },
   "source": [
    "# Evaluation"
   ]
  },
  {
   "cell_type": "code",
   "execution_count": 19,
   "metadata": {
    "colab": {
     "base_uri": "https://localhost:8080/"
    },
    "id": "zXlDE5rKgDPe",
    "outputId": "b4dfbf07-57e8-47e0-a653-40c2a124940a"
   },
   "outputs": [
    {
     "name": "stdout",
     "output_type": "stream",
     "text": [
      "10/10 [==============================] - 0s 2ms/step - loss: 1646.2579 - mae: 36.9475\n"
     ]
    }
   ],
   "source": [
    "evaluation = network.evaluate( x_test, y_test)"
   ]
  },
  {
   "cell_type": "markdown",
   "metadata": {
    "id": "9k6iwouk9MK3"
   },
   "source": [
    "# Prediction"
   ]
  },
  {
   "cell_type": "code",
   "execution_count": 20,
   "metadata": {
    "id": "3J2l-A6n5sNi"
   },
   "outputs": [],
   "source": [
    "prediction = network.predict(x_test)"
   ]
  },
  {
   "cell_type": "code",
   "execution_count": 21,
   "metadata": {
    "colab": {
     "base_uri": "https://localhost:8080/"
    },
    "id": "cK424Y7463Vn",
    "outputId": "03c15230-3f47-4bff-90b0-205203e914af"
   },
   "outputs": [
    {
     "data": {
      "text/plain": [
       "array([[-1., -1., -1., -1., -1.,  1.],\n",
       "       [-1., -1., -1., -1., -1.,  1.],\n",
       "       [-1., -1., -1., -1., -1.,  1.],\n",
       "       ...,\n",
       "       [-1., -1., -1., -1., -1.,  1.],\n",
       "       [-1., -1., -1., -1., -1.,  1.],\n",
       "       [-1., -1., -1., -1., -1.,  1.]], dtype=float32)"
      ]
     },
     "execution_count": 21,
     "metadata": {
      "tags": []
     },
     "output_type": "execute_result"
    }
   ],
   "source": [
    "prediction"
   ]
  },
  {
   "cell_type": "code",
   "execution_count": 22,
   "metadata": {
    "colab": {
     "base_uri": "https://localhost:8080/"
    },
    "id": "m6hxjrA464yu",
    "outputId": "6ecd890b-bda7-43af-d2c6-4ecf1f9bc16d"
   },
   "outputs": [
    {
     "data": {
      "text/plain": [
       "816    42.42\n",
       "735    40.86\n",
       "463    56.06\n",
       "169    65.20\n",
       "634    24.50\n",
       "       ...  \n",
       "782    21.65\n",
       "265    31.35\n",
       "771    13.52\n",
       "499    55.55\n",
       "378    43.06\n",
       "Name: Concrete_Strength, Length: 309, dtype: float64"
      ]
     },
     "execution_count": 22,
     "metadata": {
      "tags": []
     },
     "output_type": "execute_result"
    }
   ],
   "source": [
    "y_test"
   ]
  },
  {
   "cell_type": "code",
   "execution_count": 23,
   "metadata": {
    "colab": {
     "base_uri": "https://localhost:8080/"
    },
    "id": "_3BkFkNLC8zs",
    "outputId": "48498b08-9f9e-44b0-8be8-5c4ebd3f194e"
   },
   "outputs": [
    {
     "name": "stdout",
     "output_type": "stream",
     "text": [
      "59.22346750361906 %\n"
     ]
    }
   ],
   "source": [
    "from sklearn.linear_model import LinearRegression\n",
    "regressor = LinearRegression()\n",
    "regressor.fit(x_train,y_train)\n",
    "r2_score = regressor.score(x_test,y_test)\n",
    "print(r2_score*100,'%')"
   ]
  },
  {
   "cell_type": "code",
   "execution_count": 23,
   "metadata": {
    "id": "YMzxEP0BKm2G"
   },
   "outputs": [],
   "source": []
  }
 ],
 "metadata": {
  "colab": {
   "collapsed_sections": [],
   "name": "PIAIC64041_Concrete_Strength_Assignment.ipynb",
   "provenance": []
  },
  "kernelspec": {
   "display_name": "Python 3",
   "language": "python",
   "name": "python3"
  },
  "language_info": {
   "codemirror_mode": {
    "name": "ipython",
    "version": 3
   },
   "file_extension": ".py",
   "mimetype": "text/x-python",
   "name": "python",
   "nbconvert_exporter": "python",
   "pygments_lexer": "ipython3",
   "version": "3.8.5"
  }
 },
 "nbformat": 4,
 "nbformat_minor": 1
}
