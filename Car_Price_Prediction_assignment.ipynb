{
 "cells": [
  {
   "cell_type": "markdown",
   "metadata": {
    "id": "7jpmAmC3lq0g"
   },
   "source": [
    "# Car Price Prediction::"
   ]
  },
  {
   "cell_type": "markdown",
   "metadata": {
    "id": "Zxkr-1s3lq0u"
   },
   "source": [
    "Download dataset from this link:\n",
    "\n",
    "https://www.kaggle.com/hellbuoy/car-price-prediction"
   ]
  },
  {
   "cell_type": "markdown",
   "metadata": {
    "id": "obhpArvzlq0v"
   },
   "source": [
    "# Problem Statement::"
   ]
  },
  {
   "cell_type": "markdown",
   "metadata": {
    "id": "XrfAUM6Alq0w"
   },
   "source": [
    "A Chinese automobile company Geely Auto aspires to enter the US market by setting up their manufacturing unit there and producing cars locally to give competition to their US and European counterparts.\n",
    "\n",
    "They have contracted an automobile consulting company to understand the factors on which the pricing of cars depends. Specifically, they want to understand the factors affecting the pricing of cars in the American market, since those may be very different from the Chinese market. The company wants to know:\n",
    "\n",
    "Which variables are significant in predicting the price of a car\n",
    "How well those variables describe the price of a car\n",
    "Based on various market surveys, the consulting firm has gathered a large data set of different types of cars across the America market.\n",
    "\n",
    "# task::\n",
    "We are required to model the price of cars with the available independent variables. It will be used by the management to understand how exactly the prices vary with the independent variables. They can accordingly manipulate the design of the cars, the business strategy etc. to meet certain price levels. Further, the model will be a good way for management to understand the pricing dynamics of a new market."
   ]
  },
  {
   "cell_type": "markdown",
   "metadata": {
    "id": "fL3LGXYWlq0x"
   },
   "source": [
    "# WORKFLOW ::"
   ]
  },
  {
   "cell_type": "markdown",
   "metadata": {
    "id": "iWBiewGtlq0y"
   },
   "source": [
    "1.Load Data\n",
    "\n",
    "2.Check Missing Values ( If Exist ; Fill each record with mean of its feature )\n",
    "\n",
    "3.Split into 50% Training(Samples,Labels) , 30% Test(Samples,Labels) and 20% Validation Data(Samples,Labels).\n",
    "\n",
    "4.Model : input Layer (No. of features ), 3 hidden layers including 10,8,6 unit & Output Layer with activation function relu/tanh (check by experiment).\n",
    "\n",
    "5.Compilation Step (Note : Its a Regression problem , select loss , metrics according to it)\n",
    "6.Train the Model with Epochs (100) and validate it\n",
    "\n",
    "7.If the model gets overfit tune your model by changing the units , No. of layers , activation function , epochs , add dropout layer or add Regularizer according to the need .\n",
    "\n",
    "8.Evaluation Step\n",
    "\n",
    "9.Prediction"
   ]
  },
  {
   "cell_type": "markdown",
   "metadata": {
    "id": "Cry7EcwYo8B_"
   },
   "source": [
    "***Drive Mount***\n"
   ]
  },
  {
   "cell_type": "code",
   "execution_count": 1,
   "metadata": {
    "colab": {
     "base_uri": "https://localhost:8080/"
    },
    "id": "uy7U7HB1lq01",
    "outputId": "30fde9e5-0d4a-4ae6-a63d-e33439e7f205"
   },
   "outputs": [
    {
     "name": "stdout",
     "output_type": "stream",
     "text": [
      "Drive already mounted at /content/drive; to attempt to forcibly remount, call drive.mount(\"/content/drive\", force_remount=True).\n"
     ]
    }
   ],
   "source": [
    "from google.colab import drive\n",
    "drive.mount('/content/drive')"
   ]
  },
  {
   "cell_type": "markdown",
   "metadata": {
    "id": "ra-47Tdnots5"
   },
   "source": [
    "***Import Libraries***"
   ]
  },
  {
   "cell_type": "code",
   "execution_count": 2,
   "metadata": {
    "id": "Z-02_Fzwlq00"
   },
   "outputs": [],
   "source": [
    "import numpy as np\n",
    "import pandas as pd\n",
    "import matplotlib.pyplot as plt\n",
    "import tensorflow as tf\n",
    "import seaborn as sns\n"
   ]
  },
  {
   "cell_type": "markdown",
   "metadata": {
    "id": "btUUxGwrmeIH"
   },
   "source": [
    "# Load Data "
   ]
  },
  {
   "cell_type": "code",
   "execution_count": 3,
   "metadata": {
    "id": "0HDcf_bDlq01"
   },
   "outputs": [],
   "source": [
    "car_price=pd.read_csv(\"/content/drive/MyDrive/deep learning assignment/CarPrice_Assignment.csv\")"
   ]
  },
  {
   "cell_type": "code",
   "execution_count": 4,
   "metadata": {
    "colab": {
     "base_uri": "https://localhost:8080/",
     "height": 297
    },
    "id": "dQgvMiuylq02",
    "outputId": "cd669077-3534-47f6-d0ed-0f95a073d29a"
   },
   "outputs": [
    {
     "data": {
      "text/html": [
       "<div>\n",
       "<style scoped>\n",
       "    .dataframe tbody tr th:only-of-type {\n",
       "        vertical-align: middle;\n",
       "    }\n",
       "\n",
       "    .dataframe tbody tr th {\n",
       "        vertical-align: top;\n",
       "    }\n",
       "\n",
       "    .dataframe thead th {\n",
       "        text-align: right;\n",
       "    }\n",
       "</style>\n",
       "<table border=\"1\" class=\"dataframe\">\n",
       "  <thead>\n",
       "    <tr style=\"text-align: right;\">\n",
       "      <th></th>\n",
       "      <th>car_ID</th>\n",
       "      <th>symboling</th>\n",
       "      <th>CarName</th>\n",
       "      <th>fueltype</th>\n",
       "      <th>aspiration</th>\n",
       "      <th>doornumber</th>\n",
       "      <th>carbody</th>\n",
       "      <th>drivewheel</th>\n",
       "      <th>enginelocation</th>\n",
       "      <th>wheelbase</th>\n",
       "      <th>carlength</th>\n",
       "      <th>carwidth</th>\n",
       "      <th>carheight</th>\n",
       "      <th>curbweight</th>\n",
       "      <th>enginetype</th>\n",
       "      <th>cylindernumber</th>\n",
       "      <th>enginesize</th>\n",
       "      <th>fuelsystem</th>\n",
       "      <th>boreratio</th>\n",
       "      <th>stroke</th>\n",
       "      <th>compressionratio</th>\n",
       "      <th>horsepower</th>\n",
       "      <th>peakrpm</th>\n",
       "      <th>citympg</th>\n",
       "      <th>highwaympg</th>\n",
       "      <th>price</th>\n",
       "    </tr>\n",
       "  </thead>\n",
       "  <tbody>\n",
       "    <tr>\n",
       "      <th>0</th>\n",
       "      <td>1</td>\n",
       "      <td>3</td>\n",
       "      <td>alfa-romero giulia</td>\n",
       "      <td>gas</td>\n",
       "      <td>std</td>\n",
       "      <td>two</td>\n",
       "      <td>convertible</td>\n",
       "      <td>rwd</td>\n",
       "      <td>front</td>\n",
       "      <td>88.6</td>\n",
       "      <td>168.8</td>\n",
       "      <td>64.1</td>\n",
       "      <td>48.8</td>\n",
       "      <td>2548</td>\n",
       "      <td>dohc</td>\n",
       "      <td>four</td>\n",
       "      <td>130</td>\n",
       "      <td>mpfi</td>\n",
       "      <td>3.47</td>\n",
       "      <td>2.68</td>\n",
       "      <td>9.0</td>\n",
       "      <td>111</td>\n",
       "      <td>5000</td>\n",
       "      <td>21</td>\n",
       "      <td>27</td>\n",
       "      <td>13495.0</td>\n",
       "    </tr>\n",
       "    <tr>\n",
       "      <th>1</th>\n",
       "      <td>2</td>\n",
       "      <td>3</td>\n",
       "      <td>alfa-romero stelvio</td>\n",
       "      <td>gas</td>\n",
       "      <td>std</td>\n",
       "      <td>two</td>\n",
       "      <td>convertible</td>\n",
       "      <td>rwd</td>\n",
       "      <td>front</td>\n",
       "      <td>88.6</td>\n",
       "      <td>168.8</td>\n",
       "      <td>64.1</td>\n",
       "      <td>48.8</td>\n",
       "      <td>2548</td>\n",
       "      <td>dohc</td>\n",
       "      <td>four</td>\n",
       "      <td>130</td>\n",
       "      <td>mpfi</td>\n",
       "      <td>3.47</td>\n",
       "      <td>2.68</td>\n",
       "      <td>9.0</td>\n",
       "      <td>111</td>\n",
       "      <td>5000</td>\n",
       "      <td>21</td>\n",
       "      <td>27</td>\n",
       "      <td>16500.0</td>\n",
       "    </tr>\n",
       "    <tr>\n",
       "      <th>2</th>\n",
       "      <td>3</td>\n",
       "      <td>1</td>\n",
       "      <td>alfa-romero Quadrifoglio</td>\n",
       "      <td>gas</td>\n",
       "      <td>std</td>\n",
       "      <td>two</td>\n",
       "      <td>hatchback</td>\n",
       "      <td>rwd</td>\n",
       "      <td>front</td>\n",
       "      <td>94.5</td>\n",
       "      <td>171.2</td>\n",
       "      <td>65.5</td>\n",
       "      <td>52.4</td>\n",
       "      <td>2823</td>\n",
       "      <td>ohcv</td>\n",
       "      <td>six</td>\n",
       "      <td>152</td>\n",
       "      <td>mpfi</td>\n",
       "      <td>2.68</td>\n",
       "      <td>3.47</td>\n",
       "      <td>9.0</td>\n",
       "      <td>154</td>\n",
       "      <td>5000</td>\n",
       "      <td>19</td>\n",
       "      <td>26</td>\n",
       "      <td>16500.0</td>\n",
       "    </tr>\n",
       "    <tr>\n",
       "      <th>3</th>\n",
       "      <td>4</td>\n",
       "      <td>2</td>\n",
       "      <td>audi 100 ls</td>\n",
       "      <td>gas</td>\n",
       "      <td>std</td>\n",
       "      <td>four</td>\n",
       "      <td>sedan</td>\n",
       "      <td>fwd</td>\n",
       "      <td>front</td>\n",
       "      <td>99.8</td>\n",
       "      <td>176.6</td>\n",
       "      <td>66.2</td>\n",
       "      <td>54.3</td>\n",
       "      <td>2337</td>\n",
       "      <td>ohc</td>\n",
       "      <td>four</td>\n",
       "      <td>109</td>\n",
       "      <td>mpfi</td>\n",
       "      <td>3.19</td>\n",
       "      <td>3.40</td>\n",
       "      <td>10.0</td>\n",
       "      <td>102</td>\n",
       "      <td>5500</td>\n",
       "      <td>24</td>\n",
       "      <td>30</td>\n",
       "      <td>13950.0</td>\n",
       "    </tr>\n",
       "    <tr>\n",
       "      <th>4</th>\n",
       "      <td>5</td>\n",
       "      <td>2</td>\n",
       "      <td>audi 100ls</td>\n",
       "      <td>gas</td>\n",
       "      <td>std</td>\n",
       "      <td>four</td>\n",
       "      <td>sedan</td>\n",
       "      <td>4wd</td>\n",
       "      <td>front</td>\n",
       "      <td>99.4</td>\n",
       "      <td>176.6</td>\n",
       "      <td>66.4</td>\n",
       "      <td>54.3</td>\n",
       "      <td>2824</td>\n",
       "      <td>ohc</td>\n",
       "      <td>five</td>\n",
       "      <td>136</td>\n",
       "      <td>mpfi</td>\n",
       "      <td>3.19</td>\n",
       "      <td>3.40</td>\n",
       "      <td>8.0</td>\n",
       "      <td>115</td>\n",
       "      <td>5500</td>\n",
       "      <td>18</td>\n",
       "      <td>22</td>\n",
       "      <td>17450.0</td>\n",
       "    </tr>\n",
       "    <tr>\n",
       "      <th>5</th>\n",
       "      <td>6</td>\n",
       "      <td>2</td>\n",
       "      <td>audi fox</td>\n",
       "      <td>gas</td>\n",
       "      <td>std</td>\n",
       "      <td>two</td>\n",
       "      <td>sedan</td>\n",
       "      <td>fwd</td>\n",
       "      <td>front</td>\n",
       "      <td>99.8</td>\n",
       "      <td>177.3</td>\n",
       "      <td>66.3</td>\n",
       "      <td>53.1</td>\n",
       "      <td>2507</td>\n",
       "      <td>ohc</td>\n",
       "      <td>five</td>\n",
       "      <td>136</td>\n",
       "      <td>mpfi</td>\n",
       "      <td>3.19</td>\n",
       "      <td>3.40</td>\n",
       "      <td>8.5</td>\n",
       "      <td>110</td>\n",
       "      <td>5500</td>\n",
       "      <td>19</td>\n",
       "      <td>25</td>\n",
       "      <td>15250.0</td>\n",
       "    </tr>\n",
       "  </tbody>\n",
       "</table>\n",
       "</div>"
      ],
      "text/plain": [
       "   car_ID  symboling                   CarName  ... citympg highwaympg    price\n",
       "0       1          3        alfa-romero giulia  ...      21         27  13495.0\n",
       "1       2          3       alfa-romero stelvio  ...      21         27  16500.0\n",
       "2       3          1  alfa-romero Quadrifoglio  ...      19         26  16500.0\n",
       "3       4          2               audi 100 ls  ...      24         30  13950.0\n",
       "4       5          2                audi 100ls  ...      18         22  17450.0\n",
       "5       6          2                  audi fox  ...      19         25  15250.0\n",
       "\n",
       "[6 rows x 26 columns]"
      ]
     },
     "execution_count": 4,
     "metadata": {
      "tags": []
     },
     "output_type": "execute_result"
    }
   ],
   "source": [
    "car_price.head(6)\n"
   ]
  },
  {
   "cell_type": "code",
   "execution_count": 5,
   "metadata": {
    "colab": {
     "base_uri": "https://localhost:8080/"
    },
    "id": "9r4WEUmilq02",
    "outputId": "de1c1c01-e12f-4134-bd41-495d842caa0d"
   },
   "outputs": [
    {
     "data": {
      "text/plain": [
       "(205, 26)"
      ]
     },
     "execution_count": 5,
     "metadata": {
      "tags": []
     },
     "output_type": "execute_result"
    }
   ],
   "source": [
    "car_price.shape"
   ]
  },
  {
   "cell_type": "code",
   "execution_count": 6,
   "metadata": {
    "colab": {
     "base_uri": "https://localhost:8080/"
    },
    "id": "W37hV31OraB_",
    "outputId": "8f3fc777-b1e2-4870-ca67-3d8fa238f60f"
   },
   "outputs": [
    {
     "data": {
      "text/plain": [
       "Index(['car_ID', 'symboling', 'CarName', 'fueltype', 'aspiration',\n",
       "       'doornumber', 'carbody', 'drivewheel', 'enginelocation', 'wheelbase',\n",
       "       'carlength', 'carwidth', 'carheight', 'curbweight', 'enginetype',\n",
       "       'cylindernumber', 'enginesize', 'fuelsystem', 'boreratio', 'stroke',\n",
       "       'compressionratio', 'horsepower', 'peakrpm', 'citympg', 'highwaympg',\n",
       "       'price'],\n",
       "      dtype='object')"
      ]
     },
     "execution_count": 6,
     "metadata": {
      "tags": []
     },
     "output_type": "execute_result"
    }
   ],
   "source": [
    "car_price.columns"
   ]
  },
  {
   "cell_type": "code",
   "execution_count": 7,
   "metadata": {
    "colab": {
     "base_uri": "https://localhost:8080/",
     "height": 307
    },
    "id": "VJjelEEcwBdv",
    "outputId": "ab8e2b73-cc55-420c-eaa3-1a3a7cdaee42"
   },
   "outputs": [
    {
     "data": {
      "text/html": [
       "<div>\n",
       "<style scoped>\n",
       "    .dataframe tbody tr th:only-of-type {\n",
       "        vertical-align: middle;\n",
       "    }\n",
       "\n",
       "    .dataframe tbody tr th {\n",
       "        vertical-align: top;\n",
       "    }\n",
       "\n",
       "    .dataframe thead th {\n",
       "        text-align: right;\n",
       "    }\n",
       "</style>\n",
       "<table border=\"1\" class=\"dataframe\">\n",
       "  <thead>\n",
       "    <tr style=\"text-align: right;\">\n",
       "      <th></th>\n",
       "      <th>car_ID</th>\n",
       "      <th>symboling</th>\n",
       "      <th>wheelbase</th>\n",
       "      <th>carlength</th>\n",
       "      <th>carwidth</th>\n",
       "      <th>carheight</th>\n",
       "      <th>curbweight</th>\n",
       "      <th>enginesize</th>\n",
       "      <th>boreratio</th>\n",
       "      <th>stroke</th>\n",
       "      <th>compressionratio</th>\n",
       "      <th>horsepower</th>\n",
       "      <th>peakrpm</th>\n",
       "      <th>citympg</th>\n",
       "      <th>highwaympg</th>\n",
       "      <th>price</th>\n",
       "    </tr>\n",
       "  </thead>\n",
       "  <tbody>\n",
       "    <tr>\n",
       "      <th>count</th>\n",
       "      <td>205.000000</td>\n",
       "      <td>205.000000</td>\n",
       "      <td>205.000000</td>\n",
       "      <td>205.000000</td>\n",
       "      <td>205.000000</td>\n",
       "      <td>205.000000</td>\n",
       "      <td>205.000000</td>\n",
       "      <td>205.000000</td>\n",
       "      <td>205.000000</td>\n",
       "      <td>205.000000</td>\n",
       "      <td>205.000000</td>\n",
       "      <td>205.000000</td>\n",
       "      <td>205.000000</td>\n",
       "      <td>205.000000</td>\n",
       "      <td>205.000000</td>\n",
       "      <td>205.000000</td>\n",
       "    </tr>\n",
       "    <tr>\n",
       "      <th>mean</th>\n",
       "      <td>103.000000</td>\n",
       "      <td>0.834146</td>\n",
       "      <td>98.756585</td>\n",
       "      <td>174.049268</td>\n",
       "      <td>65.907805</td>\n",
       "      <td>53.724878</td>\n",
       "      <td>2555.565854</td>\n",
       "      <td>126.907317</td>\n",
       "      <td>3.329756</td>\n",
       "      <td>3.255415</td>\n",
       "      <td>10.142537</td>\n",
       "      <td>104.117073</td>\n",
       "      <td>5125.121951</td>\n",
       "      <td>25.219512</td>\n",
       "      <td>30.751220</td>\n",
       "      <td>13276.710571</td>\n",
       "    </tr>\n",
       "    <tr>\n",
       "      <th>std</th>\n",
       "      <td>59.322565</td>\n",
       "      <td>1.245307</td>\n",
       "      <td>6.021776</td>\n",
       "      <td>12.337289</td>\n",
       "      <td>2.145204</td>\n",
       "      <td>2.443522</td>\n",
       "      <td>520.680204</td>\n",
       "      <td>41.642693</td>\n",
       "      <td>0.270844</td>\n",
       "      <td>0.313597</td>\n",
       "      <td>3.972040</td>\n",
       "      <td>39.544167</td>\n",
       "      <td>476.985643</td>\n",
       "      <td>6.542142</td>\n",
       "      <td>6.886443</td>\n",
       "      <td>7988.852332</td>\n",
       "    </tr>\n",
       "    <tr>\n",
       "      <th>min</th>\n",
       "      <td>1.000000</td>\n",
       "      <td>-2.000000</td>\n",
       "      <td>86.600000</td>\n",
       "      <td>141.100000</td>\n",
       "      <td>60.300000</td>\n",
       "      <td>47.800000</td>\n",
       "      <td>1488.000000</td>\n",
       "      <td>61.000000</td>\n",
       "      <td>2.540000</td>\n",
       "      <td>2.070000</td>\n",
       "      <td>7.000000</td>\n",
       "      <td>48.000000</td>\n",
       "      <td>4150.000000</td>\n",
       "      <td>13.000000</td>\n",
       "      <td>16.000000</td>\n",
       "      <td>5118.000000</td>\n",
       "    </tr>\n",
       "    <tr>\n",
       "      <th>25%</th>\n",
       "      <td>52.000000</td>\n",
       "      <td>0.000000</td>\n",
       "      <td>94.500000</td>\n",
       "      <td>166.300000</td>\n",
       "      <td>64.100000</td>\n",
       "      <td>52.000000</td>\n",
       "      <td>2145.000000</td>\n",
       "      <td>97.000000</td>\n",
       "      <td>3.150000</td>\n",
       "      <td>3.110000</td>\n",
       "      <td>8.600000</td>\n",
       "      <td>70.000000</td>\n",
       "      <td>4800.000000</td>\n",
       "      <td>19.000000</td>\n",
       "      <td>25.000000</td>\n",
       "      <td>7788.000000</td>\n",
       "    </tr>\n",
       "    <tr>\n",
       "      <th>50%</th>\n",
       "      <td>103.000000</td>\n",
       "      <td>1.000000</td>\n",
       "      <td>97.000000</td>\n",
       "      <td>173.200000</td>\n",
       "      <td>65.500000</td>\n",
       "      <td>54.100000</td>\n",
       "      <td>2414.000000</td>\n",
       "      <td>120.000000</td>\n",
       "      <td>3.310000</td>\n",
       "      <td>3.290000</td>\n",
       "      <td>9.000000</td>\n",
       "      <td>95.000000</td>\n",
       "      <td>5200.000000</td>\n",
       "      <td>24.000000</td>\n",
       "      <td>30.000000</td>\n",
       "      <td>10295.000000</td>\n",
       "    </tr>\n",
       "    <tr>\n",
       "      <th>75%</th>\n",
       "      <td>154.000000</td>\n",
       "      <td>2.000000</td>\n",
       "      <td>102.400000</td>\n",
       "      <td>183.100000</td>\n",
       "      <td>66.900000</td>\n",
       "      <td>55.500000</td>\n",
       "      <td>2935.000000</td>\n",
       "      <td>141.000000</td>\n",
       "      <td>3.580000</td>\n",
       "      <td>3.410000</td>\n",
       "      <td>9.400000</td>\n",
       "      <td>116.000000</td>\n",
       "      <td>5500.000000</td>\n",
       "      <td>30.000000</td>\n",
       "      <td>34.000000</td>\n",
       "      <td>16503.000000</td>\n",
       "    </tr>\n",
       "    <tr>\n",
       "      <th>max</th>\n",
       "      <td>205.000000</td>\n",
       "      <td>3.000000</td>\n",
       "      <td>120.900000</td>\n",
       "      <td>208.100000</td>\n",
       "      <td>72.300000</td>\n",
       "      <td>59.800000</td>\n",
       "      <td>4066.000000</td>\n",
       "      <td>326.000000</td>\n",
       "      <td>3.940000</td>\n",
       "      <td>4.170000</td>\n",
       "      <td>23.000000</td>\n",
       "      <td>288.000000</td>\n",
       "      <td>6600.000000</td>\n",
       "      <td>49.000000</td>\n",
       "      <td>54.000000</td>\n",
       "      <td>45400.000000</td>\n",
       "    </tr>\n",
       "  </tbody>\n",
       "</table>\n",
       "</div>"
      ],
      "text/plain": [
       "           car_ID   symboling   wheelbase  ...     citympg  highwaympg         price\n",
       "count  205.000000  205.000000  205.000000  ...  205.000000  205.000000    205.000000\n",
       "mean   103.000000    0.834146   98.756585  ...   25.219512   30.751220  13276.710571\n",
       "std     59.322565    1.245307    6.021776  ...    6.542142    6.886443   7988.852332\n",
       "min      1.000000   -2.000000   86.600000  ...   13.000000   16.000000   5118.000000\n",
       "25%     52.000000    0.000000   94.500000  ...   19.000000   25.000000   7788.000000\n",
       "50%    103.000000    1.000000   97.000000  ...   24.000000   30.000000  10295.000000\n",
       "75%    154.000000    2.000000  102.400000  ...   30.000000   34.000000  16503.000000\n",
       "max    205.000000    3.000000  120.900000  ...   49.000000   54.000000  45400.000000\n",
       "\n",
       "[8 rows x 16 columns]"
      ]
     },
     "execution_count": 7,
     "metadata": {
      "tags": []
     },
     "output_type": "execute_result"
    }
   ],
   "source": [
    "car_price.describe()"
   ]
  },
  {
   "cell_type": "code",
   "execution_count": 8,
   "metadata": {
    "colab": {
     "base_uri": "https://localhost:8080/"
    },
    "id": "KradHXW3rnTF",
    "outputId": "2e530701-6eb8-4a42-cccb-c85b911c332e"
   },
   "outputs": [
    {
     "name": "stdout",
     "output_type": "stream",
     "text": [
      "<class 'pandas.core.frame.DataFrame'>\n",
      "RangeIndex: 205 entries, 0 to 204\n",
      "Data columns (total 26 columns):\n",
      " #   Column            Non-Null Count  Dtype  \n",
      "---  ------            --------------  -----  \n",
      " 0   car_ID            205 non-null    int64  \n",
      " 1   symboling         205 non-null    int64  \n",
      " 2   CarName           205 non-null    object \n",
      " 3   fueltype          205 non-null    object \n",
      " 4   aspiration        205 non-null    object \n",
      " 5   doornumber        205 non-null    object \n",
      " 6   carbody           205 non-null    object \n",
      " 7   drivewheel        205 non-null    object \n",
      " 8   enginelocation    205 non-null    object \n",
      " 9   wheelbase         205 non-null    float64\n",
      " 10  carlength         205 non-null    float64\n",
      " 11  carwidth          205 non-null    float64\n",
      " 12  carheight         205 non-null    float64\n",
      " 13  curbweight        205 non-null    int64  \n",
      " 14  enginetype        205 non-null    object \n",
      " 15  cylindernumber    205 non-null    object \n",
      " 16  enginesize        205 non-null    int64  \n",
      " 17  fuelsystem        205 non-null    object \n",
      " 18  boreratio         205 non-null    float64\n",
      " 19  stroke            205 non-null    float64\n",
      " 20  compressionratio  205 non-null    float64\n",
      " 21  horsepower        205 non-null    int64  \n",
      " 22  peakrpm           205 non-null    int64  \n",
      " 23  citympg           205 non-null    int64  \n",
      " 24  highwaympg        205 non-null    int64  \n",
      " 25  price             205 non-null    float64\n",
      "dtypes: float64(8), int64(8), object(10)\n",
      "memory usage: 41.8+ KB\n"
     ]
    }
   ],
   "source": [
    "car_price.info()"
   ]
  },
  {
   "cell_type": "markdown",
   "metadata": {
    "id": "d1qicOtQv97W"
   },
   "source": [
    "# Convert values in numeric form"
   ]
  },
  {
   "cell_type": "code",
   "execution_count": 9,
   "metadata": {
    "colab": {
     "base_uri": "https://localhost:8080/"
    },
    "id": "EogaTpOW0eIL",
    "outputId": "504fc625-72d2-41bd-844a-89e44c34018c"
   },
   "outputs": [
    {
     "data": {
      "text/plain": [
       "car_ID                int64\n",
       "symboling             int64\n",
       "CarName              object\n",
       "fueltype             object\n",
       "aspiration           object\n",
       "doornumber           object\n",
       "carbody              object\n",
       "drivewheel           object\n",
       "enginelocation       object\n",
       "wheelbase           float64\n",
       "carlength           float64\n",
       "carwidth            float64\n",
       "carheight           float64\n",
       "curbweight            int64\n",
       "enginetype           object\n",
       "cylindernumber       object\n",
       "enginesize            int64\n",
       "fuelsystem           object\n",
       "boreratio           float64\n",
       "stroke              float64\n",
       "compressionratio    float64\n",
       "horsepower            int64\n",
       "peakrpm               int64\n",
       "citympg               int64\n",
       "highwaympg            int64\n",
       "price               float64\n",
       "dtype: object"
      ]
     },
     "execution_count": 9,
     "metadata": {
      "tags": []
     },
     "output_type": "execute_result"
    }
   ],
   "source": [
    "car_price.dtypes"
   ]
  },
  {
   "cell_type": "code",
   "execution_count": 10,
   "metadata": {
    "id": "Y-jLg9EwtMxA"
   },
   "outputs": [],
   "source": [
    "from sklearn.preprocessing import LabelEncoder\n",
    "labelencoder = LabelEncoder()\n",
    "car_price['fueltype'] = labelencoder.fit_transform(car_price['fueltype'])\n",
    "car_price['aspiration'] = labelencoder.fit_transform(car_price['aspiration'])\n",
    "car_price['carbody'] = labelencoder.fit_transform(car_price['carbody'])\n",
    "car_price['drivewheel'] = labelencoder.fit_transform(car_price['drivewheel'])\n",
    "car_price['enginelocation'] = labelencoder.fit_transform(car_price['enginelocation'])\n",
    "car_price['fuelsystem'] = labelencoder.fit_transform(car_price['enginelocation'])\n",
    "car_price['doornumber'] = car_price['doornumber'].map({'two':2,'four':4})"
   ]
  },
  {
   "cell_type": "code",
   "execution_count": 11,
   "metadata": {
    "colab": {
     "base_uri": "https://localhost:8080/",
     "height": 297
    },
    "id": "Wo3xm-DqtF9g",
    "outputId": "2c555316-10e2-45cb-deca-e0f2b81aa269"
   },
   "outputs": [
    {
     "data": {
      "text/html": [
       "<div>\n",
       "<style scoped>\n",
       "    .dataframe tbody tr th:only-of-type {\n",
       "        vertical-align: middle;\n",
       "    }\n",
       "\n",
       "    .dataframe tbody tr th {\n",
       "        vertical-align: top;\n",
       "    }\n",
       "\n",
       "    .dataframe thead th {\n",
       "        text-align: right;\n",
       "    }\n",
       "</style>\n",
       "<table border=\"1\" class=\"dataframe\">\n",
       "  <thead>\n",
       "    <tr style=\"text-align: right;\">\n",
       "      <th></th>\n",
       "      <th>car_ID</th>\n",
       "      <th>symboling</th>\n",
       "      <th>CarName</th>\n",
       "      <th>fueltype</th>\n",
       "      <th>aspiration</th>\n",
       "      <th>doornumber</th>\n",
       "      <th>carbody</th>\n",
       "      <th>drivewheel</th>\n",
       "      <th>enginelocation</th>\n",
       "      <th>wheelbase</th>\n",
       "      <th>carlength</th>\n",
       "      <th>carwidth</th>\n",
       "      <th>carheight</th>\n",
       "      <th>curbweight</th>\n",
       "      <th>enginetype</th>\n",
       "      <th>cylindernumber</th>\n",
       "      <th>enginesize</th>\n",
       "      <th>fuelsystem</th>\n",
       "      <th>boreratio</th>\n",
       "      <th>stroke</th>\n",
       "      <th>compressionratio</th>\n",
       "      <th>horsepower</th>\n",
       "      <th>peakrpm</th>\n",
       "      <th>citympg</th>\n",
       "      <th>highwaympg</th>\n",
       "      <th>price</th>\n",
       "    </tr>\n",
       "  </thead>\n",
       "  <tbody>\n",
       "    <tr>\n",
       "      <th>0</th>\n",
       "      <td>1</td>\n",
       "      <td>3</td>\n",
       "      <td>alfa-romero giulia</td>\n",
       "      <td>1</td>\n",
       "      <td>0</td>\n",
       "      <td>2</td>\n",
       "      <td>0</td>\n",
       "      <td>2</td>\n",
       "      <td>0</td>\n",
       "      <td>88.6</td>\n",
       "      <td>168.8</td>\n",
       "      <td>64.1</td>\n",
       "      <td>48.8</td>\n",
       "      <td>2548</td>\n",
       "      <td>dohc</td>\n",
       "      <td>four</td>\n",
       "      <td>130</td>\n",
       "      <td>0</td>\n",
       "      <td>3.47</td>\n",
       "      <td>2.68</td>\n",
       "      <td>9.0</td>\n",
       "      <td>111</td>\n",
       "      <td>5000</td>\n",
       "      <td>21</td>\n",
       "      <td>27</td>\n",
       "      <td>13495.0</td>\n",
       "    </tr>\n",
       "    <tr>\n",
       "      <th>1</th>\n",
       "      <td>2</td>\n",
       "      <td>3</td>\n",
       "      <td>alfa-romero stelvio</td>\n",
       "      <td>1</td>\n",
       "      <td>0</td>\n",
       "      <td>2</td>\n",
       "      <td>0</td>\n",
       "      <td>2</td>\n",
       "      <td>0</td>\n",
       "      <td>88.6</td>\n",
       "      <td>168.8</td>\n",
       "      <td>64.1</td>\n",
       "      <td>48.8</td>\n",
       "      <td>2548</td>\n",
       "      <td>dohc</td>\n",
       "      <td>four</td>\n",
       "      <td>130</td>\n",
       "      <td>0</td>\n",
       "      <td>3.47</td>\n",
       "      <td>2.68</td>\n",
       "      <td>9.0</td>\n",
       "      <td>111</td>\n",
       "      <td>5000</td>\n",
       "      <td>21</td>\n",
       "      <td>27</td>\n",
       "      <td>16500.0</td>\n",
       "    </tr>\n",
       "    <tr>\n",
       "      <th>2</th>\n",
       "      <td>3</td>\n",
       "      <td>1</td>\n",
       "      <td>alfa-romero Quadrifoglio</td>\n",
       "      <td>1</td>\n",
       "      <td>0</td>\n",
       "      <td>2</td>\n",
       "      <td>2</td>\n",
       "      <td>2</td>\n",
       "      <td>0</td>\n",
       "      <td>94.5</td>\n",
       "      <td>171.2</td>\n",
       "      <td>65.5</td>\n",
       "      <td>52.4</td>\n",
       "      <td>2823</td>\n",
       "      <td>ohcv</td>\n",
       "      <td>six</td>\n",
       "      <td>152</td>\n",
       "      <td>0</td>\n",
       "      <td>2.68</td>\n",
       "      <td>3.47</td>\n",
       "      <td>9.0</td>\n",
       "      <td>154</td>\n",
       "      <td>5000</td>\n",
       "      <td>19</td>\n",
       "      <td>26</td>\n",
       "      <td>16500.0</td>\n",
       "    </tr>\n",
       "    <tr>\n",
       "      <th>3</th>\n",
       "      <td>4</td>\n",
       "      <td>2</td>\n",
       "      <td>audi 100 ls</td>\n",
       "      <td>1</td>\n",
       "      <td>0</td>\n",
       "      <td>4</td>\n",
       "      <td>3</td>\n",
       "      <td>1</td>\n",
       "      <td>0</td>\n",
       "      <td>99.8</td>\n",
       "      <td>176.6</td>\n",
       "      <td>66.2</td>\n",
       "      <td>54.3</td>\n",
       "      <td>2337</td>\n",
       "      <td>ohc</td>\n",
       "      <td>four</td>\n",
       "      <td>109</td>\n",
       "      <td>0</td>\n",
       "      <td>3.19</td>\n",
       "      <td>3.40</td>\n",
       "      <td>10.0</td>\n",
       "      <td>102</td>\n",
       "      <td>5500</td>\n",
       "      <td>24</td>\n",
       "      <td>30</td>\n",
       "      <td>13950.0</td>\n",
       "    </tr>\n",
       "    <tr>\n",
       "      <th>4</th>\n",
       "      <td>5</td>\n",
       "      <td>2</td>\n",
       "      <td>audi 100ls</td>\n",
       "      <td>1</td>\n",
       "      <td>0</td>\n",
       "      <td>4</td>\n",
       "      <td>3</td>\n",
       "      <td>0</td>\n",
       "      <td>0</td>\n",
       "      <td>99.4</td>\n",
       "      <td>176.6</td>\n",
       "      <td>66.4</td>\n",
       "      <td>54.3</td>\n",
       "      <td>2824</td>\n",
       "      <td>ohc</td>\n",
       "      <td>five</td>\n",
       "      <td>136</td>\n",
       "      <td>0</td>\n",
       "      <td>3.19</td>\n",
       "      <td>3.40</td>\n",
       "      <td>8.0</td>\n",
       "      <td>115</td>\n",
       "      <td>5500</td>\n",
       "      <td>18</td>\n",
       "      <td>22</td>\n",
       "      <td>17450.0</td>\n",
       "    </tr>\n",
       "    <tr>\n",
       "      <th>5</th>\n",
       "      <td>6</td>\n",
       "      <td>2</td>\n",
       "      <td>audi fox</td>\n",
       "      <td>1</td>\n",
       "      <td>0</td>\n",
       "      <td>2</td>\n",
       "      <td>3</td>\n",
       "      <td>1</td>\n",
       "      <td>0</td>\n",
       "      <td>99.8</td>\n",
       "      <td>177.3</td>\n",
       "      <td>66.3</td>\n",
       "      <td>53.1</td>\n",
       "      <td>2507</td>\n",
       "      <td>ohc</td>\n",
       "      <td>five</td>\n",
       "      <td>136</td>\n",
       "      <td>0</td>\n",
       "      <td>3.19</td>\n",
       "      <td>3.40</td>\n",
       "      <td>8.5</td>\n",
       "      <td>110</td>\n",
       "      <td>5500</td>\n",
       "      <td>19</td>\n",
       "      <td>25</td>\n",
       "      <td>15250.0</td>\n",
       "    </tr>\n",
       "  </tbody>\n",
       "</table>\n",
       "</div>"
      ],
      "text/plain": [
       "   car_ID  symboling                   CarName  ...  citympg  highwaympg    price\n",
       "0       1          3        alfa-romero giulia  ...       21          27  13495.0\n",
       "1       2          3       alfa-romero stelvio  ...       21          27  16500.0\n",
       "2       3          1  alfa-romero Quadrifoglio  ...       19          26  16500.0\n",
       "3       4          2               audi 100 ls  ...       24          30  13950.0\n",
       "4       5          2                audi 100ls  ...       18          22  17450.0\n",
       "5       6          2                  audi fox  ...       19          25  15250.0\n",
       "\n",
       "[6 rows x 26 columns]"
      ]
     },
     "execution_count": 11,
     "metadata": {
      "tags": []
     },
     "output_type": "execute_result"
    }
   ],
   "source": [
    "car_price.head(6)"
   ]
  },
  {
   "cell_type": "code",
   "execution_count": 12,
   "metadata": {
    "colab": {
     "base_uri": "https://localhost:8080/"
    },
    "id": "hipwmuSQu7LH",
    "outputId": "e28ffc2e-9de2-4609-8afd-bdaf70c80d77"
   },
   "outputs": [
    {
     "name": "stdout",
     "output_type": "stream",
     "text": [
      "<class 'pandas.core.frame.DataFrame'>\n",
      "RangeIndex: 205 entries, 0 to 204\n",
      "Data columns (total 26 columns):\n",
      " #   Column            Non-Null Count  Dtype  \n",
      "---  ------            --------------  -----  \n",
      " 0   car_ID            205 non-null    int64  \n",
      " 1   symboling         205 non-null    int64  \n",
      " 2   CarName           205 non-null    object \n",
      " 3   fueltype          205 non-null    int64  \n",
      " 4   aspiration        205 non-null    int64  \n",
      " 5   doornumber        205 non-null    int64  \n",
      " 6   carbody           205 non-null    int64  \n",
      " 7   drivewheel        205 non-null    int64  \n",
      " 8   enginelocation    205 non-null    int64  \n",
      " 9   wheelbase         205 non-null    float64\n",
      " 10  carlength         205 non-null    float64\n",
      " 11  carwidth          205 non-null    float64\n",
      " 12  carheight         205 non-null    float64\n",
      " 13  curbweight        205 non-null    int64  \n",
      " 14  enginetype        205 non-null    object \n",
      " 15  cylindernumber    205 non-null    object \n",
      " 16  enginesize        205 non-null    int64  \n",
      " 17  fuelsystem        205 non-null    int64  \n",
      " 18  boreratio         205 non-null    float64\n",
      " 19  stroke            205 non-null    float64\n",
      " 20  compressionratio  205 non-null    float64\n",
      " 21  horsepower        205 non-null    int64  \n",
      " 22  peakrpm           205 non-null    int64  \n",
      " 23  citympg           205 non-null    int64  \n",
      " 24  highwaympg        205 non-null    int64  \n",
      " 25  price             205 non-null    float64\n",
      "dtypes: float64(8), int64(15), object(3)\n",
      "memory usage: 41.8+ KB\n"
     ]
    }
   ],
   "source": [
    "car_price.info()"
   ]
  },
  {
   "cell_type": "markdown",
   "metadata": {
    "id": "K1u8N_ouweeM"
   },
   "source": [
    "#  check missing values\n"
   ]
  },
  {
   "cell_type": "code",
   "execution_count": 13,
   "metadata": {
    "colab": {
     "base_uri": "https://localhost:8080/"
    },
    "id": "M3XPJJSxwIgZ",
    "outputId": "18017183-2fdc-4b78-fcf3-3a408ec72961"
   },
   "outputs": [
    {
     "data": {
      "text/plain": [
       "car_ID              0\n",
       "symboling           0\n",
       "CarName             0\n",
       "fueltype            0\n",
       "aspiration          0\n",
       "doornumber          0\n",
       "carbody             0\n",
       "drivewheel          0\n",
       "enginelocation      0\n",
       "wheelbase           0\n",
       "carlength           0\n",
       "carwidth            0\n",
       "carheight           0\n",
       "curbweight          0\n",
       "enginetype          0\n",
       "cylindernumber      0\n",
       "enginesize          0\n",
       "fuelsystem          0\n",
       "boreratio           0\n",
       "stroke              0\n",
       "compressionratio    0\n",
       "horsepower          0\n",
       "peakrpm             0\n",
       "citympg             0\n",
       "highwaympg          0\n",
       "price               0\n",
       "dtype: int64"
      ]
     },
     "execution_count": 13,
     "metadata": {
      "tags": []
     },
     "output_type": "execute_result"
    }
   ],
   "source": [
    "car_price.isnull().sum()"
   ]
  },
  {
   "cell_type": "markdown",
   "metadata": {
    "id": "JLsTGJRO6mgq"
   },
   "source": [
    "# Correlation\n",
    "*key problems*\n"
   ]
  },
  {
   "cell_type": "code",
   "execution_count": 14,
   "metadata": {
    "colab": {
     "base_uri": "https://localhost:8080/"
    },
    "id": "7-3HKFiozeut",
    "outputId": "91b89657-b3a0-4c71-f799-ea99481e3309"
   },
   "outputs": [
    {
     "data": {
      "text/plain": [
       "price               1.000000\n",
       "enginesize          0.874145\n",
       "curbweight          0.835305\n",
       "horsepower          0.808139\n",
       "carwidth            0.759325\n",
       "carlength           0.682920\n",
       "drivewheel          0.577992\n",
       "wheelbase           0.577816\n",
       "boreratio           0.553173\n",
       "enginelocation      0.324973\n",
       "fuelsystem          0.324973\n",
       "aspiration          0.177926\n",
       "carheight           0.119336\n",
       "stroke              0.079443\n",
       "compressionratio    0.067984\n",
       "doornumber          0.031835\n",
       "symboling          -0.079978\n",
       "carbody            -0.083976\n",
       "peakrpm            -0.085267\n",
       "fueltype           -0.105679\n",
       "car_ID             -0.109093\n",
       "citympg            -0.685751\n",
       "highwaympg         -0.697599\n",
       "Name: price, dtype: float64"
      ]
     },
     "execution_count": 14,
     "metadata": {
      "tags": []
     },
     "output_type": "execute_result"
    }
   ],
   "source": [
    "corr_relat = car_price.corr()\n",
    "corr_relat[\"price\"].sort_values(ascending=False)"
   ]
  },
  {
   "cell_type": "code",
   "execution_count": 15,
   "metadata": {
    "colab": {
     "base_uri": "https://localhost:8080/",
     "height": 1000
    },
    "id": "UCLJYcYaz7nr",
    "outputId": "aa458414-bace-4efd-b160-b6791ab8fff5"
   },
   "outputs": [
    {
     "data": {
      "text/plain": [
       "<matplotlib.axes._subplots.AxesSubplot at 0x7fe0d801ab50>"
      ]
     },
     "execution_count": 15,
     "metadata": {
      "tags": []
     },
     "output_type": "execute_result"
    },
    {
     "data": {
      "image/png": "[encoded data removed]",
      "text/plain": [
       "<Figure size 1440x1440 with 2 Axes>"
      ]
     },
     "metadata": {
      "needs_background": "light",
      "tags": []
     },
     "output_type": "display_data"
    }
   ],
   "source": [
    "plt.figure(figsize=(20,20))\n",
    "sns.heatmap(car_price.corr(), cmap=\"YlGnBu\", annot=True, linewidths=2, linecolor='black')"
   ]
  },
  {
   "cell_type": "code",
   "execution_count": 16,
   "metadata": {
    "id": "c6i85Sy8xSMn"
   },
   "outputs": [],
   "source": [
    "fin_data= car_price[['price', 'horsepower','carlength', 'carwidth','enginesize','enginelocation',\n",
    "                'drivewheel','wheelbase',  'boreratio', 'curbweight']]"
   ]
  },
  {
   "cell_type": "code",
   "execution_count": 17,
   "metadata": {
    "colab": {
     "base_uri": "https://localhost:8080/",
     "height": 227
    },
    "id": "GDUjUHx25Uoi",
    "outputId": "95b32693-e2f5-4067-a0a4-ac4aa670c9ce"
   },
   "outputs": [
    {
     "data": {
      "text/html": [
       "<div>\n",
       "<style scoped>\n",
       "    .dataframe tbody tr th:only-of-type {\n",
       "        vertical-align: middle;\n",
       "    }\n",
       "\n",
       "    .dataframe tbody tr th {\n",
       "        vertical-align: top;\n",
       "    }\n",
       "\n",
       "    .dataframe thead th {\n",
       "        text-align: right;\n",
       "    }\n",
       "</style>\n",
       "<table border=\"1\" class=\"dataframe\">\n",
       "  <thead>\n",
       "    <tr style=\"text-align: right;\">\n",
       "      <th></th>\n",
       "      <th>price</th>\n",
       "      <th>horsepower</th>\n",
       "      <th>carlength</th>\n",
       "      <th>carwidth</th>\n",
       "      <th>enginesize</th>\n",
       "      <th>enginelocation</th>\n",
       "      <th>drivewheel</th>\n",
       "      <th>wheelbase</th>\n",
       "      <th>boreratio</th>\n",
       "      <th>curbweight</th>\n",
       "    </tr>\n",
       "  </thead>\n",
       "  <tbody>\n",
       "    <tr>\n",
       "      <th>0</th>\n",
       "      <td>13495.0</td>\n",
       "      <td>111</td>\n",
       "      <td>168.8</td>\n",
       "      <td>64.1</td>\n",
       "      <td>130</td>\n",
       "      <td>0</td>\n",
       "      <td>2</td>\n",
       "      <td>88.6</td>\n",
       "      <td>3.47</td>\n",
       "      <td>2548</td>\n",
       "    </tr>\n",
       "    <tr>\n",
       "      <th>1</th>\n",
       "      <td>16500.0</td>\n",
       "      <td>111</td>\n",
       "      <td>168.8</td>\n",
       "      <td>64.1</td>\n",
       "      <td>130</td>\n",
       "      <td>0</td>\n",
       "      <td>2</td>\n",
       "      <td>88.6</td>\n",
       "      <td>3.47</td>\n",
       "      <td>2548</td>\n",
       "    </tr>\n",
       "    <tr>\n",
       "      <th>2</th>\n",
       "      <td>16500.0</td>\n",
       "      <td>154</td>\n",
       "      <td>171.2</td>\n",
       "      <td>65.5</td>\n",
       "      <td>152</td>\n",
       "      <td>0</td>\n",
       "      <td>2</td>\n",
       "      <td>94.5</td>\n",
       "      <td>2.68</td>\n",
       "      <td>2823</td>\n",
       "    </tr>\n",
       "    <tr>\n",
       "      <th>3</th>\n",
       "      <td>13950.0</td>\n",
       "      <td>102</td>\n",
       "      <td>176.6</td>\n",
       "      <td>66.2</td>\n",
       "      <td>109</td>\n",
       "      <td>0</td>\n",
       "      <td>1</td>\n",
       "      <td>99.8</td>\n",
       "      <td>3.19</td>\n",
       "      <td>2337</td>\n",
       "    </tr>\n",
       "    <tr>\n",
       "      <th>4</th>\n",
       "      <td>17450.0</td>\n",
       "      <td>115</td>\n",
       "      <td>176.6</td>\n",
       "      <td>66.4</td>\n",
       "      <td>136</td>\n",
       "      <td>0</td>\n",
       "      <td>0</td>\n",
       "      <td>99.4</td>\n",
       "      <td>3.19</td>\n",
       "      <td>2824</td>\n",
       "    </tr>\n",
       "    <tr>\n",
       "      <th>5</th>\n",
       "      <td>15250.0</td>\n",
       "      <td>110</td>\n",
       "      <td>177.3</td>\n",
       "      <td>66.3</td>\n",
       "      <td>136</td>\n",
       "      <td>0</td>\n",
       "      <td>1</td>\n",
       "      <td>99.8</td>\n",
       "      <td>3.19</td>\n",
       "      <td>2507</td>\n",
       "    </tr>\n",
       "  </tbody>\n",
       "</table>\n",
       "</div>"
      ],
      "text/plain": [
       "     price  horsepower  carlength  ...  wheelbase  boreratio  curbweight\n",
       "0  13495.0         111      168.8  ...       88.6       3.47        2548\n",
       "1  16500.0         111      168.8  ...       88.6       3.47        2548\n",
       "2  16500.0         154      171.2  ...       94.5       2.68        2823\n",
       "3  13950.0         102      176.6  ...       99.8       3.19        2337\n",
       "4  17450.0         115      176.6  ...       99.4       3.19        2824\n",
       "5  15250.0         110      177.3  ...       99.8       3.19        2507\n",
       "\n",
       "[6 rows x 10 columns]"
      ]
     },
     "execution_count": 17,
     "metadata": {
      "tags": []
     },
     "output_type": "execute_result"
    }
   ],
   "source": [
    "fin_data.head(6)"
   ]
  },
  {
   "cell_type": "markdown",
   "metadata": {
    "id": "YeoZEiqF8E_O"
   },
   "source": [
    " #  Split Data"
   ]
  },
  {
   "cell_type": "code",
   "execution_count": 18,
   "metadata": {
    "colab": {
     "base_uri": "https://localhost:8080/"
    },
    "id": "n8IbLxsgxXzC",
    "outputId": "7e0dccde-1843-41e7-d1c7-b21cb5f4bb13"
   },
   "outputs": [
    {
     "data": {
      "text/plain": [
       "0      13495.0\n",
       "1      16500.0\n",
       "2      16500.0\n",
       "3      13950.0\n",
       "4      17450.0\n",
       "        ...   \n",
       "200    16845.0\n",
       "201    19045.0\n",
       "202    21485.0\n",
       "203    22470.0\n",
       "204    22625.0\n",
       "Name: price, Length: 205, dtype: float64"
      ]
     },
     "execution_count": 18,
     "metadata": {
      "tags": []
     },
     "output_type": "execute_result"
    }
   ],
   "source": [
    "car_price.iloc[:,:-1]\n",
    "car_price.iloc[:,-1]"
   ]
  },
  {
   "cell_type": "code",
   "execution_count": 19,
   "metadata": {
    "id": "Bq3_rFu0Lj74"
   },
   "outputs": [],
   "source": [
    "#normalized\n",
    "mean = fin_data.mean(axis=0)\n",
    "fin_data-= mean\n",
    "std = fin_data.std(axis=0)\n",
    "fin_data/= std"
   ]
  },
  {
   "cell_type": "code",
   "execution_count": 20,
   "metadata": {
    "id": "9vQ-kQ5S-gM3"
   },
   "outputs": [],
   "source": [
    "from sklearn.model_selection import train_test_split"
   ]
  },
  {
   "cell_type": "code",
   "execution_count": 21,
   "metadata": {
    "id": "ZdY6lgkf5WnZ"
   },
   "outputs": [],
   "source": [
    "x = (fin_data.loc[:, fin_data.columns != 'price'])\n",
    "y = (fin_data.loc[:, fin_data.columns == 'price'])"
   ]
  },
  {
   "cell_type": "code",
   "execution_count": 22,
   "metadata": {
    "colab": {
     "base_uri": "https://localhost:8080/"
    },
    "id": "IK9AkhUx-d0x",
    "outputId": "2b658c2a-9f41-42bd-ab82-23ea7e17e479"
   },
   "outputs": [
    {
     "name": "stdout",
     "output_type": "stream",
     "text": [
      "        price\n",
      "69   1.865010\n",
      "64  -0.254318\n",
      "32  -0.986088\n",
      "183 -0.663639\n",
      "75   0.403849\n",
      "..        ...\n",
      "68   1.874023\n",
      "85  -0.787061\n",
      "105  0.803906\n",
      "122 -0.709452\n",
      "161 -0.615697\n",
      "\n",
      "[143 rows x 1 columns]\n",
      "     horsepower  carlength  carwidth  ...  wheelbase  boreratio  curbweight\n",
      "69     0.477515   1.090250  2.047449  ...   1.319115   0.923942    1.804244\n",
      "64    -0.508724   0.304016  0.276055  ...   0.007210   0.222431   -0.250760\n",
      "32    -1.115640  -1.949316 -0.889335  ...  -0.839717  -1.549809   -1.380052\n",
      "183   -0.483436  -0.190420 -0.190101  ...  -0.241886  -0.516003   -0.665602\n",
      "75     1.792500   0.352649  0.975290  ...   0.654859   1.662375    0.680714\n",
      "..          ...        ...       ...  ...        ...        ...         ...\n",
      "68     0.477515   1.365838  2.047449  ...   1.867126   0.923942    2.293988\n",
      "85    -0.407571  -0.133682 -0.236716  ...  -0.407950   0.074744   -0.365994\n",
      "105    2.424705  -0.271475  0.928674  ...  -1.238270   0.370117    1.120523\n",
      "122   -0.913335  -0.547063 -0.982566  ...  -0.839717  -1.328279   -0.700172\n",
      "161   -0.862759  -0.628118 -0.702873  ...  -0.507589  -0.516003   -0.832691\n",
      "\n",
      "[143 rows x 9 columns]\n"
     ]
    }
   ],
   "source": [
    " x_train, x_test, y_train, y_test = train_test_split(x, y, train_size=0.7, random_state=34)\n",
    "print(y_train)\n",
    "print(x_train)"
   ]
  },
  {
   "cell_type": "code",
   "execution_count": 22,
   "metadata": {
    "id": "4v3xAiy13JqP"
   },
   "outputs": [],
   "source": []
  },
  {
   "cell_type": "markdown",
   "metadata": {
    "id": "FtKjdFIJ-ueI"
   },
   "source": [
    " # Model "
   ]
  },
  {
   "cell_type": "code",
   "execution_count": 23,
   "metadata": {
    "id": "PeS44rwXTqIo"
   },
   "outputs": [],
   "source": [
    "from tensorflow.keras.models import Sequential\n",
    "from tensorflow.keras import models\n",
    "from tensorflow.keras import layers"
   ]
  },
  {
   "cell_type": "code",
   "execution_count": 24,
   "metadata": {
    "id": "v2-X1oUAE_uq"
   },
   "outputs": [],
   "source": [
    "network = models.Sequential()\n",
    "network.add(layers.Dense (10, activation='relu',input_shape =(9,)))\n",
    "network.add(layers.Dense(8,activation='relu'))\n",
    "network.add(layers.Dense(6,activation='tanh'))"
   ]
  },
  {
   "cell_type": "markdown",
   "metadata": {
    "id": "ZfjdgHEbpuwk"
   },
   "source": [
    "# Compile"
   ]
  },
  {
   "cell_type": "code",
   "execution_count": 25,
   "metadata": {
    "id": "vYzQv03TYAp1"
   },
   "outputs": [],
   "source": [
    "network.compile(optimizer='rmsprop',\n",
    "                loss='mse',\n",
    "                metrics= 'mae')"
   ]
  },
  {
   "cell_type": "code",
   "execution_count": 26,
   "metadata": {
    "id": "Y7QeCPRRrVCp"
   },
   "outputs": [],
   "source": [
    "t1=x_train.astype('float32')\n",
    "t2=x_test.astype('float32')"
   ]
  },
  {
   "cell_type": "code",
   "execution_count": 26,
   "metadata": {
    "id": "OtXAevmCMmZV"
   },
   "outputs": [],
   "source": []
  },
  {
   "cell_type": "markdown",
   "metadata": {
    "id": "SPTrRxXGp13h"
   },
   "source": [
    "**train with Epochs**"
   ]
  },
  {
   "cell_type": "code",
   "execution_count": 27,
   "metadata": {
    "colab": {
     "base_uri": "https://localhost:8080/"
    },
    "id": "wA9lOAswFfcQ",
    "outputId": "deb7dec0-b715-4996-8234-fa3cf8a4e4bd"
   },
   "outputs": [
    {
     "name": "stdout",
     "output_type": "stream",
     "text": [
      "Epoch 1/100\n",
      "6/6 [==============================] - 1s 92ms/step - loss: 1.2776 - mae: 0.7971 - val_loss: 0.9191 - val_mae: 0.7523\n",
      "Epoch 2/100\n",
      "6/6 [==============================] - 0s 8ms/step - loss: 1.0375 - mae: 0.7463 - val_loss: 0.8915 - val_mae: 0.7386\n",
      "Epoch 3/100\n",
      "6/6 [==============================] - 0s 8ms/step - loss: 1.4494 - mae: 0.8433 - val_loss: 0.8696 - val_mae: 0.7273\n",
      "Epoch 4/100\n",
      "6/6 [==============================] - 0s 8ms/step - loss: 1.0300 - mae: 0.7285 - val_loss: 0.8487 - val_mae: 0.7179\n",
      "Epoch 5/100\n",
      "6/6 [==============================] - 0s 9ms/step - loss: 0.9852 - mae: 0.7128 - val_loss: 0.8284 - val_mae: 0.7086\n",
      "Epoch 6/100\n",
      "6/6 [==============================] - 0s 8ms/step - loss: 0.9678 - mae: 0.7130 - val_loss: 0.8080 - val_mae: 0.6992\n",
      "Epoch 7/100\n",
      "6/6 [==============================] - 0s 8ms/step - loss: 0.8692 - mae: 0.6748 - val_loss: 0.7891 - val_mae: 0.6894\n",
      "Epoch 8/100\n",
      "6/6 [==============================] - 0s 8ms/step - loss: 0.8133 - mae: 0.6764 - val_loss: 0.7706 - val_mae: 0.6801\n",
      "Epoch 9/100\n",
      "6/6 [==============================] - 0s 9ms/step - loss: 0.9036 - mae: 0.6977 - val_loss: 0.7536 - val_mae: 0.6715\n",
      "Epoch 10/100\n",
      "6/6 [==============================] - 0s 8ms/step - loss: 1.0704 - mae: 0.7468 - val_loss: 0.7389 - val_mae: 0.6643\n",
      "Epoch 11/100\n",
      "6/6 [==============================] - 0s 8ms/step - loss: 0.7671 - mae: 0.6573 - val_loss: 0.7235 - val_mae: 0.6563\n",
      "Epoch 12/100\n",
      "6/6 [==============================] - 0s 8ms/step - loss: 0.6872 - mae: 0.6112 - val_loss: 0.7076 - val_mae: 0.6486\n",
      "Epoch 13/100\n",
      "6/6 [==============================] - 0s 8ms/step - loss: 0.6545 - mae: 0.6135 - val_loss: 0.6942 - val_mae: 0.6421\n",
      "Epoch 14/100\n",
      "6/6 [==============================] - 0s 8ms/step - loss: 0.7856 - mae: 0.6422 - val_loss: 0.6811 - val_mae: 0.6352\n",
      "Epoch 15/100\n",
      "6/6 [==============================] - 0s 8ms/step - loss: 0.8104 - mae: 0.6414 - val_loss: 0.6689 - val_mae: 0.6288\n",
      "Epoch 16/100\n",
      "6/6 [==============================] - 0s 8ms/step - loss: 0.4958 - mae: 0.5340 - val_loss: 0.6559 - val_mae: 0.6229\n",
      "Epoch 17/100\n",
      "6/6 [==============================] - 0s 9ms/step - loss: 0.6958 - mae: 0.6121 - val_loss: 0.6444 - val_mae: 0.6172\n",
      "Epoch 18/100\n",
      "6/6 [==============================] - 0s 9ms/step - loss: 0.7431 - mae: 0.6229 - val_loss: 0.6331 - val_mae: 0.6106\n",
      "Epoch 19/100\n",
      "6/6 [==============================] - 0s 9ms/step - loss: 0.6216 - mae: 0.5768 - val_loss: 0.6205 - val_mae: 0.6033\n",
      "Epoch 20/100\n",
      "6/6 [==============================] - 0s 8ms/step - loss: 0.6308 - mae: 0.5636 - val_loss: 0.6080 - val_mae: 0.5966\n",
      "Epoch 21/100\n",
      "6/6 [==============================] - 0s 9ms/step - loss: 0.6359 - mae: 0.5908 - val_loss: 0.5953 - val_mae: 0.5885\n",
      "Epoch 22/100\n",
      "6/6 [==============================] - 0s 8ms/step - loss: 0.6730 - mae: 0.5739 - val_loss: 0.5830 - val_mae: 0.5801\n",
      "Epoch 23/100\n",
      "6/6 [==============================] - 0s 9ms/step - loss: 0.5680 - mae: 0.5652 - val_loss: 0.5711 - val_mae: 0.5736\n",
      "Epoch 24/100\n",
      "6/6 [==============================] - 0s 8ms/step - loss: 0.6859 - mae: 0.5875 - val_loss: 0.5596 - val_mae: 0.5663\n",
      "Epoch 25/100\n",
      "6/6 [==============================] - 0s 11ms/step - loss: 0.5465 - mae: 0.5275 - val_loss: 0.5486 - val_mae: 0.5594\n",
      "Epoch 26/100\n",
      "6/6 [==============================] - 0s 8ms/step - loss: 0.7246 - mae: 0.5869 - val_loss: 0.5377 - val_mae: 0.5512\n",
      "Epoch 27/100\n",
      "6/6 [==============================] - 0s 9ms/step - loss: 0.6944 - mae: 0.5723 - val_loss: 0.5269 - val_mae: 0.5433\n",
      "Epoch 28/100\n",
      "6/6 [==============================] - 0s 8ms/step - loss: 0.5841 - mae: 0.5363 - val_loss: 0.5171 - val_mae: 0.5364\n",
      "Epoch 29/100\n",
      "6/6 [==============================] - 0s 9ms/step - loss: 0.5608 - mae: 0.5007 - val_loss: 0.5074 - val_mae: 0.5294\n",
      "Epoch 30/100\n",
      "6/6 [==============================] - 0s 9ms/step - loss: 0.5608 - mae: 0.5088 - val_loss: 0.4977 - val_mae: 0.5220\n",
      "Epoch 31/100\n",
      "6/6 [==============================] - 0s 10ms/step - loss: 0.5538 - mae: 0.5022 - val_loss: 0.4879 - val_mae: 0.5158\n",
      "Epoch 32/100\n",
      "6/6 [==============================] - 0s 9ms/step - loss: 0.4728 - mae: 0.4654 - val_loss: 0.4795 - val_mae: 0.5093\n",
      "Epoch 33/100\n",
      "6/6 [==============================] - 0s 10ms/step - loss: 0.5762 - mae: 0.4998 - val_loss: 0.4708 - val_mae: 0.5019\n",
      "Epoch 34/100\n",
      "6/6 [==============================] - 0s 11ms/step - loss: 0.5111 - mae: 0.4594 - val_loss: 0.4618 - val_mae: 0.4946\n",
      "Epoch 35/100\n",
      "6/6 [==============================] - 0s 9ms/step - loss: 0.4169 - mae: 0.4409 - val_loss: 0.4534 - val_mae: 0.4889\n",
      "Epoch 36/100\n",
      "6/6 [==============================] - 0s 10ms/step - loss: 0.5032 - mae: 0.4660 - val_loss: 0.4460 - val_mae: 0.4820\n",
      "Epoch 37/100\n",
      "6/6 [==============================] - 0s 10ms/step - loss: 0.5269 - mae: 0.4680 - val_loss: 0.4379 - val_mae: 0.4755\n",
      "Epoch 38/100\n",
      "6/6 [==============================] - 0s 9ms/step - loss: 0.4738 - mae: 0.4596 - val_loss: 0.4310 - val_mae: 0.4701\n",
      "Epoch 39/100\n",
      "6/6 [==============================] - 0s 8ms/step - loss: 0.4854 - mae: 0.4428 - val_loss: 0.4240 - val_mae: 0.4641\n",
      "Epoch 40/100\n",
      "6/6 [==============================] - 0s 7ms/step - loss: 0.4860 - mae: 0.4542 - val_loss: 0.4172 - val_mae: 0.4597\n",
      "Epoch 41/100\n",
      "6/6 [==============================] - 0s 8ms/step - loss: 0.6172 - mae: 0.4959 - val_loss: 0.4101 - val_mae: 0.4532\n",
      "Epoch 42/100\n",
      "6/6 [==============================] - 0s 8ms/step - loss: 0.4874 - mae: 0.4472 - val_loss: 0.4026 - val_mae: 0.4453\n",
      "Epoch 43/100\n",
      "6/6 [==============================] - 0s 11ms/step - loss: 0.3937 - mae: 0.3999 - val_loss: 0.3964 - val_mae: 0.4404\n",
      "Epoch 44/100\n",
      "6/6 [==============================] - 0s 10ms/step - loss: 0.5849 - mae: 0.4740 - val_loss: 0.3906 - val_mae: 0.4351\n",
      "Epoch 45/100\n",
      "6/6 [==============================] - 0s 8ms/step - loss: 0.4220 - mae: 0.3930 - val_loss: 0.3842 - val_mae: 0.4289\n",
      "Epoch 46/100\n",
      "6/6 [==============================] - 0s 8ms/step - loss: 0.4367 - mae: 0.4104 - val_loss: 0.3792 - val_mae: 0.4235\n",
      "Epoch 47/100\n",
      "6/6 [==============================] - 0s 8ms/step - loss: 0.4242 - mae: 0.4001 - val_loss: 0.3738 - val_mae: 0.4174\n",
      "Epoch 48/100\n",
      "6/6 [==============================] - 0s 8ms/step - loss: 0.4990 - mae: 0.4225 - val_loss: 0.3688 - val_mae: 0.4133\n",
      "Epoch 49/100\n",
      "6/6 [==============================] - 0s 8ms/step - loss: 0.4481 - mae: 0.4046 - val_loss: 0.3638 - val_mae: 0.4088\n",
      "Epoch 50/100\n",
      "6/6 [==============================] - 0s 8ms/step - loss: 0.4518 - mae: 0.3906 - val_loss: 0.3596 - val_mae: 0.4052\n",
      "Epoch 51/100\n",
      "6/6 [==============================] - 0s 8ms/step - loss: 0.3831 - mae: 0.3823 - val_loss: 0.3558 - val_mae: 0.4018\n",
      "Epoch 52/100\n",
      "6/6 [==============================] - 0s 8ms/step - loss: 0.4345 - mae: 0.3866 - val_loss: 0.3513 - val_mae: 0.3969\n",
      "Epoch 53/100\n",
      "6/6 [==============================] - 0s 9ms/step - loss: 0.3262 - mae: 0.3508 - val_loss: 0.3477 - val_mae: 0.3932\n",
      "Epoch 54/100\n",
      "6/6 [==============================] - 0s 9ms/step - loss: 0.4385 - mae: 0.3841 - val_loss: 0.3439 - val_mae: 0.3886\n",
      "Epoch 55/100\n",
      "6/6 [==============================] - 0s 8ms/step - loss: 0.4392 - mae: 0.3988 - val_loss: 0.3397 - val_mae: 0.3837\n",
      "Epoch 56/100\n",
      "6/6 [==============================] - 0s 11ms/step - loss: 0.3614 - mae: 0.3598 - val_loss: 0.3359 - val_mae: 0.3793\n",
      "Epoch 57/100\n",
      "6/6 [==============================] - 0s 9ms/step - loss: 0.4313 - mae: 0.3596 - val_loss: 0.3327 - val_mae: 0.3755\n",
      "Epoch 58/100\n",
      "6/6 [==============================] - 0s 9ms/step - loss: 0.4352 - mae: 0.3844 - val_loss: 0.3297 - val_mae: 0.3731\n",
      "Epoch 59/100\n",
      "6/6 [==============================] - 0s 9ms/step - loss: 0.3999 - mae: 0.3632 - val_loss: 0.3272 - val_mae: 0.3711\n",
      "Epoch 60/100\n",
      "6/6 [==============================] - 0s 8ms/step - loss: 0.3813 - mae: 0.3487 - val_loss: 0.3248 - val_mae: 0.3677\n",
      "Epoch 61/100\n",
      "6/6 [==============================] - 0s 8ms/step - loss: 0.5427 - mae: 0.4099 - val_loss: 0.3217 - val_mae: 0.3639\n",
      "Epoch 62/100\n",
      "6/6 [==============================] - 0s 9ms/step - loss: 0.3368 - mae: 0.3425 - val_loss: 0.3193 - val_mae: 0.3612\n",
      "Epoch 63/100\n",
      "6/6 [==============================] - 0s 8ms/step - loss: 0.3381 - mae: 0.3349 - val_loss: 0.3166 - val_mae: 0.3576\n",
      "Epoch 64/100\n",
      "6/6 [==============================] - 0s 8ms/step - loss: 0.3795 - mae: 0.3517 - val_loss: 0.3149 - val_mae: 0.3566\n",
      "Epoch 65/100\n",
      "6/6 [==============================] - 0s 9ms/step - loss: 0.3220 - mae: 0.3178 - val_loss: 0.3118 - val_mae: 0.3526\n",
      "Epoch 66/100\n",
      "6/6 [==============================] - 0s 9ms/step - loss: 0.4374 - mae: 0.3771 - val_loss: 0.3093 - val_mae: 0.3498\n",
      "Epoch 67/100\n",
      "6/6 [==============================] - 0s 11ms/step - loss: 0.3159 - mae: 0.3220 - val_loss: 0.3078 - val_mae: 0.3488\n",
      "Epoch 68/100\n",
      "6/6 [==============================] - 0s 10ms/step - loss: 0.3399 - mae: 0.3295 - val_loss: 0.3058 - val_mae: 0.3468\n",
      "Epoch 69/100\n",
      "6/6 [==============================] - 0s 9ms/step - loss: 0.3751 - mae: 0.3496 - val_loss: 0.3036 - val_mae: 0.3443\n",
      "Epoch 70/100\n",
      "6/6 [==============================] - 0s 9ms/step - loss: 0.4976 - mae: 0.4076 - val_loss: 0.3015 - val_mae: 0.3416\n",
      "Epoch 71/100\n",
      "6/6 [==============================] - 0s 9ms/step - loss: 0.3984 - mae: 0.3481 - val_loss: 0.3005 - val_mae: 0.3415\n",
      "Epoch 72/100\n",
      "6/6 [==============================] - 0s 9ms/step - loss: 0.4695 - mae: 0.3805 - val_loss: 0.2984 - val_mae: 0.3392\n",
      "Epoch 73/100\n",
      "6/6 [==============================] - 0s 9ms/step - loss: 0.3945 - mae: 0.3330 - val_loss: 0.2963 - val_mae: 0.3365\n",
      "Epoch 74/100\n",
      "6/6 [==============================] - 0s 8ms/step - loss: 0.2959 - mae: 0.3071 - val_loss: 0.2945 - val_mae: 0.3346\n",
      "Epoch 75/100\n",
      "6/6 [==============================] - 0s 8ms/step - loss: 0.3898 - mae: 0.3333 - val_loss: 0.2937 - val_mae: 0.3344\n",
      "Epoch 76/100\n",
      "6/6 [==============================] - 0s 10ms/step - loss: 0.4694 - mae: 0.3590 - val_loss: 0.2931 - val_mae: 0.3338\n",
      "Epoch 77/100\n",
      "6/6 [==============================] - 0s 9ms/step - loss: 0.3470 - mae: 0.3241 - val_loss: 0.2917 - val_mae: 0.3319\n",
      "Epoch 78/100\n",
      "6/6 [==============================] - 0s 9ms/step - loss: 0.3514 - mae: 0.3205 - val_loss: 0.2901 - val_mae: 0.3294\n",
      "Epoch 79/100\n",
      "6/6 [==============================] - 0s 10ms/step - loss: 0.4242 - mae: 0.3467 - val_loss: 0.2895 - val_mae: 0.3284\n",
      "Epoch 80/100\n",
      "6/6 [==============================] - 0s 8ms/step - loss: 0.3615 - mae: 0.3410 - val_loss: 0.2889 - val_mae: 0.3278\n",
      "Epoch 81/100\n",
      "6/6 [==============================] - 0s 8ms/step - loss: 0.3166 - mae: 0.2761 - val_loss: 0.2891 - val_mae: 0.3284\n",
      "Epoch 82/100\n",
      "6/6 [==============================] - 0s 8ms/step - loss: 0.3825 - mae: 0.3226 - val_loss: 0.2880 - val_mae: 0.3268\n",
      "Epoch 83/100\n",
      "6/6 [==============================] - 0s 9ms/step - loss: 0.3134 - mae: 0.3075 - val_loss: 0.2878 - val_mae: 0.3265\n",
      "Epoch 84/100\n",
      "6/6 [==============================] - 0s 8ms/step - loss: 0.4582 - mae: 0.3695 - val_loss: 0.2870 - val_mae: 0.3252\n",
      "Epoch 85/100\n",
      "6/6 [==============================] - 0s 9ms/step - loss: 0.2801 - mae: 0.2838 - val_loss: 0.2859 - val_mae: 0.3235\n",
      "Epoch 86/100\n",
      "6/6 [==============================] - 0s 9ms/step - loss: 0.4817 - mae: 0.3478 - val_loss: 0.2853 - val_mae: 0.3228\n",
      "Epoch 87/100\n",
      "6/6 [==============================] - 0s 8ms/step - loss: 0.3256 - mae: 0.2880 - val_loss: 0.2841 - val_mae: 0.3207\n",
      "Epoch 88/100\n",
      "6/6 [==============================] - 0s 8ms/step - loss: 0.4040 - mae: 0.3450 - val_loss: 0.2835 - val_mae: 0.3193\n",
      "Epoch 89/100\n",
      "6/6 [==============================] - 0s 8ms/step - loss: 0.4223 - mae: 0.3202 - val_loss: 0.2837 - val_mae: 0.3197\n",
      "Epoch 90/100\n",
      "6/6 [==============================] - 0s 7ms/step - loss: 0.4121 - mae: 0.3435 - val_loss: 0.2834 - val_mae: 0.3199\n",
      "Epoch 91/100\n",
      "6/6 [==============================] - 0s 9ms/step - loss: 0.5786 - mae: 0.4298 - val_loss: 0.2827 - val_mae: 0.3180\n",
      "Epoch 92/100\n",
      "6/6 [==============================] - 0s 11ms/step - loss: 0.4971 - mae: 0.3686 - val_loss: 0.2824 - val_mae: 0.3175\n",
      "Epoch 93/100\n",
      "6/6 [==============================] - 0s 8ms/step - loss: 0.5026 - mae: 0.3791 - val_loss: 0.2817 - val_mae: 0.3161\n",
      "Epoch 94/100\n",
      "6/6 [==============================] - 0s 8ms/step - loss: 0.3939 - mae: 0.3245 - val_loss: 0.2815 - val_mae: 0.3161\n",
      "Epoch 95/100\n",
      "6/6 [==============================] - 0s 9ms/step - loss: 0.4602 - mae: 0.3426 - val_loss: 0.2807 - val_mae: 0.3145\n",
      "Epoch 96/100\n",
      "6/6 [==============================] - 0s 8ms/step - loss: 0.3706 - mae: 0.3304 - val_loss: 0.2801 - val_mae: 0.3134\n",
      "Epoch 97/100\n",
      "6/6 [==============================] - 0s 9ms/step - loss: 0.4249 - mae: 0.3305 - val_loss: 0.2797 - val_mae: 0.3129\n",
      "Epoch 98/100\n",
      "6/6 [==============================] - 0s 11ms/step - loss: 0.3251 - mae: 0.2887 - val_loss: 0.2805 - val_mae: 0.3141\n",
      "Epoch 99/100\n",
      "6/6 [==============================] - 0s 8ms/step - loss: 0.3892 - mae: 0.3177 - val_loss: 0.2799 - val_mae: 0.3130\n",
      "Epoch 100/100\n",
      "6/6 [==============================] - 0s 9ms/step - loss: 0.4697 - mae: 0.3480 - val_loss: 0.2796 - val_mae: 0.3126\n"
     ]
    },
    {
     "data": {
      "text/plain": [
       "<tensorflow.python.keras.callbacks.History at 0x7fe0c7051b90>"
      ]
     },
     "execution_count": 27,
     "metadata": {
      "tags": []
     },
     "output_type": "execute_result"
    }
   ],
   "source": [
    "network.fit(x_train, y_train,epochs=100, batch_size=20,verbose = 1, validation_split=0.2)"
   ]
  },
  {
   "cell_type": "markdown",
   "metadata": {
    "id": "sxs9v7IM2Ooz"
   },
   "source": [
    "# Evaluation"
   ]
  },
  {
   "cell_type": "code",
   "execution_count": 28,
   "metadata": {
    "colab": {
     "base_uri": "https://localhost:8080/"
    },
    "id": "zVgIEDzWm_mA",
    "outputId": "37244e88-0f28-4634-d5a2-5ab460dbe600"
   },
   "outputs": [
    {
     "name": "stdout",
     "output_type": "stream",
     "text": [
      "2/2 [==============================] - 0s 3ms/step - loss: 0.2748 - mae: 0.3217\n"
     ]
    },
    {
     "data": {
      "text/plain": [
       "[0.2748044431209564, 0.32167720794677734]"
      ]
     },
     "execution_count": 28,
     "metadata": {
      "tags": []
     },
     "output_type": "execute_result"
    }
   ],
   "source": [
    "network.evaluate(x_test,y_test)"
   ]
  },
  {
   "cell_type": "markdown",
   "metadata": {
    "id": "b3-icbHM5L8C"
   },
   "source": [
    "***prediction***"
   ]
  },
  {
   "cell_type": "code",
   "execution_count": 29,
   "metadata": {
    "id": "k38f8yW44OMz"
   },
   "outputs": [],
   "source": [
    "prediction = network.predict(x_test)"
   ]
  },
  {
   "cell_type": "code",
   "execution_count": 30,
   "metadata": {
    "colab": {
     "base_uri": "https://localhost:8080/"
    },
    "id": "JMZ-pBZY1css",
    "outputId": "94a6611b-ae93-45ea-986b-14b235e56749"
   },
   "outputs": [
    {
     "data": {
      "text/plain": [
       "True"
      ]
     },
     "execution_count": 30,
     "metadata": {
      "tags": []
     },
     "output_type": "execute_result"
    }
   ],
   "source": [
    "len(x) == len(y)"
   ]
  },
  {
   "cell_type": "code",
   "execution_count": 31,
   "metadata": {
    "colab": {
     "base_uri": "https://localhost:8080/"
    },
    "id": "RCShln4h5mSN",
    "outputId": "533db49c-673c-48f0-8ffd-360437c1b0c6"
   },
   "outputs": [
    {
     "data": {
      "text/plain": [
       "-58.037674"
      ]
     },
     "execution_count": 31,
     "metadata": {
      "tags": []
     },
     "output_type": "execute_result"
    }
   ],
   "source": [
    "network.predict(x_test).sum()"
   ]
  },
  {
   "cell_type": "code",
   "execution_count": 32,
   "metadata": {
    "colab": {
     "base_uri": "https://localhost:8080/"
    },
    "id": "fn8c-m9HJRF2",
    "outputId": "a489878e-3359-4ea6-a08f-ab29bfcfa914"
   },
   "outputs": [
    {
     "name": "stdout",
     "output_type": "stream",
     "text": [
      "86.48698090966754 %\n"
     ]
    }
   ],
   "source": [
    "from sklearn.linear_model import LinearRegression\n",
    "regressor = LinearRegression()\n",
    "regressor.fit(x_train,y_train)\n",
    "r2_score = regressor.score(x_test,y_test)\n",
    "print(r2_score*100,'%')"
   ]
  },
  {
   "cell_type": "code",
   "execution_count": 32,
   "metadata": {
    "id": "8ZIIA2bvbP71"
   },
   "outputs": [],
   "source": []
  }
 ],
 "metadata": {
  "colab": {
   "collapsed_sections": [],
   "name": "PIAIC64041_Car_Price_Prediction_assignment.ipynb",
   "provenance": []
  },
  "kernelspec": {
   "display_name": "Python 3",
   "language": "python",
   "name": "python3"
  },
  "language_info": {
   "codemirror_mode": {
    "name": "ipython",
    "version": 3
   },
   "file_extension": ".py",
   "mimetype": "text/x-python",
   "name": "python",
   "nbconvert_exporter": "python",
   "pygments_lexer": "ipython3",
   "version": "3.8.5"
  }
 },
 "nbformat": 4,
 "nbformat_minor": 1
}
